{
 "cells": [
  {
   "cell_type": "code",
   "execution_count": 141,
   "metadata": {},
   "outputs": [],
   "source": [
    "import os\n",
    "from parsons import VAN, Redshift, Table\n",
    "from datetime import datetime, timedelta\n",
    "from canalespy import logger, setup_environment"
   ]
  },
  {
   "cell_type": "code",
   "execution_count": 142,
   "metadata": {},
   "outputs": [],
   "source": [
    "setup_environment()\n",
    "rs = Redshift()\n",
    "van = VAN(api_key='f49f4c62-439c-362d-eae2-e6b32ccb8431', db='EveryAction')"
   ]
  },
  {
   "cell_type": "code",
   "execution_count": 3,
   "metadata": {},
   "outputs": [],
   "source": [
    "LOG_TABLE = 'txop_newmode.calls_to_ea_log'\n",
    "SOURCE_TABLE = 'txop_newmode.call_summary_to_ea_test'"
   ]
  },
  {
   "cell_type": "code",
   "execution_count": 4,
   "metadata": {},
   "outputs": [],
   "source": [
    "if not rs.table_exists(LOG_TABLE): #if Log Table does not already exist, create it\n",
    "    # standard sql\n",
    "    sql = \"(outreach_id int, vanid int, date_created timestamp, sr_load varchar(100), event_load varchar(100));\"\n",
    "    rs.query(f\"create table {LOG_TABLE} {sql}\")\n",
    "    logger.info(f\"Creating {LOG_TABLE}...\")"
   ]
  },
  {
   "cell_type": "code",
   "execution_count": 6,
   "metadata": {},
   "outputs": [],
   "source": [
    "source_tbl = rs.query(f'''\n",
    "  select * from\n",
    "    (select *, row_number() over(partition by outreach_id order by action_date desc) as dup\n",
    "    from {SOURCE_TABLE}) a\n",
    "  left join {LOG_TABLE} l using(outreach_id)\n",
    "  where\n",
    "  l.outreach_id is null\n",
    "  and dup=1\n",
    "  ;\n",
    "  '''\n",
    ")"
   ]
  },
  {
   "cell_type": "code",
   "execution_count": 50,
   "metadata": {},
   "outputs": [
    {
     "data": {
      "text/html": [
       "<table class='petl'>\n",
       "<thead>\n",
       "<tr>\n",
       "<th>outreach_id</th>\n",
       "<th>action_date</th>\n",
       "<th>first_name</th>\n",
       "<th>last_name</th>\n",
       "<th>email</th>\n",
       "<th>phone</th>\n",
       "<th>zip</th>\n",
       "<th>parent_url</th>\n",
       "<th>survey_response_id</th>\n",
       "<th>event_type</th>\n",
       "<th>call_status</th>\n",
       "<th>call_hangup_reason</th>\n",
       "<th>day_rank</th>\n",
       "<th>dup</th>\n",
       "<th>vanid</th>\n",
       "<th>date_created</th>\n",
       "<th>sr_load</th>\n",
       "<th>event_load</th>\n",
       "</tr>\n",
       "</thead>\n",
       "<tbody>\n",
       "<tr>\n",
       "<td style='text-align: right'>9247520</td>\n",
       "<td>2021-01-24 00:29:34</td>\n",
       "<td>Damaris </td>\n",
       "<td>Gonzalez</td>\n",
       "<td>gonzalezmrs34@gmail.com</td>\n",
       "<td>7138551968</td>\n",
       "<td>77036</td>\n",
       "<td>https://organizetexas.org/immigration-2021/</td>\n",
       "<td style='text-align: right'>695591</td>\n",
       "<td>MDW</td>\n",
       "<td>completed</td>\n",
       "<td>User hung up phone</td>\n",
       "<td style='text-align: right'>1</td>\n",
       "<td style='text-align: right'>1</td>\n",
       "<td>None</td>\n",
       "<td>None</td>\n",
       "<td>None</td>\n",
       "<td>None</td>\n",
       "</tr>\n",
       "<tr>\n",
       "<td style='text-align: right'>9260078</td>\n",
       "<td>2021-01-26 05:04:02</td>\n",
       "<td>Alfonso</td>\n",
       "<td>Ayala</td>\n",
       "<td>alfonso.ayala3@gmail.com</td>\n",
       "<td>3238734535</td>\n",
       "<td>95112</td>\n",
       "<td>https://organizetexas.org/immigration-2021/?emci=8f1950d0-7a5f-eb11-a607-00155d43c992&emdi=1d896589-8e5f-eb11-a607-00155d43c992&ceid=97003</td>\n",
       "<td style='text-align: right'>695591</td>\n",
       "<td>MDW</td>\n",
       "<td>completed</td>\n",
       "<td>User hung up phone</td>\n",
       "<td style='text-align: right'>1</td>\n",
       "<td style='text-align: right'>1</td>\n",
       "<td>None</td>\n",
       "<td>None</td>\n",
       "<td>None</td>\n",
       "<td>None</td>\n",
       "</tr>\n",
       "<tr>\n",
       "<td style='text-align: right'>9197954</td>\n",
       "<td>2021-01-21 01:33:28</td>\n",
       "<td>Adelina </td>\n",
       "<td>Cáceres </td>\n",
       "<td>prosperitygroup7@gmail.com</td>\n",
       "<td>8326925745</td>\n",
       "<td>77093</td>\n",
       "<td>https://organizetexas.org/immigration-2021/</td>\n",
       "<td style='text-align: right'>695591</td>\n",
       "<td>MDW</td>\n",
       "<td>completed</td>\n",
       "<td>User hung up phone</td>\n",
       "<td style='text-align: right'>1</td>\n",
       "<td style='text-align: right'>1</td>\n",
       "<td>None</td>\n",
       "<td>None</td>\n",
       "<td>None</td>\n",
       "<td>None</td>\n",
       "</tr>\n",
       "<tr>\n",
       "<td style='text-align: right'>10218200</td>\n",
       "<td>2021-03-23 21:40:33</td>\n",
       "<td>Gina</td>\n",
       "<td>Villarreal</td>\n",
       "<td>ginalvilla1972@gmail.com</td>\n",
       "<td>2103287149</td>\n",
       "<td>78226</td>\n",
       "<td>https://organizetexas.org/r2j/letvotersdecide</td>\n",
       "<td style='text-align: right'>914328</td>\n",
       "<td>MDW</td>\n",
       "<td>completed</td>\n",
       "<td>User hung up phone</td>\n",
       "<td style='text-align: right'>1</td>\n",
       "<td style='text-align: right'>1</td>\n",
       "<td>None</td>\n",
       "<td>None</td>\n",
       "<td>None</td>\n",
       "<td>None</td>\n",
       "</tr>\n",
       "<tr>\n",
       "<td style='text-align: right'>9247533</td>\n",
       "<td>2021-01-24 00:32:19</td>\n",
       "<td>Damaris </td>\n",
       "<td>Gonzalez</td>\n",
       "<td>gonzalezmrs34@gmail.com</td>\n",
       "<td>7138551968</td>\n",
       "<td>77036</td>\n",
       "<td>https://organizetexas.org/immigration-2021/</td>\n",
       "<td style='text-align: right'>695591</td>\n",
       "<td>MDW</td>\n",
       "<td>completed</td>\n",
       "<td>User hung up phone</td>\n",
       "<td style='text-align: right'>3</td>\n",
       "<td style='text-align: right'>1</td>\n",
       "<td>None</td>\n",
       "<td>None</td>\n",
       "<td>None</td>\n",
       "<td>None</td>\n",
       "</tr>\n",
       "</tbody>\n",
       "</table>\n",
       "<p><strong>...</strong></p>"
      ],
      "text/plain": [
       "{'outreach_id': 9247520, 'action_date': '2021-01-24 00:29:34', 'first_name': 'Damaris ', 'last_name': 'Gonzalez', 'email': 'gonzalezmrs34@gmail.com', 'phone': '7138551968', 'zip': '77036', 'parent_url': 'https://organizetexas.org/immigration-2021/', 'survey_response_id': 695591, 'event_type': 'MDW', 'call_status': 'completed', 'call_hangup_reason': 'User hung up phone', 'day_rank': 1, 'dup': 1, 'vanid': None, 'date_created': None, 'sr_load': None, 'event_load': None}\n",
       "{'outreach_id': 9260078, 'action_date': '2021-01-26 05:04:02', 'first_name': 'Alfonso', 'last_name': 'Ayala', 'email': 'alfonso.ayala3@gmail.com', 'phone': '3238734535', 'zip': '95112', 'parent_url': 'https://organizetexas.org/immigration-2021/?emci=8f1950d0-7a5f-eb11-a607-00155d43c992&emdi=1d896589-8e5f-eb11-a607-00155d43c992&ceid=97003', 'survey_response_id': 695591, 'event_type': 'MDW', 'call_status': 'completed', 'call_hangup_reason': 'User hung up phone', 'day_rank': 1, 'dup': 1, 'vanid': None, 'date_created': None, 'sr_load': None, 'event_load': None}\n",
       "{'outreach_id': 9197954, 'action_date': '2021-01-21 01:33:28', 'first_name': 'Adelina ', 'last_name': 'Cáceres ', 'email': 'prosperitygroup7@gmail.com', 'phone': '8326925745', 'zip': '77093', 'parent_url': 'https://organizetexas.org/immigration-2021/', 'survey_response_id': 695591, 'event_type': 'MDW', 'call_status': 'completed', 'call_hangup_reason': 'User hung up phone', 'day_rank': 1, 'dup': 1, 'vanid': None, 'date_created': None, 'sr_load': None, 'event_load': None}\n",
       "{'outreach_id': 10218200, 'action_date': '2021-03-23 21:40:33', 'first_name': 'Gina', 'last_name': 'Villarreal', 'email': 'ginalvilla1972@gmail.com', 'phone': '2103287149', 'zip': '78226', 'parent_url': 'https://organizetexas.org/r2j/letvotersdecide', 'survey_response_id': 914328, 'event_type': 'MDW', 'call_status': 'completed', 'call_hangup_reason': 'User hung up phone', 'day_rank': 1, 'dup': 1, 'vanid': None, 'date_created': None, 'sr_load': None, 'event_load': None}\n",
       "{'outreach_id': 9247533, 'action_date': '2021-01-24 00:32:19', 'first_name': 'Damaris ', 'last_name': 'Gonzalez', 'email': 'gonzalezmrs34@gmail.com', 'phone': '7138551968', 'zip': '77036', 'parent_url': 'https://organizetexas.org/immigration-2021/', 'survey_response_id': 695591, 'event_type': 'MDW', 'call_status': 'completed', 'call_hangup_reason': 'User hung up phone', 'day_rank': 3, 'dup': 1, 'vanid': None, 'date_created': None, 'sr_load': None, 'event_load': None}\n",
       "..."
      ]
     },
     "execution_count": 50,
     "metadata": {},
     "output_type": "execute_result"
    }
   ],
   "source": [
    "source_tbl"
   ]
  },
  {
   "cell_type": "code",
   "execution_count": 82,
   "metadata": {},
   "outputs": [],
   "source": [
    "loaded = [['outreach_id', 'vanid', 'datecreated','sr_load', 'signup_id']]"
   ]
  },
  {
   "cell_type": "code",
   "execution_count": 84,
   "metadata": {},
   "outputs": [
    {
     "data": {
      "text/plain": [
       "list"
      ]
     },
     "execution_count": 84,
     "metadata": {},
     "output_type": "execute_result"
    }
   ],
   "source": [
    "type(loaded[0])"
   ]
  },
  {
   "cell_type": "code",
   "execution_count": 144,
   "metadata": {},
   "outputs": [
    {
     "name": "stderr",
     "output_type": "stream",
     "text": [
      "people INFO Finding Damaris Gonzalez.\n",
      "people INFO Finding erica faulkenberry.\n"
     ]
    },
    {
     "name": "stdout",
     "output_type": "stream",
     "text": [
      "101547194\n"
     ]
    },
    {
     "name": "stderr",
     "output_type": "stream",
     "text": [
      "INFO Issue finding in VAN! HTTP error occurred (404): Not Found, json: {'vanId': None, 'status': 'Unmatched'}\n"
     ]
    },
    {
     "name": "stdout",
     "output_type": "stream",
     "text": [
      "HTTP error occurred (404): Not Found, json: {'vanId': None, 'status': 'Unmatched'}\n"
     ]
    }
   ],
   "source": [
    "loaded = [['first_name', 'vanId']]\n",
    "\n",
    "people = [\n",
    "    {'first_name':'Damaris'\n",
    "      ,'last_name':'Gonzalez'\n",
    "      ,'email':'gonzalezmrs34@gmail.com'\n",
    "      ,'phone':7138551968\n",
    "      ,'zip':77036\n",
    "    },\n",
    "     {'first_name':'erica'\n",
    "      ,'last_name':'faulkenberry'\n",
    "      ,'email':'efaulkenberry@gmail.com'\n",
    "      ,'phone':2144574671\n",
    "      ,'zip':78721\n",
    "    },\n",
    "]\n",
    "\n",
    "for ppl in people:\n",
    "\n",
    "    try:\n",
    "       ea = van.find_person(first_name=ppl['first_name']\n",
    "                                  ,last_name=ppl['last_name']\n",
    "                                  ,email=ppl['email']\n",
    "                                  ,phone=ppl['phone']\n",
    "                                  ,zip=ppl['zip'])\n",
    "    except Exception as e:\n",
    "        logger.info(f\"Issue finding in VAN! {str(e)}\")\n",
    "        ea['vanId'] = e\n",
    "    \n",
    "    try:\n",
    "        test = ea['vanId']\n",
    "        print(test)\n",
    "    except:\n",
    "        test = ea\n",
    "        print(ea)"
   ]
  },
  {
   "cell_type": "code",
   "execution_count": null,
   "metadata": {},
   "outputs": [],
   "source": [
    "#     van = [ppl['first_name'], str(ea['vanId'])]\n",
    "#     #['vanId'] if ea['vanId'] is not None else str(ea)\n",
    "#     #  ppl[ea] if ppl[ea] else str(ea['vanId'])\n",
    "#     loaded.append(van)\n",
    "#     print(loaded)"
   ]
  },
  {
   "cell_type": "markdown",
   "metadata": {},
   "source": [
    "for ppl in source_tbl:\n",
    "    ea = van.find_person(first_name=ppl['first_name']\n",
    "                          ,last_name=ppl['last_name']\n",
    "                          ,email=ppl['email']\n",
    "                          ,phone=ppl['phone']\n",
    "                          ,zip=ppl['zip'])\n",
    "\n",
    "    action_date_transform = datetime.strptime(ppl['action_date'], '%Y-%m-%d %H:%M:%S').isoformat()\n",
    "\n",
    "    print(ea['firstName'],action_date_transform,ea['vanId'])"
   ]
  },
  {
   "cell_type": "code",
   "execution_count": 71,
   "metadata": {},
   "outputs": [
    {
     "data": {
      "text/plain": [
       "int"
      ]
     },
     "execution_count": 71,
     "metadata": {},
     "output_type": "execute_result"
    }
   ],
   "source": [
    "type(source_tbl['survey_response_id'][0])"
   ]
  },
  {
   "cell_type": "code",
   "execution_count": 35,
   "metadata": {},
   "outputs": [
    {
     "data": {
      "text/plain": [
       "str"
      ]
     },
     "execution_count": 35,
     "metadata": {},
     "output_type": "execute_result"
    }
   ],
   "source": [
    "type(source_tbl['action_date'][0])"
   ]
  },
  {
   "cell_type": "code",
   "execution_count": 43,
   "metadata": {},
   "outputs": [
    {
     "data": {
      "text/plain": [
       "'2021-01-24 00:29:34'"
      ]
     },
     "execution_count": 43,
     "metadata": {},
     "output_type": "execute_result"
    }
   ],
   "source": [
    "source_tbl['action_date'][0]"
   ]
  },
  {
   "cell_type": "code",
   "execution_count": 44,
   "metadata": {},
   "outputs": [],
   "source": [
    "action_date_transform = datetime.strptime(source_tbl['action_date'][0], '%Y-%m-%d %H:%M:%S').isoformat()"
   ]
  },
  {
   "cell_type": "code",
   "execution_count": 73,
   "metadata": {},
   "outputs": [
    {
     "data": {
      "text/plain": [
       "'2021-03-23T21:46:21'"
      ]
     },
     "execution_count": 73,
     "metadata": {},
     "output_type": "execute_result"
    }
   ],
   "source": [
    "action_date_transform"
   ]
  },
  {
   "cell_type": "code",
   "execution_count": 8,
   "metadata": {},
   "outputs": [
    {
     "name": "stderr",
     "output_type": "stream",
     "text": [
      "INFO 16 rows found.\n",
      "INFO:canalespy:16 rows found.\n"
     ]
    }
   ],
   "source": [
    "logger.info(f\"{source_tbl.num_rows} rows found.\")"
   ]
  },
  {
   "cell_type": "code",
   "execution_count": 9,
   "metadata": {},
   "outputs": [
    {
     "name": "stderr",
     "output_type": "stream",
     "text": [
      "INFO 16 new records found. Inserting into table\n",
      "INFO:canalespy:16 new records found. Inserting into table\n",
      "INFO Working on outreach_id=9247520\n",
      "INFO:canalespy:Working on outreach_id=9247520\n",
      "people INFO Finding Damaris  Gonzalez.\n",
      "INFO:parsons.ngpvan.people:Finding Damaris  Gonzalez.\n",
      "INFO Found in EveryAction as 101547194...\n",
      "INFO:canalespy:Found in EveryAction as 101547194...\n",
      "INFO Working on outreach_id=9260078\n",
      "INFO:canalespy:Working on outreach_id=9260078\n",
      "people INFO Finding Alfonso Ayala.\n",
      "INFO:parsons.ngpvan.people:Finding Alfonso Ayala.\n",
      "INFO Found in EveryAction as 101925984...\n",
      "INFO:canalespy:Found in EveryAction as 101925984...\n",
      "INFO Working on outreach_id=9197954\n",
      "INFO:canalespy:Working on outreach_id=9197954\n",
      "people INFO Finding Adelina  Cáceres .\n",
      "INFO:parsons.ngpvan.people:Finding Adelina  Cáceres .\n",
      "INFO Found in EveryAction as 102020619...\n",
      "INFO:canalespy:Found in EveryAction as 102020619...\n",
      "INFO Working on outreach_id=10218200\n",
      "INFO:canalespy:Working on outreach_id=10218200\n",
      "people INFO Finding Gina Villarreal.\n",
      "INFO:parsons.ngpvan.people:Finding Gina Villarreal.\n",
      "INFO Found in EveryAction as 101950105...\n",
      "INFO:canalespy:Found in EveryAction as 101950105...\n",
      "INFO Working on outreach_id=9247533\n",
      "INFO:canalespy:Working on outreach_id=9247533\n",
      "people INFO Finding Damaris  Gonzalez.\n",
      "INFO:parsons.ngpvan.people:Finding Damaris  Gonzalez.\n",
      "INFO Found in EveryAction as 101547194...\n",
      "INFO:canalespy:Found in EveryAction as 101547194...\n",
      "INFO Working on outreach_id=9247521\n",
      "INFO:canalespy:Working on outreach_id=9247521\n",
      "people INFO Finding Damaris  Gonzalez.\n",
      "INFO:parsons.ngpvan.people:Finding Damaris  Gonzalez.\n",
      "INFO Found in EveryAction as 101547194...\n",
      "INFO:canalespy:Found in EveryAction as 101547194...\n",
      "INFO Working on outreach_id=10215647\n",
      "INFO:canalespy:Working on outreach_id=10215647\n",
      "people INFO Finding Justin  Leaca .\n",
      "INFO:parsons.ngpvan.people:Finding Justin  Leaca .\n",
      "INFO Found in EveryAction as 102021797...\n",
      "INFO:canalespy:Found in EveryAction as 102021797...\n",
      "INFO Working on outreach_id=10218193\n",
      "INFO:canalespy:Working on outreach_id=10218193\n",
      "people INFO Finding Jasmine Estrada.\n",
      "INFO:parsons.ngpvan.people:Finding Jasmine Estrada.\n",
      "INFO Found in EveryAction as 101896883...\n",
      "INFO:canalespy:Found in EveryAction as 101896883...\n",
      "INFO Working on outreach_id=10215649\n",
      "INFO:canalespy:Working on outreach_id=10215649\n",
      "people INFO Finding Justin  Leaca .\n",
      "INFO:parsons.ngpvan.people:Finding Justin  Leaca .\n",
      "INFO Found in EveryAction as 102021797...\n",
      "INFO:canalespy:Found in EveryAction as 102021797...\n",
      "INFO Working on outreach_id=9180185\n",
      "INFO:canalespy:Working on outreach_id=9180185\n",
      "people INFO Finding josue guillen.\n",
      "INFO:parsons.ngpvan.people:Finding josue guillen.\n",
      "INFO Found in EveryAction as 102020604...\n",
      "INFO:canalespy:Found in EveryAction as 102020604...\n",
      "INFO Working on outreach_id=10219014\n",
      "INFO:canalespy:Working on outreach_id=10219014\n",
      "people INFO Finding Rick Trevino.\n",
      "INFO:parsons.ngpvan.people:Finding Rick Trevino.\n",
      "INFO Found in EveryAction as 101899052...\n",
      "INFO:canalespy:Found in EveryAction as 101899052...\n",
      "INFO Working on outreach_id=10218297\n",
      "INFO:canalespy:Working on outreach_id=10218297\n",
      "people INFO Finding Jessica Azua.\n",
      "INFO:parsons.ngpvan.people:Finding Jessica Azua.\n",
      "INFO Found in EveryAction as 101566593...\n",
      "INFO:canalespy:Found in EveryAction as 101566593...\n",
      "INFO Working on outreach_id=9256164\n",
      "INFO:canalespy:Working on outreach_id=9256164\n",
      "people INFO Finding Jessie Gloria.\n",
      "INFO:parsons.ngpvan.people:Finding Jessie Gloria.\n",
      "INFO Found in EveryAction as 101547135...\n",
      "INFO:canalespy:Found in EveryAction as 101547135...\n",
      "INFO Working on outreach_id=10047047\n",
      "INFO:canalespy:Working on outreach_id=10047047\n",
      "people INFO Finding Jessie Gloria.\n",
      "INFO:parsons.ngpvan.people:Finding Jessie Gloria.\n",
      "INFO Found in EveryAction as 101547135...\n",
      "INFO:canalespy:Found in EveryAction as 101547135...\n",
      "INFO Working on outreach_id=10215645\n",
      "INFO:canalespy:Working on outreach_id=10215645\n",
      "people INFO Finding Justin  Leaca .\n",
      "INFO:parsons.ngpvan.people:Finding Justin  Leaca .\n",
      "INFO Found in EveryAction as 102021797...\n",
      "INFO:canalespy:Found in EveryAction as 102021797...\n",
      "INFO Working on outreach_id=10218288\n",
      "INFO:canalespy:Working on outreach_id=10218288\n",
      "people INFO Finding Jessica Azua.\n",
      "INFO:parsons.ngpvan.people:Finding Jessica Azua.\n",
      "INFO Found in EveryAction as 101566593...\n",
      "INFO:canalespy:Found in EveryAction as 101566593...\n"
     ]
    }
   ],
   "source": [
    "if source_tbl.num_rows > 0:\n",
    "      logger.info(f\"{source_tbl.num_rows} new records found. Inserting into table\")\n",
    "      loaded = [['outreach_id', 'vanid', 'datecreated','sr_load', 'event_load']] #column names for our eventual Parsons Table of what we've loaded\n",
    "\n",
    "      for ppl in source_tbl:\n",
    "        logger.info(f\"Working on outreach_id={ppl['outreach_id']}\")\n",
    "        \n",
    "        # find contacts in ea\n",
    "        ea = van.find_person(first_name=ppl['first_name'],\n",
    "                    last_name=ppl['last_name'],\n",
    "                    email=ppl['email'],\n",
    "                    phone=ppl['phone'],\n",
    "                    zip=ppl['zip'])\n",
    "\n",
    "        if isinstance(ea, tuple):\n",
    "          logger.info(\"Issue loading to VAN!\")\n",
    "          vanids = [ppl['vanid'], 0, TIMESTAMP, 'Error', 'Error', 'Error', 'Error']\n",
    "          continue\n",
    "\n",
    "        logger.info(f\"Found in EveryAction as {ea['vanId']}...\")"
   ]
  },
  {
   "cell_type": "code",
   "execution_count": 81,
   "metadata": {},
   "outputs": [
    {
     "name": "stderr",
     "output_type": "stream",
     "text": [
      "events INFO Found event 750016899.\n",
      "INFO:parsons.ngpvan.events:Found event 750016899.\n"
     ]
    }
   ],
   "source": [
    "mdw = van.get_event(event_id=750016899,expand_fields=['locations', 'codes', 'shifts', 'roles', 'notes', 'financialProgram', 'ticketCategories', 'voterRegistrationBatches'])"
   ]
  },
  {
   "cell_type": "code",
   "execution_count": 82,
   "metadata": {},
   "outputs": [
    {
     "data": {
      "text/plain": [
       "{'eventId': 750016899,\n",
       " 'name': 'One on One',\n",
       " 'shortName': '1on1',\n",
       " 'description': None,\n",
       " 'startDate': '2021-02-26T20:00:00-05:00',\n",
       " 'endDate': '2021-02-26T21:00:00-05:00',\n",
       " 'eventType': {'eventTypeId': 128552, 'name': 'One-on-Ones'},\n",
       " 'isOnlyEditableByCreatingUser': False,\n",
       " 'isPubliclyViewable': None,\n",
       " 'locations': [],\n",
       " 'codes': [],\n",
       " 'notes': [],\n",
       " 'shifts': [{'eventShiftId': 33212,\n",
       "   'name': 'Single Shift',\n",
       "   'startTime': '2021-02-26T20:00:00-05:00',\n",
       "   'endTime': '2021-02-26T21:00:00-05:00'}],\n",
       " 'roles': [{'roleId': 100525,\n",
       "   'name': 'Action leader',\n",
       "   'isEventLead': True,\n",
       "   'min': None,\n",
       "   'max': None,\n",
       "   'goal': None},\n",
       "  {'roleId': 100526,\n",
       "   'name': 'Attendee',\n",
       "   'isEventLead': False,\n",
       "   'min': None,\n",
       "   'max': None,\n",
       "   'goal': None},\n",
       "  {'roleId': 100529,\n",
       "   'name': 'Doorknocking',\n",
       "   'isEventLead': True,\n",
       "   'min': None,\n",
       "   'max': None,\n",
       "   'goal': None},\n",
       "  {'roleId': 100531,\n",
       "   'name': 'Fliers',\n",
       "   'isEventLead': True,\n",
       "   'min': None,\n",
       "   'max': None,\n",
       "   'goal': None},\n",
       "  {'roleId': 100533,\n",
       "   'name': 'House meeting host',\n",
       "   'isEventLead': True,\n",
       "   'min': None,\n",
       "   'max': None,\n",
       "   'goal': None},\n",
       "  {'roleId': 100534,\n",
       "   'name': 'Media Spokesperson',\n",
       "   'isEventLead': True,\n",
       "   'min': None,\n",
       "   'max': None,\n",
       "   'goal': None},\n",
       "  {'roleId': 100535,\n",
       "   'name': 'Meeting facilatator',\n",
       "   'isEventLead': True,\n",
       "   'min': None,\n",
       "   'max': None,\n",
       "   'goal': None},\n",
       "  {'roleId': 100536,\n",
       "   'name': 'Member mover',\n",
       "   'isEventLead': True,\n",
       "   'min': None,\n",
       "   'max': None,\n",
       "   'goal': None},\n",
       "  {'roleId': 100537,\n",
       "   'name': 'Office support',\n",
       "   'isEventLead': True,\n",
       "   'min': None,\n",
       "   'max': None,\n",
       "   'goal': None},\n",
       "  {'roleId': 100539,\n",
       "   'name': 'Petitioning',\n",
       "   'isEventLead': True,\n",
       "   'min': None,\n",
       "   'max': None,\n",
       "   'goal': None},\n",
       "  {'roleId': 100540,\n",
       "   'name': 'Phone banking',\n",
       "   'isEventLead': True,\n",
       "   'min': None,\n",
       "   'max': None,\n",
       "   'goal': None},\n",
       "  {'roleId': 100541,\n",
       "   'name': 'Talked to Politician/Elected Official',\n",
       "   'isEventLead': True,\n",
       "   'min': None,\n",
       "   'max': None,\n",
       "   'goal': None},\n",
       "  {'roleId': 100544,\n",
       "   'name': 'Talk to faith leaders',\n",
       "   'isEventLead': True,\n",
       "   'min': None,\n",
       "   'max': None,\n",
       "   'goal': None},\n",
       "  {'roleId': 100563,\n",
       "   'name': 'Registration/Sign-In',\n",
       "   'isEventLead': True,\n",
       "   'min': None,\n",
       "   'max': None,\n",
       "   'goal': None},\n",
       "  {'roleId': 100564,\n",
       "   'name': 'Secured Venue',\n",
       "   'isEventLead': True,\n",
       "   'min': None,\n",
       "   'max': None,\n",
       "   'goal': None}],\n",
       " 'ticketCategories': [],\n",
       " 'voterRegistrationBatches': [],\n",
       " 'createdDate': '2021-02-04T13:07:00Z',\n",
       " 'districtFieldValue': None,\n",
       " 'financialProgram': None,\n",
       " 'isActive': True,\n",
       " 'dotNetTimeZoneId': 'Eastern Standard Time'}"
      ]
     },
     "execution_count": 82,
     "metadata": {},
     "output_type": "execute_result"
    }
   ],
   "source": [
    "mdw"
   ]
  },
  {
   "cell_type": "code",
   "execution_count": 104,
   "metadata": {
    "scrolled": true
   },
   "outputs": [
    {
     "name": "stderr",
     "output_type": "stream",
     "text": [
      "events INFO Found event 750015212.\n",
      "INFO:parsons.ngpvan.events:Found event 750015212.\n"
     ]
    }
   ],
   "source": [
    "#event = get_events(event_type_ids=None, rep_event_id=None, starting_after=None, expand_fields=['locations', 'codes', 'shifts', 'roles', 'notes', 'financialProgram', 'ticketCategories', 'onlineForms'])\n",
    "\n",
    "e = van.get_event(event_id=750015212)\n",
    "\n"
   ]
  },
  {
   "cell_type": "code",
   "execution_count": 105,
   "metadata": {
    "scrolled": true
   },
   "outputs": [
    {
     "data": {
      "text/plain": [
       "{'eventId': 750015212,\n",
       " 'name': 'Member Doing Work',\n",
       " 'shortName': 'MDW',\n",
       " 'description': None,\n",
       " 'startDate': '2021-02-13T20:00:00-05:00',\n",
       " 'endDate': '2021-02-13T20:30:00-05:00',\n",
       " 'eventType': {'eventTypeId': 128562, 'name': 'Member Doing Work'},\n",
       " 'isOnlyEditableByCreatingUser': False,\n",
       " 'isPubliclyViewable': None,\n",
       " 'locations': [],\n",
       " 'codes': [],\n",
       " 'notes': [],\n",
       " 'shifts': [{'eventShiftId': 31519,\n",
       "   'name': 'Single Shift',\n",
       "   'startTime': '2021-02-13T20:00:00-05:00',\n",
       "   'endTime': '2021-02-13T20:30:00-05:00'}],\n",
       " 'roles': [{'roleId': 100525,\n",
       "   'name': 'Action leader',\n",
       "   'isEventLead': False,\n",
       "   'min': None,\n",
       "   'max': None,\n",
       "   'goal': None},\n",
       "  {'roleId': 100526,\n",
       "   'name': 'Attendee',\n",
       "   'isEventLead': False,\n",
       "   'min': None,\n",
       "   'max': None,\n",
       "   'goal': None},\n",
       "  {'roleId': 100527,\n",
       "   'name': 'Chant Leader',\n",
       "   'isEventLead': False,\n",
       "   'min': None,\n",
       "   'max': None,\n",
       "   'goal': None},\n",
       "  {'roleId': 100528,\n",
       "   'name': 'Data Entry',\n",
       "   'isEventLead': False,\n",
       "   'min': None,\n",
       "   'max': None,\n",
       "   'goal': None},\n",
       "  {'roleId': 100529,\n",
       "   'name': 'Doorknocking',\n",
       "   'isEventLead': False,\n",
       "   'min': None,\n",
       "   'max': None,\n",
       "   'goal': None},\n",
       "  {'roleId': 100530,\n",
       "   'name': 'Driver',\n",
       "   'isEventLead': False,\n",
       "   'min': None,\n",
       "   'max': None,\n",
       "   'goal': None},\n",
       "  {'roleId': 100531,\n",
       "   'name': 'Fliers',\n",
       "   'isEventLead': False,\n",
       "   'min': None,\n",
       "   'max': None,\n",
       "   'goal': None},\n",
       "  {'roleId': 100532,\n",
       "   'name': 'Fundraiser',\n",
       "   'isEventLead': False,\n",
       "   'min': None,\n",
       "   'max': None,\n",
       "   'goal': None},\n",
       "  {'roleId': 100533,\n",
       "   'name': 'House meeting host',\n",
       "   'isEventLead': False,\n",
       "   'min': None,\n",
       "   'max': None,\n",
       "   'goal': None},\n",
       "  {'roleId': 100534,\n",
       "   'name': 'Media Spokesperson',\n",
       "   'isEventLead': False,\n",
       "   'min': None,\n",
       "   'max': None,\n",
       "   'goal': None},\n",
       "  {'roleId': 100535,\n",
       "   'name': 'Meeting facilatator',\n",
       "   'isEventLead': False,\n",
       "   'min': None,\n",
       "   'max': None,\n",
       "   'goal': None},\n",
       "  {'roleId': 100536,\n",
       "   'name': 'Member mover',\n",
       "   'isEventLead': False,\n",
       "   'min': None,\n",
       "   'max': None,\n",
       "   'goal': None},\n",
       "  {'roleId': 100537,\n",
       "   'name': 'Office support',\n",
       "   'isEventLead': False,\n",
       "   'min': None,\n",
       "   'max': None,\n",
       "   'goal': None},\n",
       "  {'roleId': 100538,\n",
       "   'name': 'Online networking',\n",
       "   'isEventLead': False,\n",
       "   'min': None,\n",
       "   'max': None,\n",
       "   'goal': None},\n",
       "  {'roleId': 100539,\n",
       "   'name': 'Petitioning',\n",
       "   'isEventLead': False,\n",
       "   'min': None,\n",
       "   'max': None,\n",
       "   'goal': None},\n",
       "  {'roleId': 100540,\n",
       "   'name': 'Phone banking',\n",
       "   'isEventLead': False,\n",
       "   'min': None,\n",
       "   'max': None,\n",
       "   'goal': None},\n",
       "  {'roleId': 100541,\n",
       "   'name': 'Talked to Politician/Elected Official',\n",
       "   'isEventLead': False,\n",
       "   'min': None,\n",
       "   'max': None,\n",
       "   'goal': None},\n",
       "  {'roleId': 100542,\n",
       "   'name': 'Signs up members/Collects dues',\n",
       "   'isEventLead': False,\n",
       "   'min': None,\n",
       "   'max': None,\n",
       "   'goal': None},\n",
       "  {'roleId': 100543,\n",
       "   'name': 'Talk to Civic Organizations',\n",
       "   'isEventLead': False,\n",
       "   'min': None,\n",
       "   'max': None,\n",
       "   'goal': None},\n",
       "  {'roleId': 100544,\n",
       "   'name': 'Talk to faith leaders',\n",
       "   'isEventLead': False,\n",
       "   'min': None,\n",
       "   'max': None,\n",
       "   'goal': None},\n",
       "  {'roleId': 100545,\n",
       "   'name': 'Voter captain',\n",
       "   'isEventLead': False,\n",
       "   'min': None,\n",
       "   'max': None,\n",
       "   'goal': None},\n",
       "  {'roleId': 100563,\n",
       "   'name': 'Registration/Sign-In',\n",
       "   'isEventLead': False,\n",
       "   'min': None,\n",
       "   'max': None,\n",
       "   'goal': None},\n",
       "  {'roleId': 100564,\n",
       "   'name': 'Secured Venue',\n",
       "   'isEventLead': False,\n",
       "   'min': None,\n",
       "   'max': None,\n",
       "   'goal': None},\n",
       "  {'roleId': 110923,\n",
       "   'name': 'Meeting Preparation',\n",
       "   'isEventLead': False,\n",
       "   'min': None,\n",
       "   'max': None,\n",
       "   'goal': None},\n",
       "  {'roleId': 120729,\n",
       "   'name': 'Services Outreach',\n",
       "   'isEventLead': False,\n",
       "   'min': None,\n",
       "   'max': None,\n",
       "   'goal': None},\n",
       "  {'roleId': 132067,\n",
       "   'name': 'Ally Work',\n",
       "   'isEventLead': False,\n",
       "   'min': None,\n",
       "   'max': None,\n",
       "   'goal': None}],\n",
       " 'ticketCategories': [],\n",
       " 'voterRegistrationBatches': [],\n",
       " 'createdDate': '2020-04-16T17:46:00Z',\n",
       " 'districtFieldValue': None,\n",
       " 'financialProgram': None,\n",
       " 'isActive': True,\n",
       " 'dotNetTimeZoneId': 'Eastern Standard Time'}"
      ]
     },
     "execution_count": 105,
     "metadata": {},
     "output_type": "execute_result"
    }
   ],
   "source": [
    "e"
   ]
  },
  {
   "cell_type": "code",
   "execution_count": 46,
   "metadata": {},
   "outputs": [
    {
     "name": "stderr",
     "output_type": "stream",
     "text": [
      "events INFO Found 1 events.\n",
      "INFO:parsons.ngpvan.events:Found 1 events.\n"
     ]
    }
   ],
   "source": [
    "mwd_2 = van.get_events(event_type_ids=128562,starting_after='2021-03-23', starting_before=\"2021-03-25\")"
   ]
  },
  {
   "cell_type": "code",
   "execution_count": 47,
   "metadata": {},
   "outputs": [
    {
     "data": {
      "text/html": [
       "<table class='petl'>\n",
       "<thead>\n",
       "<tr>\n",
       "<th>eventId</th>\n",
       "<th>name</th>\n",
       "<th>shortName</th>\n",
       "<th>description</th>\n",
       "<th>startDate</th>\n",
       "<th>endDate</th>\n",
       "<th>eventType</th>\n",
       "<th>isOnlyEditableByCreatingUser</th>\n",
       "<th>isPubliclyViewable</th>\n",
       "<th>locations</th>\n",
       "<th>codes</th>\n",
       "<th>notes</th>\n",
       "<th>shifts</th>\n",
       "<th>roles</th>\n",
       "<th>ticketCategories</th>\n",
       "<th>voterRegistrationBatches</th>\n",
       "<th>createdDate</th>\n",
       "<th>districtFieldValue</th>\n",
       "<th>financialProgram</th>\n",
       "<th>isActive</th>\n",
       "<th>dotNetTimeZoneId</th>\n",
       "</tr>\n",
       "</thead>\n",
       "<tbody>\n",
       "<tr>\n",
       "<td style='text-align: right'>750015251</td>\n",
       "<td>Member Doing Work</td>\n",
       "<td>MDW</td>\n",
       "<td>None</td>\n",
       "<td>2021-03-24T20:00:00-04:00</td>\n",
       "<td>2021-03-24T20:30:00-04:00</td>\n",
       "<td>{'eventTypeId': 128562, 'name': 'Member Doing Work'}</td>\n",
       "<td>False</td>\n",
       "<td>None</td>\n",
       "<td>[]</td>\n",
       "<td>[]</td>\n",
       "<td>[]</td>\n",
       "<td>[{'eventShiftId': 31558, 'name': 'Single Shift', 'startTime': '2021-03-24T20:00:00-04:00', 'endTime': '2021-03-24T20:30:00-04:00'}]</td>\n",
       "<td>[{'roleId': 100525, 'name': 'Action leader', 'isEventLead': False, 'min': None, 'max': None, 'goal': None}, {'roleId': 100526, 'name': 'Attendee', 'isEventLead': False, 'min': None, 'max': None, 'goal': None}, {'roleId': 100527, 'name': 'Chant Leader', 'isEventLead': False, 'min': None, 'max': None, 'goal': None}, {'roleId': 100528, 'name': 'Data Entry', 'isEventLead': False, 'min': None, 'max': None, 'goal': None}, {'roleId': 100529, 'name': 'Doorknocking', 'isEventLead': False, 'min': None, 'max': None, 'goal': None}, {'roleId': 100530, 'name': 'Driver', 'isEventLead': False, 'min': None, 'max': None, 'goal': None}, {'roleId': 100531, 'name': 'Fliers', 'isEventLead': False, 'min': None, 'max': None, 'goal': None}, {'roleId': 100532, 'name': 'Fundraiser', 'isEventLead': False, 'min': None, 'max': None, 'goal': None}, {'roleId': 100533, 'name': 'House meeting host', 'isEventLead': False, 'min': None, 'max': None, 'goal': None}, {'roleId': 100534, 'name': 'Media Spokesperson', 'isEventLead': False, 'min': None, 'max': None, 'goal': None}, {'roleId': 100535, 'name': 'Meeting facilatator', 'isEventLead': False, 'min': None, 'max': None, 'goal': None}, {'roleId': 100536, 'name': 'Member mover', 'isEventLead': False, 'min': None, 'max': None, 'goal': None}, {'roleId': 100537, 'name': 'Office support', 'isEventLead': False, 'min': None, 'max': None, 'goal': None}, {'roleId': 100538, 'name': 'Online networking', 'isEventLead': False, 'min': None, 'max': None, 'goal': None}, {'roleId': 100539, 'name': 'Petitioning', 'isEventLead': False, 'min': None, 'max': None, 'goal': None}, {'roleId': 100540, 'name': 'Phone banking', 'isEventLead': False, 'min': None, 'max': None, 'goal': None}, {'roleId': 100541, 'name': 'Talked to Politician/Elected Official', 'isEventLead': False, 'min': None, 'max': None, 'goal': None}, {'roleId': 100542, 'name': 'Signs up members/Collects dues', 'isEventLead': False, 'min': None, 'max': None, 'goal': None}, {'roleId': 100543, 'name': 'Talk to Civic Organizations', 'isEventLead': False, 'min': None, 'max': None, 'goal': None}, {'roleId': 100544, 'name': 'Talk to faith leaders', 'isEventLead': False, 'min': None, 'max': None, 'goal': None}, {'roleId': 100545, 'name': 'Voter captain', 'isEventLead': False, 'min': None, 'max': None, 'goal': None}, {'roleId': 100563, 'name': 'Registration/Sign-In', 'isEventLead': False, 'min': None, 'max': None, 'goal': None}, {'roleId': 100564, 'name': 'Secured Venue', 'isEventLead': False, 'min': None, 'max': None, 'goal': None}, {'roleId': 110923, 'name': 'Meeting Preparation', 'isEventLead': False, 'min': None, 'max': None, 'goal': None}, {'roleId': 120729, 'name': 'Services Outreach', 'isEventLead': False, 'min': None, 'max': None, 'goal': None}, {'roleId': 132067, 'name': 'Ally Work', 'isEventLead': False, 'min': None, 'max': None, 'goal': None}]</td>\n",
       "<td>[]</td>\n",
       "<td>None</td>\n",
       "<td>2020-04-16T17:46:00Z</td>\n",
       "<td>None</td>\n",
       "<td>None</td>\n",
       "<td>True</td>\n",
       "<td>Eastern Standard Time</td>\n",
       "</tr>\n",
       "</tbody>\n",
       "</table>\n"
      ],
      "text/plain": [
       "{'eventId': 750015251, 'name': 'Member Doing Work', 'shortName': 'MDW', 'description': None, 'startDate': '2021-03-24T20:00:00-04:00', 'endDate': '2021-03-24T20:30:00-04:00', 'eventType': {'eventTypeId': 128562, 'name': 'Member Doing Work'}, 'isOnlyEditableByCreatingUser': False, 'isPubliclyViewable': None, 'locations': [], 'codes': [], 'notes': [], 'shifts': [{'eventShiftId': 31558, 'name': 'Single Shift', 'startTime': '2021-03-24T20:00:00-04:00', 'endTime': '2021-03-24T20:30:00-04:00'}], 'roles': [{'roleId': 100525, 'name': 'Action leader', 'isEventLead': False, 'min': None, 'max': None, 'goal': None}, {'roleId': 100526, 'name': 'Attendee', 'isEventLead': False, 'min': None, 'max': None, 'goal': None}, {'roleId': 100527, 'name': 'Chant Leader', 'isEventLead': False, 'min': None, 'max': None, 'goal': None}, {'roleId': 100528, 'name': 'Data Entry', 'isEventLead': False, 'min': None, 'max': None, 'goal': None}, {'roleId': 100529, 'name': 'Doorknocking', 'isEventLead': False, 'min': None, 'max': None, 'goal': None}, {'roleId': 100530, 'name': 'Driver', 'isEventLead': False, 'min': None, 'max': None, 'goal': None}, {'roleId': 100531, 'name': 'Fliers', 'isEventLead': False, 'min': None, 'max': None, 'goal': None}, {'roleId': 100532, 'name': 'Fundraiser', 'isEventLead': False, 'min': None, 'max': None, 'goal': None}, {'roleId': 100533, 'name': 'House meeting host', 'isEventLead': False, 'min': None, 'max': None, 'goal': None}, {'roleId': 100534, 'name': 'Media Spokesperson', 'isEventLead': False, 'min': None, 'max': None, 'goal': None}, {'roleId': 100535, 'name': 'Meeting facilatator', 'isEventLead': False, 'min': None, 'max': None, 'goal': None}, {'roleId': 100536, 'name': 'Member mover', 'isEventLead': False, 'min': None, 'max': None, 'goal': None}, {'roleId': 100537, 'name': 'Office support', 'isEventLead': False, 'min': None, 'max': None, 'goal': None}, {'roleId': 100538, 'name': 'Online networking', 'isEventLead': False, 'min': None, 'max': None, 'goal': None}, {'roleId': 100539, 'name': 'Petitioning', 'isEventLead': False, 'min': None, 'max': None, 'goal': None}, {'roleId': 100540, 'name': 'Phone banking', 'isEventLead': False, 'min': None, 'max': None, 'goal': None}, {'roleId': 100541, 'name': 'Talked to Politician/Elected Official', 'isEventLead': False, 'min': None, 'max': None, 'goal': None}, {'roleId': 100542, 'name': 'Signs up members/Collects dues', 'isEventLead': False, 'min': None, 'max': None, 'goal': None}, {'roleId': 100543, 'name': 'Talk to Civic Organizations', 'isEventLead': False, 'min': None, 'max': None, 'goal': None}, {'roleId': 100544, 'name': 'Talk to faith leaders', 'isEventLead': False, 'min': None, 'max': None, 'goal': None}, {'roleId': 100545, 'name': 'Voter captain', 'isEventLead': False, 'min': None, 'max': None, 'goal': None}, {'roleId': 100563, 'name': 'Registration/Sign-In', 'isEventLead': False, 'min': None, 'max': None, 'goal': None}, {'roleId': 100564, 'name': 'Secured Venue', 'isEventLead': False, 'min': None, 'max': None, 'goal': None}, {'roleId': 110923, 'name': 'Meeting Preparation', 'isEventLead': False, 'min': None, 'max': None, 'goal': None}, {'roleId': 120729, 'name': 'Services Outreach', 'isEventLead': False, 'min': None, 'max': None, 'goal': None}, {'roleId': 132067, 'name': 'Ally Work', 'isEventLead': False, 'min': None, 'max': None, 'goal': None}], 'ticketCategories': [], 'voterRegistrationBatches': None, 'createdDate': '2020-04-16T17:46:00Z', 'districtFieldValue': None, 'financialProgram': None, 'isActive': True, 'dotNetTimeZoneId': 'Eastern Standard Time'}"
      ]
     },
     "execution_count": 47,
     "metadata": {},
     "output_type": "execute_result"
    }
   ],
   "source": [
    "mwd_2"
   ]
  },
  {
   "cell_type": "code",
   "execution_count": 48,
   "metadata": {},
   "outputs": [],
   "source": [
    "location = mwd_2['locations']"
   ]
  },
  {
   "cell_type": "code",
   "execution_count": 49,
   "metadata": {},
   "outputs": [
    {
     "data": {
      "text/plain": [
       "[[]]"
      ]
     },
     "execution_count": 49,
     "metadata": {},
     "output_type": "execute_result"
    }
   ],
   "source": [
    "location"
   ]
  },
  {
   "cell_type": "code",
   "execution_count": 163,
   "metadata": {},
   "outputs": [],
   "source": [
    "result = mwd_2['eventId']"
   ]
  },
  {
   "cell_type": "code",
   "execution_count": 164,
   "metadata": {},
   "outputs": [
    {
     "data": {
      "text/plain": [
       "750015251"
      ]
     },
     "execution_count": 164,
     "metadata": {},
     "output_type": "execute_result"
    }
   ],
   "source": [
    "result[0]"
   ]
  },
  {
   "cell_type": "code",
   "execution_count": 20,
   "metadata": {},
   "outputs": [],
   "source": [
    "action_date = source_tbl['action_date']"
   ]
  },
  {
   "cell_type": "code",
   "execution_count": 177,
   "metadata": {},
   "outputs": [
    {
     "data": {
      "text/plain": [
       "['2021-03-23 17:38:25']"
      ]
     },
     "execution_count": 177,
     "metadata": {},
     "output_type": "execute_result"
    }
   ],
   "source": [
    "action_date"
   ]
  },
  {
   "cell_type": "code",
   "execution_count": 204,
   "metadata": {},
   "outputs": [],
   "source": [
    "action_date_2 = str(datetime.strptime(action_date[0], '%Y-%m-%d %H:%M:%S'))"
   ]
  },
  {
   "cell_type": "code",
   "execution_count": 205,
   "metadata": {},
   "outputs": [
    {
     "data": {
      "text/plain": [
       "'2021-03-23 17:38:25'"
      ]
     },
     "execution_count": 205,
     "metadata": {},
     "output_type": "execute_result"
    }
   ],
   "source": [
    "action_date_2"
   ]
  },
  {
   "cell_type": "code",
   "execution_count": 246,
   "metadata": {},
   "outputs": [],
   "source": [
    "action_date_3 = datetime.strptime(action_date[0], '%Y-%m-%d %H:%M:%S')"
   ]
  },
  {
   "cell_type": "code",
   "execution_count": 248,
   "metadata": {},
   "outputs": [
    {
     "data": {
      "text/plain": [
       "datetime.datetime"
      ]
     },
     "execution_count": 248,
     "metadata": {},
     "output_type": "execute_result"
    }
   ],
   "source": [
    "type(action_date_3)"
   ]
  },
  {
   "cell_type": "code",
   "execution_count": 21,
   "metadata": {},
   "outputs": [],
   "source": [
    "for ppl in source_tbl:\n",
    "    a_date_str = str(datetime.strptime(ppl['action_date'], '%Y-%m-%d %H:%M:%S').date())"
   ]
  },
  {
   "cell_type": "code",
   "execution_count": 229,
   "metadata": {},
   "outputs": [
    {
     "data": {
      "text/plain": [
       "'2021-03-23'"
      ]
     },
     "execution_count": 229,
     "metadata": {},
     "output_type": "execute_result"
    }
   ],
   "source": [
    "a_date_str"
   ]
  },
  {
   "cell_type": "code",
   "execution_count": 22,
   "metadata": {},
   "outputs": [],
   "source": [
    "for ppl in source_tbl:\n",
    "    a_date = datetime.strptime(ppl['action_date'], '%Y-%m-%d %H:%M:%S').date()"
   ]
  },
  {
   "cell_type": "code",
   "execution_count": 276,
   "metadata": {},
   "outputs": [
    {
     "data": {
      "text/plain": [
       "datetime.date"
      ]
     },
     "execution_count": 276,
     "metadata": {},
     "output_type": "execute_result"
    }
   ],
   "source": []
  },
  {
   "cell_type": "code",
   "execution_count": 23,
   "metadata": {},
   "outputs": [],
   "source": [
    "action_date_subtract= a_date - timedelta(days=1)"
   ]
  },
  {
   "cell_type": "code",
   "execution_count": 280,
   "metadata": {},
   "outputs": [
    {
     "data": {
      "text/plain": [
       "datetime.datetime(2021, 3, 22, 17, 38, 25)"
      ]
     },
     "execution_count": 280,
     "metadata": {},
     "output_type": "execute_result"
    }
   ],
   "source": [
    "action_date_subtract"
   ]
  },
  {
   "cell_type": "code",
   "execution_count": 268,
   "metadata": {},
   "outputs": [
    {
     "data": {
      "text/plain": [
       "datetime.datetime(2021, 3, 23, 17, 38, 25)"
      ]
     },
     "execution_count": 268,
     "metadata": {},
     "output_type": "execute_result"
    }
   ],
   "source": [
    "action_date_3"
   ]
  },
  {
   "cell_type": "code",
   "execution_count": 24,
   "metadata": {},
   "outputs": [],
   "source": [
    "action_date_add = str(a_date + timedelta(days=1))"
   ]
  },
  {
   "cell_type": "code",
   "execution_count": 284,
   "metadata": {},
   "outputs": [
    {
     "data": {
      "text/plain": [
       "'2021-03-24'"
      ]
     },
     "execution_count": 284,
     "metadata": {},
     "output_type": "execute_result"
    }
   ],
   "source": [
    "action_date_add"
   ]
  },
  {
   "cell_type": "code",
   "execution_count": 271,
   "metadata": {},
   "outputs": [
    {
     "data": {
      "text/plain": [
       "datetime.datetime(2021, 3, 23, 17, 38, 25)"
      ]
     },
     "execution_count": 271,
     "metadata": {},
     "output_type": "execute_result"
    }
   ],
   "source": [
    "action_date_3"
   ]
  },
  {
   "cell_type": "code",
   "execution_count": 257,
   "metadata": {},
   "outputs": [],
   "source": [
    "d = datetime.today() - timedelta(days=1)"
   ]
  },
  {
   "cell_type": "code",
   "execution_count": 258,
   "metadata": {},
   "outputs": [
    {
     "data": {
      "text/plain": [
       "datetime.datetime(2021, 3, 23, 20, 4, 51, 385481)"
      ]
     },
     "execution_count": 258,
     "metadata": {},
     "output_type": "execute_result"
    }
   ],
   "source": [
    "d"
   ]
  },
  {
   "cell_type": "code",
   "execution_count": 168,
   "metadata": {},
   "outputs": [],
   "source": [
    "unique_sr_id = {row['survey_response_id'] for row in source_tbl}"
   ]
  },
  {
   "cell_type": "code",
   "execution_count": 169,
   "metadata": {},
   "outputs": [
    {
     "data": {
      "text/plain": [
       "{914328}"
      ]
     },
     "execution_count": 169,
     "metadata": {},
     "output_type": "execute_result"
    }
   ],
   "source": [
    "unique_sr_id"
   ]
  },
  {
   "cell_type": "code",
   "execution_count": 25,
   "metadata": {},
   "outputs": [],
   "source": [
    "action_date_add_str = str(action_date_add)"
   ]
  },
  {
   "cell_type": "code",
   "execution_count": 26,
   "metadata": {},
   "outputs": [],
   "source": [
    "action_date_subtract_str = str(action_date_subtract)"
   ]
  },
  {
   "cell_type": "code",
   "execution_count": 58,
   "metadata": {},
   "outputs": [
    {
     "name": "stderr",
     "output_type": "stream",
     "text": [
      "events INFO Found 1 events.\n",
      "INFO:parsons.ngpvan.events:Found 1 events.\n"
     ]
    }
   ],
   "source": [
    "find_mdw_event = van.get_events(event_type_ids=128562,starting_after={action_date_subtract_str}, starting_before={action_date_add_str})"
   ]
  },
  {
   "cell_type": "code",
   "execution_count": 67,
   "metadata": {},
   "outputs": [],
   "source": [
    "event_id = find_mdw_event['eventId'][0]"
   ]
  },
  {
   "cell_type": "code",
   "execution_count": 68,
   "metadata": {},
   "outputs": [
    {
     "data": {
      "text/plain": [
       "int"
      ]
     },
     "execution_count": 68,
     "metadata": {},
     "output_type": "execute_result"
    }
   ],
   "source": [
    "type(event_id)"
   ]
  },
  {
   "cell_type": "code",
   "execution_count": 29,
   "metadata": {},
   "outputs": [],
   "source": [
    "shifts = find_mdw_event['shifts'][0][0]"
   ]
  },
  {
   "cell_type": "code",
   "execution_count": 30,
   "metadata": {},
   "outputs": [
    {
     "data": {
      "text/plain": [
       "{'eventShiftId': 31557,\n",
       " 'name': 'Single Shift',\n",
       " 'startTime': '2021-03-23T20:00:00-04:00',\n",
       " 'endTime': '2021-03-23T20:30:00-04:00'}"
      ]
     },
     "execution_count": 30,
     "metadata": {},
     "output_type": "execute_result"
    }
   ],
   "source": [
    "shifts"
   ]
  },
  {
   "cell_type": "code",
   "execution_count": 304,
   "metadata": {},
   "outputs": [
    {
     "data": {
      "text/plain": [
       "[{'eventShiftId': 31557,\n",
       "  'name': 'Single Shift',\n",
       "  'startTime': '2021-03-23T20:00:00-04:00',\n",
       "  'endTime': '2021-03-23T20:30:00-04:00'}]"
      ]
     },
     "execution_count": 304,
     "metadata": {},
     "output_type": "execute_result"
    }
   ],
   "source": [
    "shifts[0]"
   ]
  },
  {
   "cell_type": "code",
   "execution_count": 298,
   "metadata": {},
   "outputs": [
    {
     "data": {
      "text/plain": [
       "{'eventShiftId': 31557,\n",
       " 'name': 'Single Shift',\n",
       " 'startTime': '2021-03-23T20:00:00-04:00',\n",
       " 'endTime': '2021-03-23T20:30:00-04:00'}"
      ]
     },
     "execution_count": 298,
     "metadata": {},
     "output_type": "execute_result"
    }
   ],
   "source": [
    "shifts[0][0]"
   ]
  },
  {
   "cell_type": "code",
   "execution_count": 300,
   "metadata": {},
   "outputs": [
    {
     "data": {
      "text/plain": [
       "dict"
      ]
     },
     "execution_count": 300,
     "metadata": {},
     "output_type": "execute_result"
    }
   ],
   "source": [
    "type(shifts[0][0])"
   ]
  },
  {
   "cell_type": "code",
   "execution_count": 309,
   "metadata": {},
   "outputs": [],
   "source": [
    "shifts1 = {**shifts[0][0]}"
   ]
  },
  {
   "cell_type": "code",
   "execution_count": 306,
   "metadata": {},
   "outputs": [
    {
     "data": {
      "text/plain": [
       "{'eventShiftId': 31557,\n",
       " 'name': 'Single Shift',\n",
       " 'startTime': '2021-03-23T20:00:00-04:00',\n",
       " 'endTime': '2021-03-23T20:30:00-04:00'}"
      ]
     },
     "execution_count": 306,
     "metadata": {},
     "output_type": "execute_result"
    }
   ],
   "source": [
    "shifts1"
   ]
  },
  {
   "cell_type": "code",
   "execution_count": 310,
   "metadata": {},
   "outputs": [
    {
     "name": "stdout",
     "output_type": "stream",
     "text": [
      "[('eventShiftId', 31557), ('name', 'Single Shift'), ('startTime', '2021-03-23T20:00:00-04:00'), ('endTime', '2021-03-23T20:30:00-04:00')]\n"
     ]
    }
   ],
   "source": [
    "print([(shifts, shifts1[shifts]) for shifts in shifts1])"
   ]
  },
  {
   "cell_type": "code",
   "execution_count": 311,
   "metadata": {},
   "outputs": [
    {
     "name": "stdout",
     "output_type": "stream",
     "text": [
      "eventShiftId 31557\n",
      "name Single Shift\n",
      "startTime 2021-03-23T20:00:00-04:00\n",
      "endTime 2021-03-23T20:30:00-04:00\n"
     ]
    }
   ],
   "source": [
    "for key, value in shifts1.items():\n",
    "    print (key, value)"
   ]
  },
  {
   "cell_type": "code",
   "execution_count": 312,
   "metadata": {},
   "outputs": [
    {
     "name": "stdout",
     "output_type": "stream",
     "text": [
      "(0, ('eventShiftId', 31557))\n",
      "(1, ('name', 'Single Shift'))\n",
      "(2, ('startTime', '2021-03-23T20:00:00-04:00'))\n",
      "(3, ('endTime', '2021-03-23T20:30:00-04:00'))\n"
     ]
    }
   ],
   "source": [
    "for i in enumerate(shifts1.items()):\n",
    "    print(i)"
   ]
  },
  {
   "cell_type": "code",
   "execution_count": 313,
   "metadata": {},
   "outputs": [
    {
     "data": {
      "text/plain": [
       "31557"
      ]
     },
     "execution_count": 313,
     "metadata": {},
     "output_type": "execute_result"
    }
   ],
   "source": [
    "shifts1['eventShiftId']"
   ]
  },
  {
   "cell_type": "code",
   "execution_count": 320,
   "metadata": {},
   "outputs": [],
   "source": [
    "shifts2 = shifts[0][0]"
   ]
  },
  {
   "cell_type": "code",
   "execution_count": 321,
   "metadata": {},
   "outputs": [
    {
     "data": {
      "text/plain": [
       "dict"
      ]
     },
     "execution_count": 321,
     "metadata": {},
     "output_type": "execute_result"
    }
   ],
   "source": [
    "shifts = find_mdw_event['shifts']"
   ]
  },
  {
   "cell_type": "code",
   "execution_count": 10,
   "metadata": {},
   "outputs": [
    {
     "data": {
      "text/html": [
       "<table class='petl'>\n",
       "<thead>\n",
       "<tr>\n",
       "<th>outreach_id</th>\n",
       "<th>action_date</th>\n",
       "<th>modified_date</th>\n",
       "<th>created_date</th>\n",
       "<th>first_name</th>\n",
       "<th>last_name</th>\n",
       "<th>email</th>\n",
       "<th>phone</th>\n",
       "<th>zip</th>\n",
       "<th>parent_url</th>\n",
       "<th>survey_response_id</th>\n",
       "<th>event_type</th>\n",
       "<th>call_status</th>\n",
       "<th>call_hangup_reason</th>\n",
       "<th>dup</th>\n",
       "<th>vanid</th>\n",
       "<th>date_created</th>\n",
       "<th>sr_load</th>\n",
       "<th>event_load</th>\n",
       "</tr>\n",
       "</thead>\n",
       "<tbody>\n",
       "<tr>\n",
       "<td style='text-align: right'>9247520</td>\n",
       "<td>2021-01-24 00:29:34</td>\n",
       "<td>2021-01-24 00:29:34</td>\n",
       "<td>2021-01-24 00:29:34</td>\n",
       "<td>Damaris </td>\n",
       "<td>Gonzalez</td>\n",
       "<td>gonzalezmrs34@gmail.com</td>\n",
       "<td>7138551968</td>\n",
       "<td>77036</td>\n",
       "<td>https://organizetexas.org/immigration-2021/</td>\n",
       "<td style='text-align: right'>695591</td>\n",
       "<td>MDW</td>\n",
       "<td>completed</td>\n",
       "<td>User hung up phone</td>\n",
       "<td style='text-align: right'>1</td>\n",
       "<td>None</td>\n",
       "<td>None</td>\n",
       "<td>None</td>\n",
       "<td>None</td>\n",
       "</tr>\n",
       "<tr>\n",
       "<td style='text-align: right'>10215645</td>\n",
       "<td>2021-03-23 17:38:21</td>\n",
       "<td>2021-03-23 17:38:21</td>\n",
       "<td>2021-03-23 17:38:21</td>\n",
       "<td>Justin </td>\n",
       "<td>Leaca </td>\n",
       "<td>justin.lecea@gmail.com</td>\n",
       "<td>8108143304</td>\n",
       "<td>78229</td>\n",
       "<td>https://organizetexas.org/r2j/letvotersdecide</td>\n",
       "<td style='text-align: right'>914328</td>\n",
       "<td>MDW</td>\n",
       "<td>completed</td>\n",
       "<td>User hung up phone</td>\n",
       "<td style='text-align: right'>1</td>\n",
       "<td>None</td>\n",
       "<td>None</td>\n",
       "<td>None</td>\n",
       "<td>None</td>\n",
       "</tr>\n",
       "<tr>\n",
       "<td style='text-align: right'>10218288</td>\n",
       "<td>2021-03-23 21:46:21</td>\n",
       "<td>2021-03-23 21:46:21</td>\n",
       "<td>2021-03-23 21:46:21</td>\n",
       "<td>Jessica</td>\n",
       "<td>Azua</td>\n",
       "<td>jazua@organizetexas.org</td>\n",
       "<td>2105773090</td>\n",
       "<td>78204</td>\n",
       "<td>https://organizetexas.org/r2j/letvotersdecide</td>\n",
       "<td style='text-align: right'>914328</td>\n",
       "<td>MDW</td>\n",
       "<td>completed</td>\n",
       "<td>User hung up phone</td>\n",
       "<td style='text-align: right'>1</td>\n",
       "<td>None</td>\n",
       "<td>None</td>\n",
       "<td>None</td>\n",
       "<td>None</td>\n",
       "</tr>\n",
       "<tr>\n",
       "<td style='text-align: right'>10218193</td>\n",
       "<td>2021-03-23 21:40:02</td>\n",
       "<td>2021-03-23 21:40:02</td>\n",
       "<td>2021-03-23 21:40:02</td>\n",
       "<td>Jasmine</td>\n",
       "<td>Estrada</td>\n",
       "<td>estradaest2009@gmail.com</td>\n",
       "<td>2104608040</td>\n",
       "<td>78223</td>\n",
       "<td>https://organizetexas.org/r2j/letvotersdecide</td>\n",
       "<td style='text-align: right'>914328</td>\n",
       "<td>MDW</td>\n",
       "<td>completed</td>\n",
       "<td>User hung up phone</td>\n",
       "<td style='text-align: right'>1</td>\n",
       "<td>None</td>\n",
       "<td>None</td>\n",
       "<td>None</td>\n",
       "<td>None</td>\n",
       "</tr>\n",
       "<tr>\n",
       "<td style='text-align: right'>10215649</td>\n",
       "<td>2021-03-23 17:38:27</td>\n",
       "<td>2021-03-23 17:38:27</td>\n",
       "<td>2021-03-23 17:38:27</td>\n",
       "<td>Justin </td>\n",
       "<td>Leaca </td>\n",
       "<td>justin.lecea@gmail.com</td>\n",
       "<td>8108143304</td>\n",
       "<td>78229</td>\n",
       "<td>https://organizetexas.org/r2j/letvotersdecide</td>\n",
       "<td style='text-align: right'>914328</td>\n",
       "<td>MDW</td>\n",
       "<td>completed</td>\n",
       "<td>User hung up phone</td>\n",
       "<td style='text-align: right'>1</td>\n",
       "<td>None</td>\n",
       "<td>None</td>\n",
       "<td>None</td>\n",
       "<td>None</td>\n",
       "</tr>\n",
       "</tbody>\n",
       "</table>\n",
       "<p><strong>...</strong></p>"
      ],
      "text/plain": [
       "{'outreach_id': 9247520, 'action_date': '2021-01-24 00:29:34', 'modified_date': '2021-01-24 00:29:34', 'created_date': '2021-01-24 00:29:34', 'first_name': 'Damaris ', 'last_name': 'Gonzalez', 'email': 'gonzalezmrs34@gmail.com', 'phone': '7138551968', 'zip': '77036', 'parent_url': 'https://organizetexas.org/immigration-2021/', 'survey_response_id': 695591, 'event_type': 'MDW', 'call_status': 'completed', 'call_hangup_reason': 'User hung up phone', 'dup': 1, 'vanid': None, 'date_created': None, 'sr_load': None, 'event_load': None}\n",
       "{'outreach_id': 10215645, 'action_date': '2021-03-23 17:38:21', 'modified_date': '2021-03-23 17:38:21', 'created_date': '2021-03-23 17:38:21', 'first_name': 'Justin ', 'last_name': 'Leaca ', 'email': 'justin.lecea@gmail.com', 'phone': '8108143304', 'zip': '78229', 'parent_url': 'https://organizetexas.org/r2j/letvotersdecide', 'survey_response_id': 914328, 'event_type': 'MDW', 'call_status': 'completed', 'call_hangup_reason': 'User hung up phone', 'dup': 1, 'vanid': None, 'date_created': None, 'sr_load': None, 'event_load': None}\n",
       "{'outreach_id': 10218288, 'action_date': '2021-03-23 21:46:21', 'modified_date': '2021-03-23 21:46:21', 'created_date': '2021-03-23 21:46:21', 'first_name': 'Jessica', 'last_name': 'Azua', 'email': 'jazua@organizetexas.org', 'phone': '2105773090', 'zip': '78204', 'parent_url': 'https://organizetexas.org/r2j/letvotersdecide', 'survey_response_id': 914328, 'event_type': 'MDW', 'call_status': 'completed', 'call_hangup_reason': 'User hung up phone', 'dup': 1, 'vanid': None, 'date_created': None, 'sr_load': None, 'event_load': None}\n",
       "{'outreach_id': 10218193, 'action_date': '2021-03-23 21:40:02', 'modified_date': '2021-03-23 21:40:02', 'created_date': '2021-03-23 21:40:02', 'first_name': 'Jasmine', 'last_name': 'Estrada', 'email': 'estradaest2009@gmail.com', 'phone': '2104608040', 'zip': '78223', 'parent_url': 'https://organizetexas.org/r2j/letvotersdecide', 'survey_response_id': 914328, 'event_type': 'MDW', 'call_status': 'completed', 'call_hangup_reason': 'User hung up phone', 'dup': 1, 'vanid': None, 'date_created': None, 'sr_load': None, 'event_load': None}\n",
       "{'outreach_id': 10215649, 'action_date': '2021-03-23 17:38:27', 'modified_date': '2021-03-23 17:38:27', 'created_date': '2021-03-23 17:38:27', 'first_name': 'Justin ', 'last_name': 'Leaca ', 'email': 'justin.lecea@gmail.com', 'phone': '8108143304', 'zip': '78229', 'parent_url': 'https://organizetexas.org/r2j/letvotersdecide', 'survey_response_id': 914328, 'event_type': 'MDW', 'call_status': 'completed', 'call_hangup_reason': 'User hung up phone', 'dup': 1, 'vanid': None, 'date_created': None, 'sr_load': None, 'event_load': None}\n",
       "..."
      ]
     },
     "execution_count": 10,
     "metadata": {},
     "output_type": "execute_result"
    }
   ],
   "source": [
    "source_tbl"
   ]
  },
  {
   "cell_type": "code",
   "execution_count": 12,
   "metadata": {},
   "outputs": [
    {
     "data": {
      "text/plain": [
       "16"
      ]
     },
     "execution_count": 12,
     "metadata": {},
     "output_type": "execute_result"
    }
   ],
   "source": [
    "source_tbl.num_rows"
   ]
  },
  {
   "cell_type": "code",
   "execution_count": 16,
   "metadata": {},
   "outputs": [
    {
     "name": "stdout",
     "output_type": "stream",
     "text": [
      "Yes: 1\n",
      "Yes: 1\n",
      "Yes: 1\n",
      "Yes: 1\n",
      "No: 3\n",
      "No: 2\n",
      "No: 2\n",
      "Yes: 1\n",
      "No: 3\n",
      "Yes: 1\n",
      "Yes: 1\n",
      "No: 2\n",
      "Yes: 1\n",
      "Yes: 1\n",
      "Yes: 1\n",
      "Yes: 1\n"
     ]
    }
   ],
   "source": [
    "for ppl in source_tbl:\n",
    "    if ppl['day_rank'] == 1:\n",
    "        print('Yes:', ppl['day_rank'])\n",
    "    else:\n",
    "        print('No:', ppl['day_rank'])"
   ]
  },
  {
   "cell_type": "code",
   "execution_count": null,
   "metadata": {},
   "outputs": [],
   "source": []
  }
 ],
 "metadata": {
  "kernelspec": {
   "display_name": "Python 3",
   "language": "python",
   "name": "python3"
  },
  "language_info": {
   "codemirror_mode": {
    "name": "ipython",
    "version": 3
   },
   "file_extension": ".py",
   "mimetype": "text/x-python",
   "name": "python",
   "nbconvert_exporter": "python",
   "pygments_lexer": "ipython3",
   "version": "3.7.7"
  }
 },
 "nbformat": 4,
 "nbformat_minor": 4
}
