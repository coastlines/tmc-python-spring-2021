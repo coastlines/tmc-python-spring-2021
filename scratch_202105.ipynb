{
 "cells": [
  {
   "cell_type": "code",
   "execution_count": 5,
   "metadata": {},
   "outputs": [],
   "source": [
    "import json"
   ]
  },
  {
   "cell_type": "code",
   "execution_count": 31,
   "metadata": {},
   "outputs": [
    {
     "ename": "SyntaxError",
     "evalue": "invalid syntax (<ipython-input-31-9fc7363326e2>, line 1)",
     "output_type": "error",
     "traceback": [
      "\u001b[0;36m  File \u001b[0;32m\"<ipython-input-31-9fc7363326e2>\"\u001b[0;36m, line \u001b[0;32m1\u001b[0m\n\u001b[0;31m    dic = json.dumps([{'title': 'What Indivisible group are you with, if any?', 'value': 'IndivisibleColumbiaNY'}, {'title': 'If part of a group, what is your role in the group?', 'value': 'Group Leader'}, {'title': \"Would you like to be added to National Indivisible's rural email list?\", 'value': 'Yes'},  {'title': \"Would you like to be added to National \"Indivisibles rural\" email list?\", 'value': 'Yes'}])\u001b[0m\n\u001b[0m                                                                                                                                                                                                                                                                                                                                                                                  ^\u001b[0m\n\u001b[0;31mSyntaxError\u001b[0m\u001b[0;31m:\u001b[0m invalid syntax\n"
     ]
    }
   ],
   "source": [
    "dic = json.dumps([{'title': 'What Indivisible group are you with, if any?', 'value': 'IndivisibleColumbiaNY'}, {'title': 'If part of a group, what is your role in the group?', 'value': 'Group Leader'}, {'title': \"Would you like to be added to National Indivisible's rural email list?\", 'value': 'Yes'},  {'title': \"Would you like to be added to National \"Indivisibles rural\" email list?\", 'value': 'Yes'}])\n",
    "\n",
    "\n",
    "\n"
   ]
  },
  {
   "cell_type": "code",
   "execution_count": 29,
   "metadata": {},
   "outputs": [
    {
     "data": {
      "text/plain": [
       "[{'title': 'What Indivisible group are you with, if any?',\n",
       "  'value': 'IndivisibleColumbiaNY'},\n",
       " {'title': 'If part of a group, what is your role in the group?',\n",
       "  'value': 'Group Leader'},\n",
       " {'title': \"Would you like to be added to National Indivisible's rural email list?\",\n",
       "  'value': 'Yes'},\n",
       " {'title': \"Would you like to be added to National 'Indivisible's rural' email list?\",\n",
       "  'value': 'Yes'}]"
      ]
     },
     "execution_count": 29,
     "metadata": {},
     "output_type": "execute_result"
    }
   ],
   "source": [
    "dic"
   ]
  },
  {
   "cell_type": "code",
   "execution_count": 9,
   "metadata": {},
   "outputs": [
    {
     "data": {
      "text/plain": [
       "'[{\"title\": \"What Indivisible group are you with, if any?\", \"value\": \"IndivisibleColumbiaNY\"}, {\"title\": \"If part of a group, what is your role in the group?\", \"value\": \"Group Leader\"}, {\"title\": \"Would you like to be added to National Indivisible\\'s rural email list?\", \"value\": \"Yes\"}]'"
      ]
     },
     "execution_count": 9,
     "metadata": {},
     "output_type": "execute_result"
    }
   ],
   "source": [
    "json.dumps(dic)"
   ]
  },
  {
   "cell_type": "code",
   "execution_count": null,
   "metadata": {},
   "outputs": [],
   "source": []
  }
 ],
 "metadata": {
  "kernelspec": {
   "display_name": "Python 3",
   "language": "python",
   "name": "python3"
  },
  "language_info": {
   "codemirror_mode": {
    "name": "ipython",
    "version": 3
   },
   "file_extension": ".py",
   "mimetype": "text/x-python",
   "name": "python",
   "nbconvert_exporter": "python",
   "pygments_lexer": "ipython3",
   "version": "3.7.7"
  }
 },
 "nbformat": 4,
 "nbformat_minor": 4
}
