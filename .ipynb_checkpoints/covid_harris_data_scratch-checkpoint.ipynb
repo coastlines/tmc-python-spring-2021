{
 "cells": [
  {
   "cell_type": "code",
   "execution_count": 44,
   "metadata": {},
   "outputs": [],
   "source": [
    "import json\n",
    "import pandas\n",
    "import urllib.request\n",
    "import datetime\n",
    "import numpy\n",
    "from pandas.io.json import json_normalize\n",
    "\n",
    "URL = 'https://services.arcgis.com/su8ic9KbA7PYVxPS/arcgis/rest/services/Aggregate_Reported_Cases/FeatureServer/0/query?where=1%3D1&outFields=*&outSR=4326&f=json'"
   ]
  },
  {
   "cell_type": "code",
   "execution_count": 3,
   "metadata": {},
   "outputs": [],
   "source": [
    "body = urllib.request.urlopen(URL).read()"
   ]
  },
  {
   "cell_type": "code",
   "execution_count": 4,
   "metadata": {},
   "outputs": [],
   "source": [
    "parsed_body = json.loads(body)"
   ]
  },
  {
   "cell_type": "code",
   "execution_count": 5,
   "metadata": {},
   "outputs": [],
   "source": [
    "df = pandas.json_normalize(parsed_body,record_path=['features'])"
   ]
  },
  {
   "cell_type": "code",
   "execution_count": 6,
   "metadata": {},
   "outputs": [],
   "source": [
    "df.columns = df.columns.str.replace('attributes.', '')"
   ]
  },
  {
   "cell_type": "code",
   "execution_count": 7,
   "metadata": {},
   "outputs": [
    {
     "data": {
      "text/html": [
       "<div>\n",
       "<style scoped>\n",
       "    .dataframe tbody tr th:only-of-type {\n",
       "        vertical-align: middle;\n",
       "    }\n",
       "\n",
       "    .dataframe tbody tr th {\n",
       "        vertical-align: top;\n",
       "    }\n",
       "\n",
       "    .dataframe thead th {\n",
       "        text-align: right;\n",
       "    }\n",
       "</style>\n",
       "<table border=\"1\" class=\"dataframe\">\n",
       "  <thead>\n",
       "    <tr style=\"text-align: right;\">\n",
       "      <th></th>\n",
       "      <th>Id_Str</th>\n",
       "      <th>Date</th>\n",
       "      <th>Total</th>\n",
       "      <th>New_Cases</th>\n",
       "      <th>Old_Cases</th>\n",
       "      <th>Source</th>\n",
       "      <th>Date_Label</th>\n",
       "      <th>Date_Str</th>\n",
       "      <th>Date_Updated</th>\n",
       "      <th>Today</th>\n",
       "    </tr>\n",
       "  </thead>\n",
       "  <tbody>\n",
       "    <tr>\n",
       "      <th>0</th>\n",
       "      <td>1</td>\n",
       "      <td>1583384400000</td>\n",
       "      <td>2</td>\n",
       "      <td>2</td>\n",
       "      <td>0</td>\n",
       "      <td>HCTX</td>\n",
       "      <td>03-05-2020</td>\n",
       "      <td>2020-03-05</td>\n",
       "      <td>1616976000000</td>\n",
       "      <td>2021-03-29</td>\n",
       "    </tr>\n",
       "    <tr>\n",
       "      <th>1</th>\n",
       "      <td>2</td>\n",
       "      <td>1583384400000</td>\n",
       "      <td>0</td>\n",
       "      <td>0</td>\n",
       "      <td>0</td>\n",
       "      <td>HOU</td>\n",
       "      <td>03-05-2020</td>\n",
       "      <td>2020-03-05</td>\n",
       "      <td>1616976000000</td>\n",
       "      <td>2021-03-29</td>\n",
       "    </tr>\n",
       "    <tr>\n",
       "      <th>2</th>\n",
       "      <td>3</td>\n",
       "      <td>1583384400000</td>\n",
       "      <td>2</td>\n",
       "      <td>2</td>\n",
       "      <td>0</td>\n",
       "      <td>ALL</td>\n",
       "      <td>03-05-2020</td>\n",
       "      <td>2020-03-05</td>\n",
       "      <td>1616976000000</td>\n",
       "      <td>2021-03-29</td>\n",
       "    </tr>\n",
       "    <tr>\n",
       "      <th>3</th>\n",
       "      <td>4</td>\n",
       "      <td>1583989200000</td>\n",
       "      <td>2</td>\n",
       "      <td>2</td>\n",
       "      <td>0</td>\n",
       "      <td>HCTX</td>\n",
       "      <td>03-12-2020</td>\n",
       "      <td>2020-03-12</td>\n",
       "      <td>1616976000000</td>\n",
       "      <td>2021-03-29</td>\n",
       "    </tr>\n",
       "    <tr>\n",
       "      <th>4</th>\n",
       "      <td>5</td>\n",
       "      <td>1583989200000</td>\n",
       "      <td>0</td>\n",
       "      <td>0</td>\n",
       "      <td>0</td>\n",
       "      <td>HOU</td>\n",
       "      <td>03-12-2020</td>\n",
       "      <td>2020-03-12</td>\n",
       "      <td>1616976000000</td>\n",
       "      <td>2021-03-29</td>\n",
       "    </tr>\n",
       "    <tr>\n",
       "      <th>...</th>\n",
       "      <td>...</td>\n",
       "      <td>...</td>\n",
       "      <td>...</td>\n",
       "      <td>...</td>\n",
       "      <td>...</td>\n",
       "      <td>...</td>\n",
       "      <td>...</td>\n",
       "      <td>...</td>\n",
       "      <td>...</td>\n",
       "      <td>...</td>\n",
       "    </tr>\n",
       "    <tr>\n",
       "      <th>1141</th>\n",
       "      <td>1142</td>\n",
       "      <td>1616907600000</td>\n",
       "      <td>600</td>\n",
       "      <td>247</td>\n",
       "      <td>353</td>\n",
       "      <td>HOU</td>\n",
       "      <td>03-28-2021</td>\n",
       "      <td>2021-03-28</td>\n",
       "      <td>1616976000000</td>\n",
       "      <td>2021-03-29</td>\n",
       "    </tr>\n",
       "    <tr>\n",
       "      <th>1142</th>\n",
       "      <td>1143</td>\n",
       "      <td>1616907600000</td>\n",
       "      <td>1005</td>\n",
       "      <td>623</td>\n",
       "      <td>382</td>\n",
       "      <td>ALL</td>\n",
       "      <td>03-28-2021</td>\n",
       "      <td>2021-03-28</td>\n",
       "      <td>1616976000000</td>\n",
       "      <td>2021-03-29</td>\n",
       "    </tr>\n",
       "    <tr>\n",
       "      <th>1143</th>\n",
       "      <td>1144</td>\n",
       "      <td>1616994000000</td>\n",
       "      <td>186</td>\n",
       "      <td>179</td>\n",
       "      <td>7</td>\n",
       "      <td>HCTX</td>\n",
       "      <td>03-29-2021</td>\n",
       "      <td>2021-03-29</td>\n",
       "      <td>1616976000000</td>\n",
       "      <td>2021-03-29</td>\n",
       "    </tr>\n",
       "    <tr>\n",
       "      <th>1144</th>\n",
       "      <td>1145</td>\n",
       "      <td>1616994000000</td>\n",
       "      <td>0</td>\n",
       "      <td>0</td>\n",
       "      <td>0</td>\n",
       "      <td>HOU</td>\n",
       "      <td>03-29-2021</td>\n",
       "      <td>2021-03-29</td>\n",
       "      <td>1616976000000</td>\n",
       "      <td>2021-03-29</td>\n",
       "    </tr>\n",
       "    <tr>\n",
       "      <th>1145</th>\n",
       "      <td>1146</td>\n",
       "      <td>1616994000000</td>\n",
       "      <td>186</td>\n",
       "      <td>179</td>\n",
       "      <td>7</td>\n",
       "      <td>ALL</td>\n",
       "      <td>03-29-2021</td>\n",
       "      <td>2021-03-29</td>\n",
       "      <td>1616976000000</td>\n",
       "      <td>2021-03-29</td>\n",
       "    </tr>\n",
       "  </tbody>\n",
       "</table>\n",
       "<p>1146 rows × 10 columns</p>\n",
       "</div>"
      ],
      "text/plain": [
       "      Id_Str           Date  Total  New_Cases  Old_Cases Source  Date_Label  \\\n",
       "0          1  1583384400000      2          2          0   HCTX  03-05-2020   \n",
       "1          2  1583384400000      0          0          0    HOU  03-05-2020   \n",
       "2          3  1583384400000      2          2          0    ALL  03-05-2020   \n",
       "3          4  1583989200000      2          2          0   HCTX  03-12-2020   \n",
       "4          5  1583989200000      0          0          0    HOU  03-12-2020   \n",
       "...      ...            ...    ...        ...        ...    ...         ...   \n",
       "1141    1142  1616907600000    600        247        353    HOU  03-28-2021   \n",
       "1142    1143  1616907600000   1005        623        382    ALL  03-28-2021   \n",
       "1143    1144  1616994000000    186        179          7   HCTX  03-29-2021   \n",
       "1144    1145  1616994000000      0          0          0    HOU  03-29-2021   \n",
       "1145    1146  1616994000000    186        179          7    ALL  03-29-2021   \n",
       "\n",
       "        Date_Str   Date_Updated       Today  \n",
       "0     2020-03-05  1616976000000  2021-03-29  \n",
       "1     2020-03-05  1616976000000  2021-03-29  \n",
       "2     2020-03-05  1616976000000  2021-03-29  \n",
       "3     2020-03-12  1616976000000  2021-03-29  \n",
       "4     2020-03-12  1616976000000  2021-03-29  \n",
       "...          ...            ...         ...  \n",
       "1141  2021-03-28  1616976000000  2021-03-29  \n",
       "1142  2021-03-28  1616976000000  2021-03-29  \n",
       "1143  2021-03-29  1616976000000  2021-03-29  \n",
       "1144  2021-03-29  1616976000000  2021-03-29  \n",
       "1145  2021-03-29  1616976000000  2021-03-29  \n",
       "\n",
       "[1146 rows x 10 columns]"
      ]
     },
     "execution_count": 7,
     "metadata": {},
     "output_type": "execute_result"
    }
   ],
   "source": [
    "df"
   ]
  },
  {
   "cell_type": "code",
   "execution_count": 54,
   "metadata": {},
   "outputs": [],
   "source": [
    "source = df['Source'].to_numpy()"
   ]
  },
  {
   "cell_type": "code",
   "execution_count": 57,
   "metadata": {},
   "outputs": [],
   "source": [
    "source2 = source"
   ]
  },
  {
   "cell_type": "code",
   "execution_count": 58,
   "metadata": {},
   "outputs": [],
   "source": [
    "source_unique = numpy.setdiff1d(source, source2, assume_unique=False)"
   ]
  },
  {
   "cell_type": "code",
   "execution_count": 59,
   "metadata": {},
   "outputs": [
    {
     "data": {
      "text/plain": [
       "array([], dtype=object)"
      ]
     },
     "execution_count": 59,
     "metadata": {},
     "output_type": "execute_result"
    }
   ],
   "source": [
    "source_unique"
   ]
  },
  {
   "cell_type": "code",
   "execution_count": 94,
   "metadata": {},
   "outputs": [],
   "source": [
    "source_list = set(df['Source'].tolist())"
   ]
  },
  {
   "cell_type": "code",
   "execution_count": 105,
   "metadata": {},
   "outputs": [],
   "source": [
    "source_list2 = set(['HCTX',\n",
    " 'ALL',\n",
    " 'AUS'])"
   ]
  },
  {
   "cell_type": "code",
   "execution_count": 106,
   "metadata": {},
   "outputs": [],
   "source": [
    "source_list3 = set(['HCTX',\n",
    " 'HOU',\n",
    " 'DFW'])"
   ]
  },
  {
   "cell_type": "code",
   "execution_count": 107,
   "metadata": {},
   "outputs": [],
   "source": [
    "source_list4 = set(['HOU',\n",
    " 'ALL',\n",
    " 'SA'])"
   ]
  },
  {
   "cell_type": "code",
   "execution_count": 115,
   "metadata": {},
   "outputs": [],
   "source": [
    "sources = source_list2.union(source_list3, source_list4)"
   ]
  },
  {
   "cell_type": "code",
   "execution_count": 116,
   "metadata": {},
   "outputs": [
    {
     "data": {
      "text/plain": [
       "{'ALL', 'AUS', 'DFW', 'HCTX', 'HOU', 'SA'}"
      ]
     },
     "execution_count": 116,
     "metadata": {},
     "output_type": "execute_result"
    }
   ],
   "source": [
    "sources"
   ]
  },
  {
   "cell_type": "code",
   "execution_count": 85,
   "metadata": {},
   "outputs": [],
   "source": [
    "check_source_list = set(source_list2).difference(set(source_list))"
   ]
  },
  {
   "cell_type": "code",
   "execution_count": 119,
   "metadata": {},
   "outputs": [],
   "source": [
    "check_source_list3 = sources.difference(source_list)"
   ]
  },
  {
   "cell_type": "code",
   "execution_count": 120,
   "metadata": {},
   "outputs": [
    {
     "data": {
      "text/plain": [
       "{'AUS', 'DFW', 'SA'}"
      ]
     },
     "execution_count": 120,
     "metadata": {},
     "output_type": "execute_result"
    }
   ],
   "source": [
    "check_source_list3"
   ]
  },
  {
   "cell_type": "code",
   "execution_count": 73,
   "metadata": {},
   "outputs": [],
   "source": [
    "source_list_unique = (set(source_list2) - set(source_list))"
   ]
  },
  {
   "cell_type": "code",
   "execution_count": 74,
   "metadata": {},
   "outputs": [
    {
     "data": {
      "text/plain": [
       "{'AUS'}"
      ]
     },
     "execution_count": 74,
     "metadata": {},
     "output_type": "execute_result"
    }
   ],
   "source": [
    "source_list_unique"
   ]
  },
  {
   "cell_type": "code",
   "execution_count": 8,
   "metadata": {},
   "outputs": [
    {
     "data": {
      "text/plain": [
       "Id_Str           int64\n",
       "Date             int64\n",
       "Total            int64\n",
       "New_Cases        int64\n",
       "Old_Cases        int64\n",
       "Source          object\n",
       "Date_Label      object\n",
       "Date_Str        object\n",
       "Date_Updated     int64\n",
       "Today           object\n",
       "dtype: object"
      ]
     },
     "execution_count": 8,
     "metadata": {},
     "output_type": "execute_result"
    }
   ],
   "source": [
    "df.dtypes"
   ]
  },
  {
   "cell_type": "code",
   "execution_count": 38,
   "metadata": {},
   "outputs": [],
   "source": [
    "date = df['Date']"
   ]
  },
  {
   "cell_type": "code",
   "execution_count": 39,
   "metadata": {},
   "outputs": [],
   "source": [
    "date = date.replace('00000','')"
   ]
  },
  {
   "cell_type": "code",
   "execution_count": 40,
   "metadata": {},
   "outputs": [
    {
     "data": {
      "text/plain": [
       "0      1970-01-01 00:26:23.384400\n",
       "1      1970-01-01 00:26:23.384400\n",
       "2      1970-01-01 00:26:23.384400\n",
       "3      1970-01-01 00:26:23.989200\n",
       "4      1970-01-01 00:26:23.989200\n",
       "                  ...            \n",
       "1141   1970-01-01 00:26:56.907600\n",
       "1142   1970-01-01 00:26:56.907600\n",
       "1143   1970-01-01 00:26:56.994000\n",
       "1144   1970-01-01 00:26:56.994000\n",
       "1145   1970-01-01 00:26:56.994000\n",
       "Name: Date, Length: 1146, dtype: datetime64[ns]"
      ]
     },
     "execution_count": 40,
     "metadata": {},
     "output_type": "execute_result"
    }
   ],
   "source": [
    "date"
   ]
  },
  {
   "cell_type": "code",
   "execution_count": 41,
   "metadata": {},
   "outputs": [],
   "source": [
    "date = pandas.to_datetime(date)"
   ]
  },
  {
   "cell_type": "code",
   "execution_count": 42,
   "metadata": {},
   "outputs": [
    {
     "data": {
      "text/plain": [
       "0      1970-01-01 00:26:23.384400\n",
       "1      1970-01-01 00:26:23.384400\n",
       "2      1970-01-01 00:26:23.384400\n",
       "3      1970-01-01 00:26:23.989200\n",
       "4      1970-01-01 00:26:23.989200\n",
       "                  ...            \n",
       "1141   1970-01-01 00:26:56.907600\n",
       "1142   1970-01-01 00:26:56.907600\n",
       "1143   1970-01-01 00:26:56.994000\n",
       "1144   1970-01-01 00:26:56.994000\n",
       "1145   1970-01-01 00:26:56.994000\n",
       "Name: Date, Length: 1146, dtype: datetime64[ns]"
      ]
     },
     "execution_count": 42,
     "metadata": {},
     "output_type": "execute_result"
    }
   ],
   "source": [
    "date"
   ]
  },
  {
   "cell_type": "code",
   "execution_count": 28,
   "metadata": {},
   "outputs": [
    {
     "ename": "AttributeError",
     "evalue": "'Series' object has no attribute 'removesuffix'",
     "output_type": "error",
     "traceback": [
      "\u001b[0;31m---------------------------------------------------------------------------\u001b[0m",
      "\u001b[0;31mAttributeError\u001b[0m                            Traceback (most recent call last)",
      "\u001b[0;32m<ipython-input-28-827e36cc20c0>\u001b[0m in \u001b[0;36m<module>\u001b[0;34m\u001b[0m\n\u001b[0;32m----> 1\u001b[0;31m \u001b[0mdf\u001b[0m\u001b[0;34m[\u001b[0m\u001b[0;34m'Date'\u001b[0m\u001b[0;34m]\u001b[0m \u001b[0;34m=\u001b[0m \u001b[0mpandas\u001b[0m\u001b[0;34m.\u001b[0m\u001b[0mto_datetime\u001b[0m\u001b[0;34m(\u001b[0m\u001b[0mdf\u001b[0m\u001b[0;34m[\u001b[0m\u001b[0;34m'Date'\u001b[0m\u001b[0;34m]\u001b[0m\u001b[0;34m.\u001b[0m\u001b[0mremovesuffix\u001b[0m\u001b[0;34m(\u001b[0m\u001b[0;34m'00000'\u001b[0m\u001b[0;34m)\u001b[0m\u001b[0;34m)\u001b[0m\u001b[0;34m\u001b[0m\u001b[0;34m\u001b[0m\u001b[0m\n\u001b[0m",
      "\u001b[0;32m/usr/local/lib/python3.7/site-packages/pandas/core/generic.py\u001b[0m in \u001b[0;36m__getattr__\u001b[0;34m(self, name)\u001b[0m\n\u001b[1;32m   5272\u001b[0m             \u001b[0;32mif\u001b[0m \u001b[0mself\u001b[0m\u001b[0;34m.\u001b[0m\u001b[0m_info_axis\u001b[0m\u001b[0;34m.\u001b[0m\u001b[0m_can_hold_identifiers_and_holds_name\u001b[0m\u001b[0;34m(\u001b[0m\u001b[0mname\u001b[0m\u001b[0;34m)\u001b[0m\u001b[0;34m:\u001b[0m\u001b[0;34m\u001b[0m\u001b[0;34m\u001b[0m\u001b[0m\n\u001b[1;32m   5273\u001b[0m                 \u001b[0;32mreturn\u001b[0m \u001b[0mself\u001b[0m\u001b[0;34m[\u001b[0m\u001b[0mname\u001b[0m\u001b[0;34m]\u001b[0m\u001b[0;34m\u001b[0m\u001b[0;34m\u001b[0m\u001b[0m\n\u001b[0;32m-> 5274\u001b[0;31m             \u001b[0;32mreturn\u001b[0m \u001b[0mobject\u001b[0m\u001b[0;34m.\u001b[0m\u001b[0m__getattribute__\u001b[0m\u001b[0;34m(\u001b[0m\u001b[0mself\u001b[0m\u001b[0;34m,\u001b[0m \u001b[0mname\u001b[0m\u001b[0;34m)\u001b[0m\u001b[0;34m\u001b[0m\u001b[0;34m\u001b[0m\u001b[0m\n\u001b[0m\u001b[1;32m   5275\u001b[0m \u001b[0;34m\u001b[0m\u001b[0m\n\u001b[1;32m   5276\u001b[0m     \u001b[0;32mdef\u001b[0m \u001b[0m__setattr__\u001b[0m\u001b[0;34m(\u001b[0m\u001b[0mself\u001b[0m\u001b[0;34m,\u001b[0m \u001b[0mname\u001b[0m\u001b[0;34m:\u001b[0m \u001b[0mstr\u001b[0m\u001b[0;34m,\u001b[0m \u001b[0mvalue\u001b[0m\u001b[0;34m)\u001b[0m \u001b[0;34m->\u001b[0m \u001b[0;32mNone\u001b[0m\u001b[0;34m:\u001b[0m\u001b[0;34m\u001b[0m\u001b[0;34m\u001b[0m\u001b[0m\n",
      "\u001b[0;31mAttributeError\u001b[0m: 'Series' object has no attribute 'removesuffix'"
     ]
    }
   ],
   "source": [
    "df['Date'] = pandas.to_datetime(df['Date'])"
   ]
  },
  {
   "cell_type": "code",
   "execution_count": 11,
   "metadata": {},
   "outputs": [
    {
     "data": {
      "text/plain": [
       "0      1970-01-01 00:26:23.384400\n",
       "1      1970-01-01 00:26:23.384400\n",
       "2      1970-01-01 00:26:23.384400\n",
       "3      1970-01-01 00:26:23.989200\n",
       "4      1970-01-01 00:26:23.989200\n",
       "                  ...            \n",
       "1141   1970-01-01 00:26:56.907600\n",
       "1142   1970-01-01 00:26:56.907600\n",
       "1143   1970-01-01 00:26:56.994000\n",
       "1144   1970-01-01 00:26:56.994000\n",
       "1145   1970-01-01 00:26:56.994000\n",
       "Name: Date, Length: 1146, dtype: datetime64[ns]"
      ]
     },
     "execution_count": 11,
     "metadata": {},
     "output_type": "execute_result"
    }
   ],
   "source": [
    "df['Date']"
   ]
  },
  {
   "cell_type": "code",
   "execution_count": 49,
   "metadata": {},
   "outputs": [],
   "source": [
    "df = df.rename(columns={'Today': 'date_updated'})"
   ]
  },
  {
   "cell_type": "code",
   "execution_count": 50,
   "metadata": {},
   "outputs": [
    {
     "data": {
      "text/plain": [
       "Index(['OBJECTID', 'Date', 'Total', 'New_Cases', 'Old_Cases', 'Source',\n",
       "       'Date_Label', 'Date_Str', 'Date_Updated', 'date_updated'],\n",
       "      dtype='object')"
      ]
     },
     "execution_count": 50,
     "metadata": {},
     "output_type": "execute_result"
    }
   ],
   "source": [
    "df.columns"
   ]
  },
  {
   "cell_type": "code",
   "execution_count": 51,
   "metadata": {},
   "outputs": [
    {
     "data": {
      "text/html": [
       "<div>\n",
       "<style scoped>\n",
       "    .dataframe tbody tr th:only-of-type {\n",
       "        vertical-align: middle;\n",
       "    }\n",
       "\n",
       "    .dataframe tbody tr th {\n",
       "        vertical-align: top;\n",
       "    }\n",
       "\n",
       "    .dataframe thead th {\n",
       "        text-align: right;\n",
       "    }\n",
       "</style>\n",
       "<table border=\"1\" class=\"dataframe\">\n",
       "  <thead>\n",
       "    <tr style=\"text-align: right;\">\n",
       "      <th></th>\n",
       "      <th>OBJECTID</th>\n",
       "      <th>Date</th>\n",
       "      <th>Total</th>\n",
       "      <th>New_Cases</th>\n",
       "      <th>Old_Cases</th>\n",
       "      <th>Source</th>\n",
       "      <th>Date_Label</th>\n",
       "      <th>Date_Str</th>\n",
       "      <th>Date_Updated</th>\n",
       "      <th>date_updated</th>\n",
       "    </tr>\n",
       "  </thead>\n",
       "  <tbody>\n",
       "    <tr>\n",
       "      <th>0</th>\n",
       "      <td>1</td>\n",
       "      <td>1970-01-01 00:26:23.384400</td>\n",
       "      <td>2</td>\n",
       "      <td>2</td>\n",
       "      <td>0</td>\n",
       "      <td>HCTX</td>\n",
       "      <td>03-05-2020</td>\n",
       "      <td>2020-03-05</td>\n",
       "      <td>1615680000000</td>\n",
       "      <td>2021-03-15</td>\n",
       "    </tr>\n",
       "    <tr>\n",
       "      <th>1</th>\n",
       "      <td>2</td>\n",
       "      <td>1970-01-01 00:26:23.384400</td>\n",
       "      <td>0</td>\n",
       "      <td>0</td>\n",
       "      <td>0</td>\n",
       "      <td>HOU</td>\n",
       "      <td>03-05-2020</td>\n",
       "      <td>2020-03-05</td>\n",
       "      <td>1615680000000</td>\n",
       "      <td>2021-03-15</td>\n",
       "    </tr>\n",
       "    <tr>\n",
       "      <th>2</th>\n",
       "      <td>3</td>\n",
       "      <td>1970-01-01 00:26:23.384400</td>\n",
       "      <td>2</td>\n",
       "      <td>2</td>\n",
       "      <td>0</td>\n",
       "      <td>ALL</td>\n",
       "      <td>03-05-2020</td>\n",
       "      <td>2020-03-05</td>\n",
       "      <td>1615680000000</td>\n",
       "      <td>2021-03-15</td>\n",
       "    </tr>\n",
       "    <tr>\n",
       "      <th>3</th>\n",
       "      <td>4</td>\n",
       "      <td>1970-01-01 00:26:23.989200</td>\n",
       "      <td>2</td>\n",
       "      <td>2</td>\n",
       "      <td>0</td>\n",
       "      <td>HCTX</td>\n",
       "      <td>03-12-2020</td>\n",
       "      <td>2020-03-12</td>\n",
       "      <td>1615680000000</td>\n",
       "      <td>2021-03-15</td>\n",
       "    </tr>\n",
       "    <tr>\n",
       "      <th>4</th>\n",
       "      <td>5</td>\n",
       "      <td>1970-01-01 00:26:23.989200</td>\n",
       "      <td>0</td>\n",
       "      <td>0</td>\n",
       "      <td>0</td>\n",
       "      <td>HOU</td>\n",
       "      <td>03-12-2020</td>\n",
       "      <td>2020-03-12</td>\n",
       "      <td>1615680000000</td>\n",
       "      <td>2021-03-15</td>\n",
       "    </tr>\n",
       "    <tr>\n",
       "      <th>...</th>\n",
       "      <td>...</td>\n",
       "      <td>...</td>\n",
       "      <td>...</td>\n",
       "      <td>...</td>\n",
       "      <td>...</td>\n",
       "      <td>...</td>\n",
       "      <td>...</td>\n",
       "      <td>...</td>\n",
       "      <td>...</td>\n",
       "      <td>...</td>\n",
       "    </tr>\n",
       "    <tr>\n",
       "      <th>1096</th>\n",
       "      <td>1097</td>\n",
       "      <td>1970-01-01 00:26:55.611600</td>\n",
       "      <td>597</td>\n",
       "      <td>422</td>\n",
       "      <td>175</td>\n",
       "      <td>HOU</td>\n",
       "      <td>03-13-2021</td>\n",
       "      <td>2021-03-13</td>\n",
       "      <td>1615680000000</td>\n",
       "      <td>2021-03-15</td>\n",
       "    </tr>\n",
       "    <tr>\n",
       "      <th>1097</th>\n",
       "      <td>1098</td>\n",
       "      <td>1970-01-01 00:26:55.611600</td>\n",
       "      <td>1143</td>\n",
       "      <td>878</td>\n",
       "      <td>265</td>\n",
       "      <td>ALL</td>\n",
       "      <td>03-13-2021</td>\n",
       "      <td>2021-03-13</td>\n",
       "      <td>1615680000000</td>\n",
       "      <td>2021-03-15</td>\n",
       "    </tr>\n",
       "    <tr>\n",
       "      <th>1098</th>\n",
       "      <td>1099</td>\n",
       "      <td>1970-01-01 00:26:55.698000</td>\n",
       "      <td>229</td>\n",
       "      <td>138</td>\n",
       "      <td>91</td>\n",
       "      <td>HCTX</td>\n",
       "      <td>03-14-2021</td>\n",
       "      <td>2021-03-14</td>\n",
       "      <td>1615680000000</td>\n",
       "      <td>2021-03-15</td>\n",
       "    </tr>\n",
       "    <tr>\n",
       "      <th>1099</th>\n",
       "      <td>1100</td>\n",
       "      <td>1970-01-01 00:26:55.698000</td>\n",
       "      <td>0</td>\n",
       "      <td>0</td>\n",
       "      <td>0</td>\n",
       "      <td>HOU</td>\n",
       "      <td>03-14-2021</td>\n",
       "      <td>2021-03-14</td>\n",
       "      <td>1615680000000</td>\n",
       "      <td>2021-03-15</td>\n",
       "    </tr>\n",
       "    <tr>\n",
       "      <th>1100</th>\n",
       "      <td>1101</td>\n",
       "      <td>1970-01-01 00:26:55.698000</td>\n",
       "      <td>229</td>\n",
       "      <td>138</td>\n",
       "      <td>91</td>\n",
       "      <td>ALL</td>\n",
       "      <td>03-14-2021</td>\n",
       "      <td>2021-03-14</td>\n",
       "      <td>1615680000000</td>\n",
       "      <td>2021-03-15</td>\n",
       "    </tr>\n",
       "  </tbody>\n",
       "</table>\n",
       "<p>1101 rows × 10 columns</p>\n",
       "</div>"
      ],
      "text/plain": [
       "      OBJECTID                       Date  Total  New_Cases  Old_Cases Source  \\\n",
       "0            1 1970-01-01 00:26:23.384400      2          2          0   HCTX   \n",
       "1            2 1970-01-01 00:26:23.384400      0          0          0    HOU   \n",
       "2            3 1970-01-01 00:26:23.384400      2          2          0    ALL   \n",
       "3            4 1970-01-01 00:26:23.989200      2          2          0   HCTX   \n",
       "4            5 1970-01-01 00:26:23.989200      0          0          0    HOU   \n",
       "...        ...                        ...    ...        ...        ...    ...   \n",
       "1096      1097 1970-01-01 00:26:55.611600    597        422        175    HOU   \n",
       "1097      1098 1970-01-01 00:26:55.611600   1143        878        265    ALL   \n",
       "1098      1099 1970-01-01 00:26:55.698000    229        138         91   HCTX   \n",
       "1099      1100 1970-01-01 00:26:55.698000      0          0          0    HOU   \n",
       "1100      1101 1970-01-01 00:26:55.698000    229        138         91    ALL   \n",
       "\n",
       "      Date_Label    Date_Str   Date_Updated date_updated  \n",
       "0     03-05-2020  2020-03-05  1615680000000   2021-03-15  \n",
       "1     03-05-2020  2020-03-05  1615680000000   2021-03-15  \n",
       "2     03-05-2020  2020-03-05  1615680000000   2021-03-15  \n",
       "3     03-12-2020  2020-03-12  1615680000000   2021-03-15  \n",
       "4     03-12-2020  2020-03-12  1615680000000   2021-03-15  \n",
       "...          ...         ...            ...          ...  \n",
       "1096  03-13-2021  2021-03-13  1615680000000   2021-03-15  \n",
       "1097  03-13-2021  2021-03-13  1615680000000   2021-03-15  \n",
       "1098  03-14-2021  2021-03-14  1615680000000   2021-03-15  \n",
       "1099  03-14-2021  2021-03-14  1615680000000   2021-03-15  \n",
       "1100  03-14-2021  2021-03-14  1615680000000   2021-03-15  \n",
       "\n",
       "[1101 rows x 10 columns]"
      ]
     },
     "execution_count": 51,
     "metadata": {},
     "output_type": "execute_result"
    }
   ],
   "source": [
    "df"
   ]
  },
  {
   "cell_type": "code",
   "execution_count": 52,
   "metadata": {},
   "outputs": [
    {
     "ename": "AttributeError",
     "evalue": "'DataFrame' object has no attribute 'result'",
     "output_type": "error",
     "traceback": [
      "\u001b[0;31m---------------------------------------------------------------------------\u001b[0m",
      "\u001b[0;31mAttributeError\u001b[0m                            Traceback (most recent call last)",
      "\u001b[0;32m<ipython-input-52-b4e5b834302b>\u001b[0m in \u001b[0;36m<module>\u001b[0;34m\u001b[0m\n\u001b[0;32m----> 1\u001b[0;31m \u001b[0mdf\u001b[0m\u001b[0;34m.\u001b[0m\u001b[0mresult\u001b[0m\u001b[0;34m(\u001b[0m\u001b[0;34m)\u001b[0m\u001b[0;34m\u001b[0m\u001b[0;34m\u001b[0m\u001b[0m\n\u001b[0m",
      "\u001b[0;32m/usr/local/lib/python3.7/site-packages/pandas/core/generic.py\u001b[0m in \u001b[0;36m__getattr__\u001b[0;34m(self, name)\u001b[0m\n\u001b[1;32m   5272\u001b[0m             \u001b[0;32mif\u001b[0m \u001b[0mself\u001b[0m\u001b[0;34m.\u001b[0m\u001b[0m_info_axis\u001b[0m\u001b[0;34m.\u001b[0m\u001b[0m_can_hold_identifiers_and_holds_name\u001b[0m\u001b[0;34m(\u001b[0m\u001b[0mname\u001b[0m\u001b[0;34m)\u001b[0m\u001b[0;34m:\u001b[0m\u001b[0;34m\u001b[0m\u001b[0;34m\u001b[0m\u001b[0m\n\u001b[1;32m   5273\u001b[0m                 \u001b[0;32mreturn\u001b[0m \u001b[0mself\u001b[0m\u001b[0;34m[\u001b[0m\u001b[0mname\u001b[0m\u001b[0;34m]\u001b[0m\u001b[0;34m\u001b[0m\u001b[0;34m\u001b[0m\u001b[0m\n\u001b[0;32m-> 5274\u001b[0;31m             \u001b[0;32mreturn\u001b[0m \u001b[0mobject\u001b[0m\u001b[0;34m.\u001b[0m\u001b[0m__getattribute__\u001b[0m\u001b[0;34m(\u001b[0m\u001b[0mself\u001b[0m\u001b[0;34m,\u001b[0m \u001b[0mname\u001b[0m\u001b[0;34m)\u001b[0m\u001b[0;34m\u001b[0m\u001b[0;34m\u001b[0m\u001b[0m\n\u001b[0m\u001b[1;32m   5275\u001b[0m \u001b[0;34m\u001b[0m\u001b[0m\n\u001b[1;32m   5276\u001b[0m     \u001b[0;32mdef\u001b[0m \u001b[0m__setattr__\u001b[0m\u001b[0;34m(\u001b[0m\u001b[0mself\u001b[0m\u001b[0;34m,\u001b[0m \u001b[0mname\u001b[0m\u001b[0;34m:\u001b[0m \u001b[0mstr\u001b[0m\u001b[0;34m,\u001b[0m \u001b[0mvalue\u001b[0m\u001b[0;34m)\u001b[0m \u001b[0;34m->\u001b[0m \u001b[0;32mNone\u001b[0m\u001b[0;34m:\u001b[0m\u001b[0;34m\u001b[0m\u001b[0;34m\u001b[0m\u001b[0m\n",
      "\u001b[0;31mAttributeError\u001b[0m: 'DataFrame' object has no attribute 'result'"
     ]
    }
   ],
   "source": []
  },
  {
   "cell_type": "code",
   "execution_count": null,
   "metadata": {},
   "outputs": [],
   "source": []
  }
 ],
 "metadata": {
  "kernelspec": {
   "display_name": "Python 3",
   "language": "python",
   "name": "python3"
  },
  "language_info": {
   "codemirror_mode": {
    "name": "ipython",
    "version": 3
   },
   "file_extension": ".py",
   "mimetype": "text/x-python",
   "name": "python",
   "nbconvert_exporter": "python",
   "pygments_lexer": "ipython3",
   "version": "3.7.7"
  }
 },
 "nbformat": 4,
 "nbformat_minor": 4
}
