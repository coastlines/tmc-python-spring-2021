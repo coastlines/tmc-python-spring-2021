{
 "cells": [
  {
   "cell_type": "code",
   "execution_count": 25,
   "metadata": {},
   "outputs": [],
   "source": [
    "import os\n",
    "from parsons import VAN, Redshift, Table\n",
    "from datetime import datetime, timedelta\n",
    "from canalespy import logger, setup_environment"
   ]
  },
  {
   "cell_type": "code",
   "execution_count": 26,
   "metadata": {},
   "outputs": [],
   "source": [
    "setup_environment()\n",
    "rs = Redshift()\n",
    "van = VAN(api_key='f49f4c62-439c-362d-eae2-e6b32ccb8431', db='EveryAction')"
   ]
  },
  {
   "cell_type": "code",
   "execution_count": 11,
   "metadata": {},
   "outputs": [
    {
     "name": "stderr",
     "output_type": "stream",
     "text": [
      "events INFO Found event 750017882.\n"
     ]
    },
    {
     "data": {
      "text/plain": [
       "{'eventId': 750017882,\n",
       " 'name': 'New Mode Direct Action',\n",
       " 'shortName': 'New Mode DA',\n",
       " 'description': None,\n",
       " 'startDate': '2021-09-15T20:30:00-04:00',\n",
       " 'endDate': '2021-09-15T21:00:00-04:00',\n",
       " 'eventType': {'eventTypeId': 164850, 'name': 'Action-DirectAction'},\n",
       " 'isOnlyEditableByCreatingUser': False,\n",
       " 'isPubliclyViewable': None,\n",
       " 'locations': [{'locationId': 107,\n",
       "   'name': 'Virtual',\n",
       "   'displayName': 'Virtual',\n",
       "   'address': None,\n",
       "   'id': 107,\n",
       "   'notes': None,\n",
       "   'codes': None}],\n",
       " 'codes': [],\n",
       " 'notes': [],\n",
       " 'shifts': [{'eventShiftId': 34195,\n",
       "   'name': 'Single Shift',\n",
       "   'startTime': '2021-09-15T20:30:00-04:00',\n",
       "   'endTime': '2021-09-15T21:00:00-04:00'}],\n",
       " 'roles': [{'roleId': 100525,\n",
       "   'name': 'Action leader',\n",
       "   'isEventLead': False,\n",
       "   'min': None,\n",
       "   'max': None,\n",
       "   'goal': None},\n",
       "  {'roleId': 100526,\n",
       "   'name': 'Attendee',\n",
       "   'isEventLead': False,\n",
       "   'min': None,\n",
       "   'max': None,\n",
       "   'goal': None},\n",
       "  {'roleId': 100527,\n",
       "   'name': 'Chant Leader',\n",
       "   'isEventLead': False,\n",
       "   'min': None,\n",
       "   'max': None,\n",
       "   'goal': None},\n",
       "  {'roleId': 100529,\n",
       "   'name': 'Doorknocking',\n",
       "   'isEventLead': True,\n",
       "   'min': None,\n",
       "   'max': None,\n",
       "   'goal': None},\n",
       "  {'roleId': 100530,\n",
       "   'name': 'Driver',\n",
       "   'isEventLead': False,\n",
       "   'min': None,\n",
       "   'max': None,\n",
       "   'goal': None},\n",
       "  {'roleId': 100534,\n",
       "   'name': 'Media Spokesperson',\n",
       "   'isEventLead': False,\n",
       "   'min': None,\n",
       "   'max': None,\n",
       "   'goal': None},\n",
       "  {'roleId': 100535,\n",
       "   'name': 'Meeting facilatator',\n",
       "   'isEventLead': False,\n",
       "   'min': None,\n",
       "   'max': None,\n",
       "   'goal': None},\n",
       "  {'roleId': 100536,\n",
       "   'name': 'Member mover',\n",
       "   'isEventLead': False,\n",
       "   'min': None,\n",
       "   'max': None,\n",
       "   'goal': None},\n",
       "  {'roleId': 100537,\n",
       "   'name': 'Office support',\n",
       "   'isEventLead': True,\n",
       "   'min': None,\n",
       "   'max': None,\n",
       "   'goal': None},\n",
       "  {'roleId': 100540,\n",
       "   'name': 'Phone banking',\n",
       "   'isEventLead': True,\n",
       "   'min': None,\n",
       "   'max': None,\n",
       "   'goal': None},\n",
       "  {'roleId': 100541,\n",
       "   'name': 'Talked to Politician/Elected Official',\n",
       "   'isEventLead': True,\n",
       "   'min': None,\n",
       "   'max': None,\n",
       "   'goal': None},\n",
       "  {'roleId': 100563,\n",
       "   'name': 'Registration/Sign-In',\n",
       "   'isEventLead': False,\n",
       "   'min': None,\n",
       "   'max': None,\n",
       "   'goal': None},\n",
       "  {'roleId': 110923,\n",
       "   'name': 'Meeting Preparation',\n",
       "   'isEventLead': True,\n",
       "   'min': None,\n",
       "   'max': None,\n",
       "   'goal': None}],\n",
       " 'ticketCategories': [],\n",
       " 'voterRegistrationBatches': [],\n",
       " 'createdDate': '2021-04-07T18:13:00Z',\n",
       " 'districtFieldValue': None,\n",
       " 'financialProgram': None,\n",
       " 'isActive': True,\n",
       " 'dotNetTimeZoneId': 'Eastern Standard Time'}"
      ]
     },
     "execution_count": 11,
     "metadata": {},
     "output_type": "execute_result"
    }
   ],
   "source": [
    "van.get_event(event_id=750017882, expand_fields=['locations', 'codes', 'shifts', 'roles', 'notes', 'financialProgram', 'ticketCategories', 'voterRegistrationBatches'])"
   ]
  },
  {
   "cell_type": "code",
   "execution_count": 32,
   "metadata": {},
   "outputs": [],
   "source": [
    "getevent = rs.query(f'''\n",
    "    select * from txop_newmode.ea_event_summary\n",
    "    where dateoffsetbegin::date = '{str(test_v4['action_date_date'][0])}'\n",
    "''')"
   ]
  },
  {
   "cell_type": "code",
   "execution_count": 33,
   "metadata": {},
   "outputs": [
    {
     "data": {
      "text/html": [
       "<table class='petl'>\n",
       "<thead>\n",
       "<tr>\n",
       "<th>eventid</th>\n",
       "<th>eventcalendarid</th>\n",
       "<th>eventcalendarname</th>\n",
       "<th>eventname</th>\n",
       "<th>dateoffsetbegin</th>\n",
       "<th>dateoffsetend</th>\n",
       "<th>eventshiftid</th>\n",
       "</tr>\n",
       "</thead>\n",
       "<tbody>\n",
       "<tr>\n",
       "<td style='text-align: right'>750015272</td>\n",
       "<td style='text-align: right'>128562</td>\n",
       "<td>Member Doing Work</td>\n",
       "<td>Member Doing Work</td>\n",
       "<td>2021-04-14</td>\n",
       "<td>2021-04-14</td>\n",
       "<td style='text-align: right'>31579</td>\n",
       "</tr>\n",
       "<tr>\n",
       "<td style='text-align: right'>750017860</td>\n",
       "<td style='text-align: right'>164850</td>\n",
       "<td>Action-DirectAction</td>\n",
       "<td>New Mode Direct Action</td>\n",
       "<td>2021-04-14</td>\n",
       "<td>2021-04-14</td>\n",
       "<td style='text-align: right'>34173</td>\n",
       "</tr>\n",
       "</tbody>\n",
       "</table>\n"
      ],
      "text/plain": [
       "{'eventid': 750015272, 'eventcalendarid': 128562, 'eventcalendarname': 'Member Doing Work', 'eventname': 'Member Doing Work', 'dateoffsetbegin': datetime.date(2021, 4, 14), 'dateoffsetend': datetime.date(2021, 4, 14), 'eventshiftid': 31579}\n",
       "{'eventid': 750017860, 'eventcalendarid': 164850, 'eventcalendarname': 'Action-DirectAction', 'eventname': 'New Mode Direct Action', 'dateoffsetbegin': datetime.date(2021, 4, 14), 'dateoffsetend': datetime.date(2021, 4, 14), 'eventshiftid': 34173}"
      ]
     },
     "execution_count": 33,
     "metadata": {},
     "output_type": "execute_result"
    }
   ],
   "source": [
    "getevent"
   ]
  },
  {
   "cell_type": "code",
   "execution_count": 37,
   "metadata": {},
   "outputs": [
    {
     "data": {
      "text/plain": [
       "[750015272, 750017860]"
      ]
     },
     "execution_count": 37,
     "metadata": {},
     "output_type": "execute_result"
    }
   ],
   "source": [
    "getevent['eventid']"
   ]
  },
  {
   "cell_type": "code",
   "execution_count": 24,
   "metadata": {},
   "outputs": [
    {
     "data": {
      "text/plain": [
       "'2021-04-14'"
      ]
     },
     "execution_count": 24,
     "metadata": {},
     "output_type": "execute_result"
    }
   ],
   "source": [
    "str(test_v4['action_date_date'][0])"
   ]
  },
  {
   "cell_type": "code",
   "execution_count": 27,
   "metadata": {},
   "outputs": [],
   "source": [
    "TIMESTAMP = datetime.now() #timestamp to be used for logtable"
   ]
  },
  {
   "cell_type": "code",
   "execution_count": 64,
   "metadata": {},
   "outputs": [],
   "source": [
    "LOG_TABLE = 'txop_newmode.calls_to_ea_log'\n",
    "SOURCE_TABLE = 'txop_newmode.call_summary_to_ea'"
   ]
  },
  {
   "cell_type": "code",
   "execution_count": 65,
   "metadata": {},
   "outputs": [],
   "source": [
    "if not rs.table_exists(LOG_TABLE): #if Log Table does not already exist, create it\n",
    "    # standard sql\n",
    "    sql = \"(outreach_id int, vanid int, date_created timestamp, sr_load varchar(100), event_load varchar(100));\"\n",
    "    rs.query(f\"create table {LOG_TABLE} {sql}\")\n",
    "    logger.info(f\"Creating {LOG_TABLE}...\")"
   ]
  },
  {
   "cell_type": "code",
   "execution_count": 85,
   "metadata": {},
   "outputs": [],
   "source": [
    "source_tbl = rs.query(f'''\n",
    "  SELECT a.*\n",
    "      , e.eventid\n",
    "      , e.eventshiftid\n",
    "  FROM (select *, row_number() over(partition by outreach_id order by action_date desc) as dup\n",
    "    from {SOURCE_TABLE}) a\n",
    "  LEFT JOIN {EA_EVENT_SUMMARY} e on e.dateoffsetbegin::date = a.action_date::date and e.eventcalendarid = a.event_calendar_id\n",
    "  LEFT JOIN {LOG_TABLE} l using(outreach_id)\n",
    "  where\n",
    "  l.outreach_id is null\n",
    "  and dup=1\n",
    "  ;\n",
    "  '''\n",
    ")"
   ]
  },
  {
   "cell_type": "code",
   "execution_count": 86,
   "metadata": {},
   "outputs": [
    {
     "name": "stderr",
     "output_type": "stream",
     "text": [
      "INFO 16 rows found.\n",
      "INFO:canalespy:16 rows found.\n"
     ]
    }
   ],
   "source": [
    "logger.info(f\"{source_tbl.num_rows} rows found.\")"
   ]
  },
  {
   "cell_type": "code",
   "execution_count": 87,
   "metadata": {},
   "outputs": [
    {
     "name": "stderr",
     "output_type": "stream",
     "text": [
      "INFO 16 new records found. Inserting into table\n",
      "INFO:canalespy:16 new records found. Inserting into table\n"
     ]
    }
   ],
   "source": [
    "if source_tbl.num_rows > 0:\n",
    "    logger.info(f\"{source_tbl.num_rows} new records found. Inserting into table\")\n",
    "    loaded = [['outreach_id', 'vanid', 'datecreated','sr_load', 'signup_id']]"
   ]
  },
  {
   "cell_type": "code",
   "execution_count": 88,
   "metadata": {},
   "outputs": [
    {
     "data": {
      "text/html": [
       "<table class='petl'>\n",
       "<thead>\n",
       "<tr>\n",
       "<th>outreach_id</th>\n",
       "<th>action_date</th>\n",
       "<th>first_name</th>\n",
       "<th>last_name</th>\n",
       "<th>email</th>\n",
       "<th>phone</th>\n",
       "<th>zip</th>\n",
       "<th>parent_url</th>\n",
       "<th>survey_response_id</th>\n",
       "<th>event_type</th>\n",
       "<th>event_calendar_id</th>\n",
       "<th>call_status</th>\n",
       "<th>call_hangup_reason</th>\n",
       "<th>day_rank</th>\n",
       "<th>dup</th>\n",
       "<th>eventid</th>\n",
       "<th>eventshiftid</th>\n",
       "<th>action_date_iso</th>\n",
       "<th>action_date_date</th>\n",
       "<th>action_date_after</th>\n",
       "<th>action_date_before</th>\n",
       "</tr>\n",
       "</thead>\n",
       "<tbody>\n",
       "<tr>\n",
       "<td style='text-align: right'>10464744</td>\n",
       "<td>2021-04-14 14:01:38</td>\n",
       "<td>Denise</td>\n",
       "<td>Hernandez</td>\n",
       "<td>hernandez.denise210@gmail.com</td>\n",
       "<td>2102877852</td>\n",
       "<td>78213</td>\n",
       "<td>https://organizetexas.org/right2j/hb829-will-enforce-police-accountability?fbclid=IwAR1l8XO3SsPMEJvV6PBdz-C8QdVPxGHOQwv2n0XXBRN6S_S-4pveJaJjbyc</td>\n",
       "<td style='text-align: right'>914328</td>\n",
       "<td>MDW</td>\n",
       "<td style='text-align: right'>128562</td>\n",
       "<td>completed</td>\n",
       "<td>Call ended successfully</td>\n",
       "<td style='text-align: right'>1</td>\n",
       "<td style='text-align: right'>1</td>\n",
       "<td style='text-align: right'>750015272</td>\n",
       "<td style='text-align: right'>31579</td>\n",
       "<td>2021-04-14T14:01:38</td>\n",
       "<td>2021-04-14</td>\n",
       "<td>2021-04-13</td>\n",
       "<td>2021-04-15</td>\n",
       "</tr>\n",
       "<tr>\n",
       "<td style='text-align: right'>10488863</td>\n",
       "<td>2021-04-15 21:33:20</td>\n",
       "<td>Patti</td>\n",
       "<td>Peacock</td>\n",
       "<td>pattip49@hotmail.com</td>\n",
       "<td>5127910773</td>\n",
       "<td>78613</td>\n",
       "<td>https://organizetexas.org/healthcare/call-speaker-phelan-now?preview=true&link_id=3&can_id=72dbda8f5e292c965b8ab946e37f6306&source=email-action-alert-new-momentum-on-a-healthcare-expansion-bill-at-the-legislature-2&email_referrer=email_1142928&email_subject=action-alert-call-speaker-phelan-now</td>\n",
       "<td style='text-align: right'>695590</td>\n",
       "<td>MDW</td>\n",
       "<td style='text-align: right'>128562</td>\n",
       "<td>completed</td>\n",
       "<td>Call ended successfully</td>\n",
       "<td style='text-align: right'>1</td>\n",
       "<td style='text-align: right'>1</td>\n",
       "<td style='text-align: right'>750015273</td>\n",
       "<td style='text-align: right'>31580</td>\n",
       "<td>2021-04-15T21:33:20</td>\n",
       "<td>2021-04-15</td>\n",
       "<td>2021-04-14</td>\n",
       "<td>2021-04-16</td>\n",
       "</tr>\n",
       "<tr>\n",
       "<td style='text-align: right'>10486574</td>\n",
       "<td>2021-04-15 17:59:17</td>\n",
       "<td>Elizabeth</td>\n",
       "<td>Gregory</td>\n",
       "<td>elizabeth_gregory@earthlink.net</td>\n",
       "<td>7132568310</td>\n",
       "<td>77030</td>\n",
       "<td>https://organizetexas.org/healthcare/call-speaker-phelan-now?preview=true&link_id=3&can_id=2c8e13b63ecd188ddb63b439abaa755c&source=email-action-alert-new-momentum-on-a-healthcare-expansion-bill-at-the-legislature-2&email_referrer=email_1142928&email_subject=action-alert-call-speaker-phelan-now</td>\n",
       "<td style='text-align: right'>695590</td>\n",
       "<td>MDW</td>\n",
       "<td style='text-align: right'>128562</td>\n",
       "<td>completed</td>\n",
       "<td>Call ended successfully</td>\n",
       "<td style='text-align: right'>1</td>\n",
       "<td style='text-align: right'>1</td>\n",
       "<td style='text-align: right'>750015273</td>\n",
       "<td style='text-align: right'>31580</td>\n",
       "<td>2021-04-15T17:59:17</td>\n",
       "<td>2021-04-15</td>\n",
       "<td>2021-04-14</td>\n",
       "<td>2021-04-16</td>\n",
       "</tr>\n",
       "<tr>\n",
       "<td style='text-align: right'>10486560</td>\n",
       "<td>2021-04-15 17:57:59</td>\n",
       "<td>Anita</td>\n",
       "<td>Garcia</td>\n",
       "<td>gar04317@yahoo.com</td>\n",
       "<td>5128261371</td>\n",
       "<td>78749</td>\n",
       "<td>https://organizetexas.org/healthcare/call-speaker-phelan-now?preview=true&link_id=3&can_id=907fa04fcace94d5702469b052cd834c&source=email-action-alert-new-momentum-on-a-healthcare-expansion-bill-at-the-legislature-2&email_referrer=email_1142928&email_subject=action-alert-call-speaker-phelan-now</td>\n",
       "<td style='text-align: right'>695590</td>\n",
       "<td>MDW</td>\n",
       "<td style='text-align: right'>128562</td>\n",
       "<td>completed</td>\n",
       "<td>Call ended successfully</td>\n",
       "<td style='text-align: right'>1</td>\n",
       "<td style='text-align: right'>1</td>\n",
       "<td style='text-align: right'>750015273</td>\n",
       "<td style='text-align: right'>31580</td>\n",
       "<td>2021-04-15T17:57:59</td>\n",
       "<td>2021-04-15</td>\n",
       "<td>2021-04-14</td>\n",
       "<td>2021-04-16</td>\n",
       "</tr>\n",
       "<tr>\n",
       "<td style='text-align: right'>10486721</td>\n",
       "<td>2021-04-15 18:10:24</td>\n",
       "<td>barbara </td>\n",
       "<td>baruch</td>\n",
       "<td>barbarabaruch@gmail.com</td>\n",
       "<td>2812160858</td>\n",
       "<td>78255</td>\n",
       "<td>https://organizetexas.org/healthcare/call-speaker-phelan-now?preview=true&link_id=3&can_id=7b19d91cfdd42508f61ea3ea3bf5ceb8&source=email-action-alert-new-momentum-on-a-healthcare-expansion-bill-at-the-legislature-2&email_referrer=email_1142928&email_subject=action-alert-call-speaker-phelan-now</td>\n",
       "<td style='text-align: right'>695590</td>\n",
       "<td>MDW</td>\n",
       "<td style='text-align: right'>128562</td>\n",
       "<td>completed</td>\n",
       "<td>Call ended successfully</td>\n",
       "<td style='text-align: right'>1</td>\n",
       "<td style='text-align: right'>1</td>\n",
       "<td style='text-align: right'>750015273</td>\n",
       "<td style='text-align: right'>31580</td>\n",
       "<td>2021-04-15T18:10:24</td>\n",
       "<td>2021-04-15</td>\n",
       "<td>2021-04-14</td>\n",
       "<td>2021-04-16</td>\n",
       "</tr>\n",
       "</tbody>\n",
       "</table>\n",
       "<p><strong>...</strong></p>"
      ],
      "text/plain": [
       "{'outreach_id': 10464744, 'action_date': '2021-04-14 14:01:38', 'first_name': 'Denise', 'last_name': 'Hernandez', 'email': 'hernandez.denise210@gmail.com', 'phone': '2102877852', 'zip': '78213', 'parent_url': 'https://organizetexas.org/right2j/hb829-will-enforce-police-accountability?fbclid=IwAR1l8XO3SsPMEJvV6PBdz-C8QdVPxGHOQwv2n0XXBRN6S_S-4pveJaJjbyc', 'survey_response_id': 914328, 'event_type': 'MDW', 'event_calendar_id': 128562, 'call_status': 'completed', 'call_hangup_reason': 'Call ended successfully', 'day_rank': 1, 'dup': 1, 'eventid': 750015272, 'eventshiftid': 31579, 'action_date_iso': '2021-04-14T14:01:38', 'action_date_date': datetime.date(2021, 4, 14), 'action_date_after': '2021-04-13', 'action_date_before': '2021-04-15'}\n",
       "{'outreach_id': 10488863, 'action_date': '2021-04-15 21:33:20', 'first_name': 'Patti', 'last_name': 'Peacock', 'email': 'pattip49@hotmail.com', 'phone': '5127910773', 'zip': '78613', 'parent_url': 'https://organizetexas.org/healthcare/call-speaker-phelan-now?preview=true&link_id=3&can_id=72dbda8f5e292c965b8ab946e37f6306&source=email-action-alert-new-momentum-on-a-healthcare-expansion-bill-at-the-legislature-2&email_referrer=email_1142928&email_subject=action-alert-call-speaker-phelan-now', 'survey_response_id': 695590, 'event_type': 'MDW', 'event_calendar_id': 128562, 'call_status': 'completed', 'call_hangup_reason': 'Call ended successfully', 'day_rank': 1, 'dup': 1, 'eventid': 750015273, 'eventshiftid': 31580, 'action_date_iso': '2021-04-15T21:33:20', 'action_date_date': datetime.date(2021, 4, 15), 'action_date_after': '2021-04-14', 'action_date_before': '2021-04-16'}\n",
       "{'outreach_id': 10486574, 'action_date': '2021-04-15 17:59:17', 'first_name': 'Elizabeth', 'last_name': 'Gregory', 'email': 'elizabeth_gregory@earthlink.net', 'phone': '7132568310', 'zip': '77030', 'parent_url': 'https://organizetexas.org/healthcare/call-speaker-phelan-now?preview=true&link_id=3&can_id=2c8e13b63ecd188ddb63b439abaa755c&source=email-action-alert-new-momentum-on-a-healthcare-expansion-bill-at-the-legislature-2&email_referrer=email_1142928&email_subject=action-alert-call-speaker-phelan-now', 'survey_response_id': 695590, 'event_type': 'MDW', 'event_calendar_id': 128562, 'call_status': 'completed', 'call_hangup_reason': 'Call ended successfully', 'day_rank': 1, 'dup': 1, 'eventid': 750015273, 'eventshiftid': 31580, 'action_date_iso': '2021-04-15T17:59:17', 'action_date_date': datetime.date(2021, 4, 15), 'action_date_after': '2021-04-14', 'action_date_before': '2021-04-16'}\n",
       "{'outreach_id': 10486560, 'action_date': '2021-04-15 17:57:59', 'first_name': 'Anita', 'last_name': 'Garcia', 'email': 'gar04317@yahoo.com', 'phone': '5128261371', 'zip': '78749', 'parent_url': 'https://organizetexas.org/healthcare/call-speaker-phelan-now?preview=true&link_id=3&can_id=907fa04fcace94d5702469b052cd834c&source=email-action-alert-new-momentum-on-a-healthcare-expansion-bill-at-the-legislature-2&email_referrer=email_1142928&email_subject=action-alert-call-speaker-phelan-now', 'survey_response_id': 695590, 'event_type': 'MDW', 'event_calendar_id': 128562, 'call_status': 'completed', 'call_hangup_reason': 'Call ended successfully', 'day_rank': 1, 'dup': 1, 'eventid': 750015273, 'eventshiftid': 31580, 'action_date_iso': '2021-04-15T17:57:59', 'action_date_date': datetime.date(2021, 4, 15), 'action_date_after': '2021-04-14', 'action_date_before': '2021-04-16'}\n",
       "{'outreach_id': 10486721, 'action_date': '2021-04-15 18:10:24', 'first_name': 'barbara ', 'last_name': 'baruch', 'email': 'barbarabaruch@gmail.com', 'phone': '2812160858', 'zip': '78255', 'parent_url': 'https://organizetexas.org/healthcare/call-speaker-phelan-now?preview=true&link_id=3&can_id=7b19d91cfdd42508f61ea3ea3bf5ceb8&source=email-action-alert-new-momentum-on-a-healthcare-expansion-bill-at-the-legislature-2&email_referrer=email_1142928&email_subject=action-alert-call-speaker-phelan-now', 'survey_response_id': 695590, 'event_type': 'MDW', 'event_calendar_id': 128562, 'call_status': 'completed', 'call_hangup_reason': 'Call ended successfully', 'day_rank': 1, 'dup': 1, 'eventid': 750015273, 'eventshiftid': 31580, 'action_date_iso': '2021-04-15T18:10:24', 'action_date_date': datetime.date(2021, 4, 15), 'action_date_after': '2021-04-14', 'action_date_before': '2021-04-16'}\n",
       "..."
      ]
     },
     "execution_count": 88,
     "metadata": {},
     "output_type": "execute_result"
    }
   ],
   "source": [
    "    # 1. Convert action date to iso format, and add it to a new column\n",
    "    source_tbl.add_column(\n",
    "      'action_date_iso',\n",
    "      lambda row: datetime.strptime(row['action_date'], '%Y-%m-%d %H:%M:%S').isoformat()\n",
    "    )\n",
    "\n",
    "    # 2. Convert action date to datetime date, and add it to a new column\n",
    "    source_tbl.add_column(\n",
    "      'action_date_date',\n",
    "      lambda row: datetime.strptime(row['action_date'], '%Y-%m-%d %H:%M:%S').date()\n",
    "    )\n",
    "\n",
    "    # 3. Substract one day from the action date, convert the output to a string, and add it to a new column\n",
    "    source_tbl.add_column(\n",
    "      'action_date_after',\n",
    "      lambda row: str(row['action_date_date'] - timedelta(days=1))\n",
    "    )\n",
    "\n",
    "    # 4. Add/substract one day from the action date, convert the output to a string, and add it to a new column\n",
    "    source_tbl.add_column(\n",
    "      'action_date_before',\n",
    "      lambda row: str(row['action_date_date'] + timedelta(days=1))\n",
    "    )"
   ]
  },
  {
   "cell_type": "code",
   "execution_count": 106,
   "metadata": {},
   "outputs": [
    {
     "ename": "NameError",
     "evalue": "name 'NULL' is not defined",
     "output_type": "error",
     "traceback": [
      "\u001b[0;31m---------------------------------------------------------------------------\u001b[0m",
      "\u001b[0;31mNameError\u001b[0m                                 Traceback (most recent call last)",
      "\u001b[0;32m<ipython-input-106-ed28283e9ccb>\u001b[0m in \u001b[0;36m<module>\u001b[0;34m\u001b[0m\n\u001b[0;32m----> 1\u001b[0;31m \u001b[0mlist_check\u001b[0m \u001b[0;34m=\u001b[0m \u001b[0;34m[\u001b[0m\u001b[0mNULL\u001b[0m\u001b[0;34m,\u001b[0m \u001b[0;36m292392\u001b[0m\u001b[0;34m,\u001b[0m \u001b[0;36m293829\u001b[0m\u001b[0;34m]\u001b[0m\u001b[0;34m\u001b[0m\u001b[0;34m\u001b[0m\u001b[0m\n\u001b[0m",
      "\u001b[0;31mNameError\u001b[0m: name 'NULL' is not defined"
     ]
    }
   ],
   "source": []
  },
  {
   "cell_type": "code",
   "execution_count": 105,
   "metadata": {},
   "outputs": [
    {
     "data": {
      "text/plain": [
       "[]"
      ]
     },
     "execution_count": 105,
     "metadata": {},
     "output_type": "execute_result"
    }
   ],
   "source": []
  },
  {
   "cell_type": "code",
   "execution_count": 70,
   "metadata": {},
   "outputs": [],
   "source": [
    "EA_EVENT_SUMMARY = 'txop_newmode.ea_event_summary'\n",
    "SURVEY_QUESTION_ID = 163740 # issue campaign\n",
    "CONTACT_TYPE_ID = 1 # phone\n",
    "#### UPDATE IN CODE\n",
    "EVENT_TYPE_ID_MDW = 128562 # MDW\n",
    "EVENT_TYPE_ID_DA = 164850 # DA\n",
    "ROLE_ID = 100541 # talked to politician\n",
    "STATUS_ID = 2 # complete"
   ]
  },
  {
   "cell_type": "code",
   "execution_count": 38,
   "metadata": {},
   "outputs": [
    {
     "name": "stderr",
     "output_type": "stream",
     "text": [
      "INFO Working on outreach_id=10496281\n",
      "INFO:canalespy:Working on outreach_id=10496281\n",
      "INFO Working on outreach_id=10487814\n",
      "INFO:canalespy:Working on outreach_id=10487814\n",
      "INFO Working on outreach_id=10487436\n",
      "INFO:canalespy:Working on outreach_id=10487436\n"
     ]
    },
    {
     "name": "stdout",
     "output_type": "stream",
     "text": [
      "{'eventid': 750015273, 'eventshiftid': 31580}\n",
      "750015273\n"
     ]
    },
    {
     "name": "stderr",
     "output_type": "stream",
     "text": [
      "INFO Working on outreach_id=10464744\n",
      "INFO:canalespy:Working on outreach_id=10464744\n"
     ]
    },
    {
     "name": "stdout",
     "output_type": "stream",
     "text": [
      "{'eventid': 750015273, 'eventshiftid': 31580}\n",
      "750015273\n"
     ]
    },
    {
     "name": "stderr",
     "output_type": "stream",
     "text": [
      "INFO Working on outreach_id=10488863\n",
      "INFO:canalespy:Working on outreach_id=10488863\n"
     ]
    },
    {
     "name": "stdout",
     "output_type": "stream",
     "text": [
      "{'eventid': 750015272, 'eventshiftid': 31579}\n",
      "750015272\n"
     ]
    },
    {
     "name": "stderr",
     "output_type": "stream",
     "text": [
      "INFO Working on outreach_id=10496277\n",
      "INFO:canalespy:Working on outreach_id=10496277\n",
      "INFO Working on outreach_id=10486574\n",
      "INFO:canalespy:Working on outreach_id=10486574\n"
     ]
    },
    {
     "name": "stdout",
     "output_type": "stream",
     "text": [
      "{'eventid': 750015273, 'eventshiftid': 31580}\n",
      "750015273\n"
     ]
    },
    {
     "name": "stderr",
     "output_type": "stream",
     "text": [
      "INFO Working on outreach_id=10496275\n",
      "INFO:canalespy:Working on outreach_id=10496275\n"
     ]
    },
    {
     "name": "stdout",
     "output_type": "stream",
     "text": [
      "{'eventid': 750015273, 'eventshiftid': 31580}\n",
      "750015273\n"
     ]
    },
    {
     "name": "stderr",
     "output_type": "stream",
     "text": [
      "INFO Working on outreach_id=10490452\n",
      "INFO:canalespy:Working on outreach_id=10490452\n"
     ]
    },
    {
     "name": "stdout",
     "output_type": "stream",
     "text": [
      "{'eventid': 750015274, 'eventshiftid': 31581}\n",
      "750015274\n"
     ]
    },
    {
     "name": "stderr",
     "output_type": "stream",
     "text": [
      "INFO Working on outreach_id=10487363\n",
      "INFO:canalespy:Working on outreach_id=10487363\n"
     ]
    },
    {
     "name": "stdout",
     "output_type": "stream",
     "text": [
      "{'eventid': 750015274, 'eventshiftid': 31581}\n",
      "750015274\n"
     ]
    },
    {
     "name": "stderr",
     "output_type": "stream",
     "text": [
      "INFO Working on outreach_id=10486560\n",
      "INFO:canalespy:Working on outreach_id=10486560\n"
     ]
    },
    {
     "name": "stdout",
     "output_type": "stream",
     "text": [
      "{'eventid': 750015273, 'eventshiftid': 31580}\n",
      "750015273\n"
     ]
    },
    {
     "name": "stderr",
     "output_type": "stream",
     "text": [
      "INFO Working on outreach_id=10486721\n",
      "INFO:canalespy:Working on outreach_id=10486721\n"
     ]
    },
    {
     "name": "stdout",
     "output_type": "stream",
     "text": [
      "{'eventid': 750015273, 'eventshiftid': 31580}\n",
      "750015273\n"
     ]
    },
    {
     "name": "stderr",
     "output_type": "stream",
     "text": [
      "INFO Working on outreach_id=10488023\n",
      "INFO:canalespy:Working on outreach_id=10488023\n"
     ]
    },
    {
     "name": "stdout",
     "output_type": "stream",
     "text": [
      "{'eventid': 750015273, 'eventshiftid': 31580}\n",
      "750015273\n"
     ]
    },
    {
     "name": "stderr",
     "output_type": "stream",
     "text": [
      "INFO Working on outreach_id=10485494\n",
      "INFO:canalespy:Working on outreach_id=10485494\n"
     ]
    },
    {
     "name": "stdout",
     "output_type": "stream",
     "text": [
      "{'eventid': 750015273, 'eventshiftid': 31580}\n",
      "750015273\n"
     ]
    },
    {
     "name": "stderr",
     "output_type": "stream",
     "text": [
      "INFO Working on outreach_id=10488886\n",
      "INFO:canalespy:Working on outreach_id=10488886\n"
     ]
    },
    {
     "name": "stdout",
     "output_type": "stream",
     "text": [
      "{'eventid': 750015273, 'eventshiftid': 31580}\n",
      "750015273\n"
     ]
    },
    {
     "name": "stderr",
     "output_type": "stream",
     "text": [
      "INFO Working on outreach_id=10486866\n",
      "INFO:canalespy:Working on outreach_id=10486866\n"
     ]
    },
    {
     "name": "stdout",
     "output_type": "stream",
     "text": [
      "{'eventid': 750015273, 'eventshiftid': 31580}\n",
      "750015273\n",
      "{'eventid': 750015273, 'eventshiftid': 31580}\n",
      "750015273\n"
     ]
    }
   ],
   "source": [
    "for ppl in source_tbl:\n",
    "    logger.info(f\"Working on outreach_id={ppl['outreach_id']}\")\n",
    "    \n",
    "    if ppl['day_rank'] == 1:\n",
    "\n",
    "        find_event = rs.query(f'''\n",
    "            SELECT \n",
    "                eventid\n",
    "              , eventshiftid \n",
    "            FROM {EA_EVENT_SUMMARY}\n",
    "            WHERE dateoffsetbegin::date = '{str(ppl['action_date_date'])}'\n",
    "            AND eventcalendarid = '{EVENT_TYPE_ID_MDW}'\n",
    "        ''')\n",
    "        print(find_event)\n",
    "        \n",
    "        event_id = find_event['eventid'][0]\n",
    "        print(event_id)"
   ]
  },
  {
   "cell_type": "code",
   "execution_count": 44,
   "metadata": {},
   "outputs": [],
   "source": [
    "ea_event_summary = rs.query(f\"select * from {EA_EVENT_SUMMARY}\")"
   ]
  },
  {
   "cell_type": "code",
   "execution_count": 58,
   "metadata": {},
   "outputs": [
    {
     "data": {
      "text/html": [
       "<table class='petl'>\n",
       "<thead>\n",
       "<tr>\n",
       "<th>eventid</th>\n",
       "<th>eventcalendarid</th>\n",
       "<th>eventcalendarname</th>\n",
       "<th>eventname</th>\n",
       "<th>dateoffsetbegin</th>\n",
       "<th>dateoffsetend</th>\n",
       "<th>eventshiftid</th>\n",
       "</tr>\n",
       "</thead>\n",
       "<tbody>\n",
       "<tr>\n",
       "<td style='text-align: right'>750017859</td>\n",
       "<td style='text-align: right'>164850</td>\n",
       "<td>Action-DirectAction</td>\n",
       "<td>New Mode Direct Action</td>\n",
       "<td>2021-04-07</td>\n",
       "<td>2021-04-07</td>\n",
       "<td style='text-align: right'>34172</td>\n",
       "</tr>\n",
       "<tr>\n",
       "<td style='text-align: right'>750015225</td>\n",
       "<td style='text-align: right'>128562</td>\n",
       "<td>Member Doing Work</td>\n",
       "<td>Member Doing Work</td>\n",
       "<td>2021-02-26</td>\n",
       "<td>2021-02-26</td>\n",
       "<td style='text-align: right'>31532</td>\n",
       "</tr>\n",
       "<tr>\n",
       "<td style='text-align: right'>750015173</td>\n",
       "<td style='text-align: right'>128562</td>\n",
       "<td>Member Doing Work</td>\n",
       "<td>Member Doing Work</td>\n",
       "<td>2021-01-05</td>\n",
       "<td>2021-01-05</td>\n",
       "<td style='text-align: right'>31480</td>\n",
       "</tr>\n",
       "<tr>\n",
       "<td style='text-align: right'>750015185</td>\n",
       "<td style='text-align: right'>128562</td>\n",
       "<td>Member Doing Work</td>\n",
       "<td>Member Doing Work</td>\n",
       "<td>2021-01-17</td>\n",
       "<td>2021-01-17</td>\n",
       "<td style='text-align: right'>31492</td>\n",
       "</tr>\n",
       "<tr>\n",
       "<td style='text-align: right'>750015184</td>\n",
       "<td style='text-align: right'>128562</td>\n",
       "<td>Member Doing Work</td>\n",
       "<td>Member Doing Work</td>\n",
       "<td>2021-01-16</td>\n",
       "<td>2021-01-16</td>\n",
       "<td style='text-align: right'>31491</td>\n",
       "</tr>\n",
       "</tbody>\n",
       "</table>\n",
       "<p><strong>...</strong></p>"
      ],
      "text/plain": [
       "{'eventid': 750017859, 'eventcalendarid': 164850, 'eventcalendarname': 'Action-DirectAction', 'eventname': 'New Mode Direct Action', 'dateoffsetbegin': datetime.date(2021, 4, 7), 'dateoffsetend': datetime.date(2021, 4, 7), 'eventshiftid': 34172}\n",
       "{'eventid': 750015225, 'eventcalendarid': 128562, 'eventcalendarname': 'Member Doing Work', 'eventname': 'Member Doing Work', 'dateoffsetbegin': datetime.date(2021, 2, 26), 'dateoffsetend': datetime.date(2021, 2, 26), 'eventshiftid': 31532}\n",
       "{'eventid': 750015173, 'eventcalendarid': 128562, 'eventcalendarname': 'Member Doing Work', 'eventname': 'Member Doing Work', 'dateoffsetbegin': datetime.date(2021, 1, 5), 'dateoffsetend': datetime.date(2021, 1, 5), 'eventshiftid': 31480}\n",
       "{'eventid': 750015185, 'eventcalendarid': 128562, 'eventcalendarname': 'Member Doing Work', 'eventname': 'Member Doing Work', 'dateoffsetbegin': datetime.date(2021, 1, 17), 'dateoffsetend': datetime.date(2021, 1, 17), 'eventshiftid': 31492}\n",
       "{'eventid': 750015184, 'eventcalendarid': 128562, 'eventcalendarname': 'Member Doing Work', 'eventname': 'Member Doing Work', 'dateoffsetbegin': datetime.date(2021, 1, 16), 'dateoffsetend': datetime.date(2021, 1, 16), 'eventshiftid': 31491}\n",
       "..."
      ]
     },
     "execution_count": 58,
     "metadata": {},
     "output_type": "execute_result"
    }
   ],
   "source": [
    "ea_event_summary"
   ]
  },
  {
   "cell_type": "code",
   "execution_count": 78,
   "metadata": {},
   "outputs": [],
   "source": [
    "event_test = rs.query(f'''\n",
    "            SELECT s.*\n",
    "              , e.eventid\n",
    "              , e.eventshiftid \n",
    "            FROM {SOURCE_TABLE} s\n",
    "            LEFT JOIN {EA_EVENT_SUMMARY} e on e.dateoffsetbegin::date = s.action_date::date and e.eventcalendarid = s.event_calendar_id\n",
    "        ''')"
   ]
  },
  {
   "cell_type": "code",
   "execution_count": 80,
   "metadata": {},
   "outputs": [
    {
     "data": {
      "text/html": [
       "<table class='petl'>\n",
       "<thead>\n",
       "<tr>\n",
       "<th>outreach_id</th>\n",
       "<th>action_date</th>\n",
       "<th>first_name</th>\n",
       "<th>last_name</th>\n",
       "<th>email</th>\n",
       "<th>phone</th>\n",
       "<th>zip</th>\n",
       "<th>parent_url</th>\n",
       "<th>survey_response_id</th>\n",
       "<th>event_type</th>\n",
       "<th>event_calendar_id</th>\n",
       "<th>call_status</th>\n",
       "<th>call_hangup_reason</th>\n",
       "<th>day_rank</th>\n",
       "<th>eventid</th>\n",
       "<th>eventshiftid</th>\n",
       "</tr>\n",
       "</thead>\n",
       "<tbody>\n",
       "<tr>\n",
       "<td style='text-align: right'>10215647</td>\n",
       "<td>2021-03-23 17:38:25</td>\n",
       "<td>Justin </td>\n",
       "<td>Leaca </td>\n",
       "<td>justin.lecea@gmail.com</td>\n",
       "<td>8108143304</td>\n",
       "<td>78229</td>\n",
       "<td>https://organizetexas.org/r2j/letvotersdecide</td>\n",
       "<td style='text-align: right'>914328</td>\n",
       "<td>MDW</td>\n",
       "<td style='text-align: right'>128562</td>\n",
       "<td>completed</td>\n",
       "<td>Call ended successfully</td>\n",
       "<td style='text-align: right'>1</td>\n",
       "<td style='text-align: right'>750015250</td>\n",
       "<td style='text-align: right'>31557</td>\n",
       "</tr>\n",
       "<tr>\n",
       "<td style='text-align: right'>10488886</td>\n",
       "<td>2021-04-15 21:36:59</td>\n",
       "<td>ROBERT</td>\n",
       "<td>KRAKOW</td>\n",
       "<td>rkrakow@gibsondunn.com</td>\n",
       "<td>2145057124</td>\n",
       "<td>75209</td>\n",
       "<td>https://organizetexas.org/healthcare/call-speaker-phelan-now?preview=true&link_id=3&can_id=e66820eaae2b16cc833dd1b355930af2&source=email-action-alert-new-momentum-on-a-healthcare-expansion-bill-at-the-legislature-2&email_referrer=email_1142928&email_subject=action-alert-call-speaker-phelan-now</td>\n",
       "<td style='text-align: right'>695590</td>\n",
       "<td>MDW</td>\n",
       "<td style='text-align: right'>128562</td>\n",
       "<td>completed</td>\n",
       "<td>Call ended successfully</td>\n",
       "<td style='text-align: right'>1</td>\n",
       "<td style='text-align: right'>750015273</td>\n",
       "<td style='text-align: right'>31580</td>\n",
       "</tr>\n",
       "<tr>\n",
       "<td style='text-align: right'>10486560</td>\n",
       "<td>2021-04-15 17:57:59</td>\n",
       "<td>Anita</td>\n",
       "<td>Garcia</td>\n",
       "<td>gar04317@yahoo.com</td>\n",
       "<td>5128261371</td>\n",
       "<td>78749</td>\n",
       "<td>https://organizetexas.org/healthcare/call-speaker-phelan-now?preview=true&link_id=3&can_id=907fa04fcace94d5702469b052cd834c&source=email-action-alert-new-momentum-on-a-healthcare-expansion-bill-at-the-legislature-2&email_referrer=email_1142928&email_subject=action-alert-call-speaker-phelan-now</td>\n",
       "<td style='text-align: right'>695590</td>\n",
       "<td>MDW</td>\n",
       "<td style='text-align: right'>128562</td>\n",
       "<td>completed</td>\n",
       "<td>Call ended successfully</td>\n",
       "<td style='text-align: right'>1</td>\n",
       "<td style='text-align: right'>750015273</td>\n",
       "<td style='text-align: right'>31580</td>\n",
       "</tr>\n",
       "<tr>\n",
       "<td style='text-align: right'>10486574</td>\n",
       "<td>2021-04-15 17:59:17</td>\n",
       "<td>Elizabeth</td>\n",
       "<td>Gregory</td>\n",
       "<td>elizabeth_gregory@earthlink.net</td>\n",
       "<td>7132568310</td>\n",
       "<td>77030</td>\n",
       "<td>https://organizetexas.org/healthcare/call-speaker-phelan-now?preview=true&link_id=3&can_id=2c8e13b63ecd188ddb63b439abaa755c&source=email-action-alert-new-momentum-on-a-healthcare-expansion-bill-at-the-legislature-2&email_referrer=email_1142928&email_subject=action-alert-call-speaker-phelan-now</td>\n",
       "<td style='text-align: right'>695590</td>\n",
       "<td>MDW</td>\n",
       "<td style='text-align: right'>128562</td>\n",
       "<td>completed</td>\n",
       "<td>Call ended successfully</td>\n",
       "<td style='text-align: right'>1</td>\n",
       "<td style='text-align: right'>750015273</td>\n",
       "<td style='text-align: right'>31580</td>\n",
       "</tr>\n",
       "<tr>\n",
       "<td style='text-align: right'>10487363</td>\n",
       "<td>2021-04-15 19:07:51</td>\n",
       "<td>Melba</td>\n",
       "<td>Vasquez</td>\n",
       "<td>melvasquez@aol.com</td>\n",
       "<td>5123274218</td>\n",
       "<td>78746</td>\n",
       "<td>https://organizetexas.org/healthcare/call-speaker-phelan-now?preview=true&link_id=3&can_id=f4d1a233b0d88b20dc4a486a7a68a670&source=email-action-alert-new-momentum-on-a-healthcare-expansion-bill-at-the-legislature-2&email_referrer=email_1142928&email_subject=action-alert-call-speaker-phelan-now</td>\n",
       "<td style='text-align: right'>695590</td>\n",
       "<td>MDW</td>\n",
       "<td style='text-align: right'>128562</td>\n",
       "<td>completed</td>\n",
       "<td>Call ended successfully</td>\n",
       "<td style='text-align: right'>1</td>\n",
       "<td style='text-align: right'>750015273</td>\n",
       "<td style='text-align: right'>31580</td>\n",
       "</tr>\n",
       "</tbody>\n",
       "</table>\n",
       "<p><strong>...</strong></p>"
      ],
      "text/plain": [
       "{'outreach_id': 10215647, 'action_date': '2021-03-23 17:38:25', 'first_name': 'Justin ', 'last_name': 'Leaca ', 'email': 'justin.lecea@gmail.com', 'phone': '8108143304', 'zip': '78229', 'parent_url': 'https://organizetexas.org/r2j/letvotersdecide', 'survey_response_id': 914328, 'event_type': 'MDW', 'event_calendar_id': 128562, 'call_status': 'completed', 'call_hangup_reason': 'Call ended successfully', 'day_rank': 1, 'eventid': 750015250, 'eventshiftid': 31557}\n",
       "{'outreach_id': 10488886, 'action_date': '2021-04-15 21:36:59', 'first_name': 'ROBERT', 'last_name': 'KRAKOW', 'email': 'rkrakow@gibsondunn.com', 'phone': '2145057124', 'zip': '75209', 'parent_url': 'https://organizetexas.org/healthcare/call-speaker-phelan-now?preview=true&link_id=3&can_id=e66820eaae2b16cc833dd1b355930af2&source=email-action-alert-new-momentum-on-a-healthcare-expansion-bill-at-the-legislature-2&email_referrer=email_1142928&email_subject=action-alert-call-speaker-phelan-now', 'survey_response_id': 695590, 'event_type': 'MDW', 'event_calendar_id': 128562, 'call_status': 'completed', 'call_hangup_reason': 'Call ended successfully', 'day_rank': 1, 'eventid': 750015273, 'eventshiftid': 31580}\n",
       "{'outreach_id': 10486560, 'action_date': '2021-04-15 17:57:59', 'first_name': 'Anita', 'last_name': 'Garcia', 'email': 'gar04317@yahoo.com', 'phone': '5128261371', 'zip': '78749', 'parent_url': 'https://organizetexas.org/healthcare/call-speaker-phelan-now?preview=true&link_id=3&can_id=907fa04fcace94d5702469b052cd834c&source=email-action-alert-new-momentum-on-a-healthcare-expansion-bill-at-the-legislature-2&email_referrer=email_1142928&email_subject=action-alert-call-speaker-phelan-now', 'survey_response_id': 695590, 'event_type': 'MDW', 'event_calendar_id': 128562, 'call_status': 'completed', 'call_hangup_reason': 'Call ended successfully', 'day_rank': 1, 'eventid': 750015273, 'eventshiftid': 31580}\n",
       "{'outreach_id': 10486574, 'action_date': '2021-04-15 17:59:17', 'first_name': 'Elizabeth', 'last_name': 'Gregory', 'email': 'elizabeth_gregory@earthlink.net', 'phone': '7132568310', 'zip': '77030', 'parent_url': 'https://organizetexas.org/healthcare/call-speaker-phelan-now?preview=true&link_id=3&can_id=2c8e13b63ecd188ddb63b439abaa755c&source=email-action-alert-new-momentum-on-a-healthcare-expansion-bill-at-the-legislature-2&email_referrer=email_1142928&email_subject=action-alert-call-speaker-phelan-now', 'survey_response_id': 695590, 'event_type': 'MDW', 'event_calendar_id': 128562, 'call_status': 'completed', 'call_hangup_reason': 'Call ended successfully', 'day_rank': 1, 'eventid': 750015273, 'eventshiftid': 31580}\n",
       "{'outreach_id': 10487363, 'action_date': '2021-04-15 19:07:51', 'first_name': 'Melba', 'last_name': 'Vasquez', 'email': 'melvasquez@aol.com', 'phone': '5123274218', 'zip': '78746', 'parent_url': 'https://organizetexas.org/healthcare/call-speaker-phelan-now?preview=true&link_id=3&can_id=f4d1a233b0d88b20dc4a486a7a68a670&source=email-action-alert-new-momentum-on-a-healthcare-expansion-bill-at-the-legislature-2&email_referrer=email_1142928&email_subject=action-alert-call-speaker-phelan-now', 'survey_response_id': 695590, 'event_type': 'MDW', 'event_calendar_id': 128562, 'call_status': 'completed', 'call_hangup_reason': 'Call ended successfully', 'day_rank': 1, 'eventid': 750015273, 'eventshiftid': 31580}\n",
       "..."
      ]
     },
     "execution_count": 80,
     "metadata": {},
     "output_type": "execute_result"
    }
   ],
   "source": [
    "event_test"
   ]
  },
  {
   "cell_type": "code",
   "execution_count": 60,
   "metadata": {},
   "outputs": [
    {
     "ename": "AttributeError",
     "evalue": "'list' object has no attribute 'select_rows'",
     "output_type": "error",
     "traceback": [
      "\u001b[0;31m---------------------------------------------------------------------------\u001b[0m",
      "\u001b[0;31mAttributeError\u001b[0m                            Traceback (most recent call last)",
      "\u001b[0;32m<ipython-input-60-050ce178689c>\u001b[0m in \u001b[0;36m<module>\u001b[0;34m\u001b[0m\n\u001b[1;32m     16\u001b[0m \u001b[0;31m# )\u001b[0m\u001b[0;34m\u001b[0m\u001b[0;34m\u001b[0m\u001b[0;34m\u001b[0m\u001b[0m\n\u001b[1;32m     17\u001b[0m \u001b[0;34m\u001b[0m\u001b[0m\n\u001b[0;32m---> 18\u001b[0;31m \u001b[0mfind_dates\u001b[0m\u001b[0;34m[\u001b[0m\u001b[0;34m'event_id'\u001b[0m\u001b[0;34m]\u001b[0m \u001b[0;34m=\u001b[0m \u001b[0mea_event_summary\u001b[0m\u001b[0;34m[\u001b[0m\u001b[0;34m'eventid'\u001b[0m\u001b[0;34m]\u001b[0m\u001b[0;34m.\u001b[0m\u001b[0mselect_rows\u001b[0m\u001b[0;34m(\u001b[0m\u001b[0;32mlambda\u001b[0m \u001b[0me\u001b[0m\u001b[0;34m:\u001b[0m \u001b[0me\u001b[0m\u001b[0;34m[\u001b[0m\u001b[0;34m'dateoffsetbegin'\u001b[0m\u001b[0;34m]\u001b[0m \u001b[0;34m==\u001b[0m \u001b[0msource_tbl\u001b[0m\u001b[0;34m[\u001b[0m\u001b[0;34m'action_date_date'\u001b[0m\u001b[0;34m]\u001b[0m\u001b[0;34m)\u001b[0m\u001b[0;34m\u001b[0m\u001b[0;34m\u001b[0m\u001b[0m\n\u001b[0m",
      "\u001b[0;31mAttributeError\u001b[0m: 'list' object has no attribute 'select_rows'"
     ]
    }
   ],
   "source": [
    "#     eventid\n",
    "#   , eventshiftid \n",
    "# FROM {EA_EVENT_SUMMARY}\n",
    "# WHERE dateoffsetbegin::date = '{str(ppl['action_date_date'])}'\n",
    "# AND eventcalendarid = '{EVENT_TYPE_ID_MDW}'\n",
    "\n",
    "# source_tbl.add_column(\n",
    "#   'event_id',\n",
    "#   ea_event_summary.select_rows(lambda row: str(row[dateoffsetbegin] == source_tbl['action_date_date']))\n",
    "# )\n",
    "\n",
    "\n",
    "# find_dates = source_tbl.add_column(\n",
    "#     'event_id',\n",
    "#     ea_event_summary['eventid'].map(lambda e: e['dateoffsetbegin'] == source_tbl['action_date_date'])\n",
    "# )\n",
    "\n",
    "find_dates['event_id'] = ea_event_summary['eventid'].select_rows(lambda e: e['dateoffsetbegin'] == source_tbl['action_date_date'])"
   ]
  },
  {
   "cell_type": "code",
   "execution_count": 50,
   "metadata": {},
   "outputs": [
    {
     "data": {
      "text/html": [
       "<table class='petl'>\n",
       "<thead>\n",
       "<tr>\n",
       "<th>outreach_id</th>\n",
       "<th>action_date</th>\n",
       "<th>first_name</th>\n",
       "<th>last_name</th>\n",
       "<th>email</th>\n",
       "<th>phone</th>\n",
       "<th>zip</th>\n",
       "<th>parent_url</th>\n",
       "<th>survey_response_id</th>\n",
       "<th>event_type</th>\n",
       "<th>call_status</th>\n",
       "<th>call_hangup_reason</th>\n",
       "<th>day_rank</th>\n",
       "<th>dup</th>\n",
       "<th>vanid</th>\n",
       "<th>date_created</th>\n",
       "<th>sr_load</th>\n",
       "<th>signup_id</th>\n",
       "<th>action_date_iso</th>\n",
       "<th>action_date_date</th>\n",
       "<th>action_date_after</th>\n",
       "<th>action_date_before</th>\n",
       "<th>event_id</th>\n",
       "</tr>\n",
       "</thead>\n",
       "<tbody>\n",
       "<tr>\n",
       "<td style='text-align: right'>10496281</td>\n",
       "<td>2021-04-16 14:43:18</td>\n",
       "<td>Jean</td>\n",
       "<td>Leider</td>\n",
       "<td>jeancaffeine@gmail.com</td>\n",
       "<td>5129234959</td>\n",
       "<td>78745</td>\n",
       "<td>https://organizetexas.org/healthcare/call-speaker-phelan-now?preview=true&link_id=3&can_id=7aad08a3c87f20f6eb9401c694c31c19&source=email-action-alert-new-momentum-on-a-healthcare-expansion-bill-at-the-legislature-2&email_referrer=email_1142928&email_subject=action-alert-call-speaker-phelan-now</td>\n",
       "<td style='text-align: right'>695590</td>\n",
       "<td>MDW</td>\n",
       "<td>completed</td>\n",
       "<td>Call ended successfully</td>\n",
       "<td style='text-align: right'>3</td>\n",
       "<td style='text-align: right'>1</td>\n",
       "<td>None</td>\n",
       "<td>None</td>\n",
       "<td>None</td>\n",
       "<td>None</td>\n",
       "<td>2021-04-16T14:43:18</td>\n",
       "<td>2021-04-16</td>\n",
       "<td>2021-04-15</td>\n",
       "<td>2021-04-17</td>\n",
       "<td>{'eventid': 750017859, 'eventcalendarid': 164850, 'eventcalendarname': 'Action-DirectAction', 'eventname': 'New Mode Direct Action', 'dateoffsetbegin': datetime.date(2021, 4, 7), 'dateoffsetend': datetime.date(2021, 4, 7), 'eventshiftid': 34172}\n",
       "{'eventid': 750015225, 'eventcalendarid': 128562, 'eventcalendarname': 'Member Doing Work', 'eventname': 'Member Doing Work', 'dateoffsetbegin': datetime.date(2021, 2, 26), 'dateoffsetend': datetime.date(2021, 2, 26), 'eventshiftid': 31532}\n",
       "{'eventid': 750015173, 'eventcalendarid': 128562, 'eventcalendarname': 'Member Doing Work', 'eventname': 'Member Doing Work', 'dateoffsetbegin': datetime.date(2021, 1, 5), 'dateoffsetend': datetime.date(2021, 1, 5), 'eventshiftid': 31480}\n",
       "{'eventid': 750015185, 'eventcalendarid': 128562, 'eventcalendarname': 'Member Doing Work', 'eventname': 'Member Doing Work', 'dateoffsetbegin': datetime.date(2021, 1, 17), 'dateoffsetend': datetime.date(2021, 1, 17), 'eventshiftid': 31492}\n",
       "{'eventid': 750015184, 'eventcalendarid': 128562, 'eventcalendarname': 'Member Doing Work', 'eventname': 'Member Doing Work', 'dateoffsetbegin': datetime.date(2021, 1, 16), 'dateoffsetend': datetime.date(2021, 1, 16), 'eventshiftid': 31491}\n",
       "...</td>\n",
       "</tr>\n",
       "<tr>\n",
       "<td style='text-align: right'>10487814</td>\n",
       "<td>2021-04-15 19:51:07</td>\n",
       "<td>Maria</td>\n",
       "<td>Smith</td>\n",
       "<td>claudiasmith469@gmail.com</td>\n",
       "<td>4696003616</td>\n",
       "<td>75212</td>\n",
       "<td>https://organizetexas.org/healthcare/call-speaker-phelan-now?preview=true&link_id=2&can_id=02cd61931b9ec6dc6d8672c37e1c12f2&source=email-action-alert-new-momentum-on-a-healthcare-expansion-bill-at-the-legislature-2&email_referrer=email_1142928&email_subject=action-alert-call-speaker-phelan-now</td>\n",
       "<td style='text-align: right'>695590</td>\n",
       "<td>MDW</td>\n",
       "<td>completed</td>\n",
       "<td>Call ended successfully</td>\n",
       "<td style='text-align: right'>1</td>\n",
       "<td style='text-align: right'>1</td>\n",
       "<td>None</td>\n",
       "<td>None</td>\n",
       "<td>None</td>\n",
       "<td>None</td>\n",
       "<td>2021-04-15T19:51:07</td>\n",
       "<td>2021-04-15</td>\n",
       "<td>2021-04-14</td>\n",
       "<td>2021-04-16</td>\n",
       "<td>{'eventid': 750017859, 'eventcalendarid': 164850, 'eventcalendarname': 'Action-DirectAction', 'eventname': 'New Mode Direct Action', 'dateoffsetbegin': datetime.date(2021, 4, 7), 'dateoffsetend': datetime.date(2021, 4, 7), 'eventshiftid': 34172}\n",
       "{'eventid': 750015225, 'eventcalendarid': 128562, 'eventcalendarname': 'Member Doing Work', 'eventname': 'Member Doing Work', 'dateoffsetbegin': datetime.date(2021, 2, 26), 'dateoffsetend': datetime.date(2021, 2, 26), 'eventshiftid': 31532}\n",
       "{'eventid': 750015173, 'eventcalendarid': 128562, 'eventcalendarname': 'Member Doing Work', 'eventname': 'Member Doing Work', 'dateoffsetbegin': datetime.date(2021, 1, 5), 'dateoffsetend': datetime.date(2021, 1, 5), 'eventshiftid': 31480}\n",
       "{'eventid': 750015185, 'eventcalendarid': 128562, 'eventcalendarname': 'Member Doing Work', 'eventname': 'Member Doing Work', 'dateoffsetbegin': datetime.date(2021, 1, 17), 'dateoffsetend': datetime.date(2021, 1, 17), 'eventshiftid': 31492}\n",
       "{'eventid': 750015184, 'eventcalendarid': 128562, 'eventcalendarname': 'Member Doing Work', 'eventname': 'Member Doing Work', 'dateoffsetbegin': datetime.date(2021, 1, 16), 'dateoffsetend': datetime.date(2021, 1, 16), 'eventshiftid': 31491}\n",
       "...</td>\n",
       "</tr>\n",
       "<tr>\n",
       "<td style='text-align: right'>10487436</td>\n",
       "<td>2021-04-15 19:13:20</td>\n",
       "<td>ida</td>\n",
       "<td>miller</td>\n",
       "<td>idafrae@gmail.com</td>\n",
       "<td>5127385998</td>\n",
       "<td>78666</td>\n",
       "<td>https://organizetexas.org/healthcare/call-speaker-phelan-now?preview=true&link_id=3&can_id=3a4ddd37f7e1617ba79f2a899ddcbd02&source=email-action-alert-new-momentum-on-a-healthcare-expansion-bill-at-the-legislature-2&email_referrer=email_1142928&email_subject=action-alert-call-speaker-phelan-now</td>\n",
       "<td style='text-align: right'>695590</td>\n",
       "<td>MDW</td>\n",
       "<td>completed</td>\n",
       "<td>Call ended successfully</td>\n",
       "<td style='text-align: right'>1</td>\n",
       "<td style='text-align: right'>1</td>\n",
       "<td>None</td>\n",
       "<td>None</td>\n",
       "<td>None</td>\n",
       "<td>None</td>\n",
       "<td>2021-04-15T19:13:20</td>\n",
       "<td>2021-04-15</td>\n",
       "<td>2021-04-14</td>\n",
       "<td>2021-04-16</td>\n",
       "<td>{'eventid': 750017859, 'eventcalendarid': 164850, 'eventcalendarname': 'Action-DirectAction', 'eventname': 'New Mode Direct Action', 'dateoffsetbegin': datetime.date(2021, 4, 7), 'dateoffsetend': datetime.date(2021, 4, 7), 'eventshiftid': 34172}\n",
       "{'eventid': 750015225, 'eventcalendarid': 128562, 'eventcalendarname': 'Member Doing Work', 'eventname': 'Member Doing Work', 'dateoffsetbegin': datetime.date(2021, 2, 26), 'dateoffsetend': datetime.date(2021, 2, 26), 'eventshiftid': 31532}\n",
       "{'eventid': 750015173, 'eventcalendarid': 128562, 'eventcalendarname': 'Member Doing Work', 'eventname': 'Member Doing Work', 'dateoffsetbegin': datetime.date(2021, 1, 5), 'dateoffsetend': datetime.date(2021, 1, 5), 'eventshiftid': 31480}\n",
       "{'eventid': 750015185, 'eventcalendarid': 128562, 'eventcalendarname': 'Member Doing Work', 'eventname': 'Member Doing Work', 'dateoffsetbegin': datetime.date(2021, 1, 17), 'dateoffsetend': datetime.date(2021, 1, 17), 'eventshiftid': 31492}\n",
       "{'eventid': 750015184, 'eventcalendarid': 128562, 'eventcalendarname': 'Member Doing Work', 'eventname': 'Member Doing Work', 'dateoffsetbegin': datetime.date(2021, 1, 16), 'dateoffsetend': datetime.date(2021, 1, 16), 'eventshiftid': 31491}\n",
       "...</td>\n",
       "</tr>\n",
       "<tr>\n",
       "<td style='text-align: right'>10464744</td>\n",
       "<td>2021-04-14 14:01:38</td>\n",
       "<td>Denise</td>\n",
       "<td>Hernandez</td>\n",
       "<td>hernandez.denise210@gmail.com</td>\n",
       "<td>2102877852</td>\n",
       "<td>78213</td>\n",
       "<td>https://organizetexas.org/right2j/hb829-will-enforce-police-accountability?fbclid=IwAR1l8XO3SsPMEJvV6PBdz-C8QdVPxGHOQwv2n0XXBRN6S_S-4pveJaJjbyc</td>\n",
       "<td style='text-align: right'>914328</td>\n",
       "<td>MDW</td>\n",
       "<td>completed</td>\n",
       "<td>Call ended successfully</td>\n",
       "<td style='text-align: right'>1</td>\n",
       "<td style='text-align: right'>1</td>\n",
       "<td>None</td>\n",
       "<td>None</td>\n",
       "<td>None</td>\n",
       "<td>None</td>\n",
       "<td>2021-04-14T14:01:38</td>\n",
       "<td>2021-04-14</td>\n",
       "<td>2021-04-13</td>\n",
       "<td>2021-04-15</td>\n",
       "<td>{'eventid': 750017859, 'eventcalendarid': 164850, 'eventcalendarname': 'Action-DirectAction', 'eventname': 'New Mode Direct Action', 'dateoffsetbegin': datetime.date(2021, 4, 7), 'dateoffsetend': datetime.date(2021, 4, 7), 'eventshiftid': 34172}\n",
       "{'eventid': 750015225, 'eventcalendarid': 128562, 'eventcalendarname': 'Member Doing Work', 'eventname': 'Member Doing Work', 'dateoffsetbegin': datetime.date(2021, 2, 26), 'dateoffsetend': datetime.date(2021, 2, 26), 'eventshiftid': 31532}\n",
       "{'eventid': 750015173, 'eventcalendarid': 128562, 'eventcalendarname': 'Member Doing Work', 'eventname': 'Member Doing Work', 'dateoffsetbegin': datetime.date(2021, 1, 5), 'dateoffsetend': datetime.date(2021, 1, 5), 'eventshiftid': 31480}\n",
       "{'eventid': 750015185, 'eventcalendarid': 128562, 'eventcalendarname': 'Member Doing Work', 'eventname': 'Member Doing Work', 'dateoffsetbegin': datetime.date(2021, 1, 17), 'dateoffsetend': datetime.date(2021, 1, 17), 'eventshiftid': 31492}\n",
       "{'eventid': 750015184, 'eventcalendarid': 128562, 'eventcalendarname': 'Member Doing Work', 'eventname': 'Member Doing Work', 'dateoffsetbegin': datetime.date(2021, 1, 16), 'dateoffsetend': datetime.date(2021, 1, 16), 'eventshiftid': 31491}\n",
       "...</td>\n",
       "</tr>\n",
       "<tr>\n",
       "<td style='text-align: right'>10488863</td>\n",
       "<td>2021-04-15 21:33:20</td>\n",
       "<td>Patti</td>\n",
       "<td>Peacock</td>\n",
       "<td>pattip49@hotmail.com</td>\n",
       "<td>5127910773</td>\n",
       "<td>78613</td>\n",
       "<td>https://organizetexas.org/healthcare/call-speaker-phelan-now?preview=true&link_id=3&can_id=72dbda8f5e292c965b8ab946e37f6306&source=email-action-alert-new-momentum-on-a-healthcare-expansion-bill-at-the-legislature-2&email_referrer=email_1142928&email_subject=action-alert-call-speaker-phelan-now</td>\n",
       "<td style='text-align: right'>695590</td>\n",
       "<td>MDW</td>\n",
       "<td>completed</td>\n",
       "<td>Call ended successfully</td>\n",
       "<td style='text-align: right'>1</td>\n",
       "<td style='text-align: right'>1</td>\n",
       "<td>None</td>\n",
       "<td>None</td>\n",
       "<td>None</td>\n",
       "<td>None</td>\n",
       "<td>2021-04-15T21:33:20</td>\n",
       "<td>2021-04-15</td>\n",
       "<td>2021-04-14</td>\n",
       "<td>2021-04-16</td>\n",
       "<td>{'eventid': 750017859, 'eventcalendarid': 164850, 'eventcalendarname': 'Action-DirectAction', 'eventname': 'New Mode Direct Action', 'dateoffsetbegin': datetime.date(2021, 4, 7), 'dateoffsetend': datetime.date(2021, 4, 7), 'eventshiftid': 34172}\n",
       "{'eventid': 750015225, 'eventcalendarid': 128562, 'eventcalendarname': 'Member Doing Work', 'eventname': 'Member Doing Work', 'dateoffsetbegin': datetime.date(2021, 2, 26), 'dateoffsetend': datetime.date(2021, 2, 26), 'eventshiftid': 31532}\n",
       "{'eventid': 750015173, 'eventcalendarid': 128562, 'eventcalendarname': 'Member Doing Work', 'eventname': 'Member Doing Work', 'dateoffsetbegin': datetime.date(2021, 1, 5), 'dateoffsetend': datetime.date(2021, 1, 5), 'eventshiftid': 31480}\n",
       "{'eventid': 750015185, 'eventcalendarid': 128562, 'eventcalendarname': 'Member Doing Work', 'eventname': 'Member Doing Work', 'dateoffsetbegin': datetime.date(2021, 1, 17), 'dateoffsetend': datetime.date(2021, 1, 17), 'eventshiftid': 31492}\n",
       "{'eventid': 750015184, 'eventcalendarid': 128562, 'eventcalendarname': 'Member Doing Work', 'eventname': 'Member Doing Work', 'dateoffsetbegin': datetime.date(2021, 1, 16), 'dateoffsetend': datetime.date(2021, 1, 16), 'eventshiftid': 31491}\n",
       "...</td>\n",
       "</tr>\n",
       "</tbody>\n",
       "</table>\n",
       "<p><strong>...</strong></p>"
      ],
      "text/plain": [
       "{'outreach_id': 10496281, 'action_date': '2021-04-16 14:43:18', 'first_name': 'Jean', 'last_name': 'Leider', 'email': 'jeancaffeine@gmail.com', 'phone': '5129234959', 'zip': '78745', 'parent_url': 'https://organizetexas.org/healthcare/call-speaker-phelan-now?preview=true&link_id=3&can_id=7aad08a3c87f20f6eb9401c694c31c19&source=email-action-alert-new-momentum-on-a-healthcare-expansion-bill-at-the-legislature-2&email_referrer=email_1142928&email_subject=action-alert-call-speaker-phelan-now', 'survey_response_id': 695590, 'event_type': 'MDW', 'call_status': 'completed', 'call_hangup_reason': 'Call ended successfully', 'day_rank': 3, 'dup': 1, 'vanid': None, 'date_created': None, 'sr_load': None, 'signup_id': None, 'action_date_iso': '2021-04-16T14:43:18', 'action_date_date': datetime.date(2021, 4, 16), 'action_date_after': '2021-04-15', 'action_date_before': '2021-04-17', 'event_id': {'eventid': 750017859, 'eventcalendarid': 164850, 'eventcalendarname': 'Action-DirectAction', 'eventname': 'New Mode Direct Action', 'dateoffsetbegin': datetime.date(2021, 4, 7), 'dateoffsetend': datetime.date(2021, 4, 7), 'eventshiftid': 34172}\n",
       "{'eventid': 750015225, 'eventcalendarid': 128562, 'eventcalendarname': 'Member Doing Work', 'eventname': 'Member Doing Work', 'dateoffsetbegin': datetime.date(2021, 2, 26), 'dateoffsetend': datetime.date(2021, 2, 26), 'eventshiftid': 31532}\n",
       "{'eventid': 750015173, 'eventcalendarid': 128562, 'eventcalendarname': 'Member Doing Work', 'eventname': 'Member Doing Work', 'dateoffsetbegin': datetime.date(2021, 1, 5), 'dateoffsetend': datetime.date(2021, 1, 5), 'eventshiftid': 31480}\n",
       "{'eventid': 750015185, 'eventcalendarid': 128562, 'eventcalendarname': 'Member Doing Work', 'eventname': 'Member Doing Work', 'dateoffsetbegin': datetime.date(2021, 1, 17), 'dateoffsetend': datetime.date(2021, 1, 17), 'eventshiftid': 31492}\n",
       "{'eventid': 750015184, 'eventcalendarid': 128562, 'eventcalendarname': 'Member Doing Work', 'eventname': 'Member Doing Work', 'dateoffsetbegin': datetime.date(2021, 1, 16), 'dateoffsetend': datetime.date(2021, 1, 16), 'eventshiftid': 31491}\n",
       "...}\n",
       "{'outreach_id': 10487814, 'action_date': '2021-04-15 19:51:07', 'first_name': 'Maria', 'last_name': 'Smith', 'email': 'claudiasmith469@gmail.com', 'phone': '4696003616', 'zip': '75212', 'parent_url': 'https://organizetexas.org/healthcare/call-speaker-phelan-now?preview=true&link_id=2&can_id=02cd61931b9ec6dc6d8672c37e1c12f2&source=email-action-alert-new-momentum-on-a-healthcare-expansion-bill-at-the-legislature-2&email_referrer=email_1142928&email_subject=action-alert-call-speaker-phelan-now', 'survey_response_id': 695590, 'event_type': 'MDW', 'call_status': 'completed', 'call_hangup_reason': 'Call ended successfully', 'day_rank': 1, 'dup': 1, 'vanid': None, 'date_created': None, 'sr_load': None, 'signup_id': None, 'action_date_iso': '2021-04-15T19:51:07', 'action_date_date': datetime.date(2021, 4, 15), 'action_date_after': '2021-04-14', 'action_date_before': '2021-04-16', 'event_id': {'eventid': 750017859, 'eventcalendarid': 164850, 'eventcalendarname': 'Action-DirectAction', 'eventname': 'New Mode Direct Action', 'dateoffsetbegin': datetime.date(2021, 4, 7), 'dateoffsetend': datetime.date(2021, 4, 7), 'eventshiftid': 34172}\n",
       "{'eventid': 750015225, 'eventcalendarid': 128562, 'eventcalendarname': 'Member Doing Work', 'eventname': 'Member Doing Work', 'dateoffsetbegin': datetime.date(2021, 2, 26), 'dateoffsetend': datetime.date(2021, 2, 26), 'eventshiftid': 31532}\n",
       "{'eventid': 750015173, 'eventcalendarid': 128562, 'eventcalendarname': 'Member Doing Work', 'eventname': 'Member Doing Work', 'dateoffsetbegin': datetime.date(2021, 1, 5), 'dateoffsetend': datetime.date(2021, 1, 5), 'eventshiftid': 31480}\n",
       "{'eventid': 750015185, 'eventcalendarid': 128562, 'eventcalendarname': 'Member Doing Work', 'eventname': 'Member Doing Work', 'dateoffsetbegin': datetime.date(2021, 1, 17), 'dateoffsetend': datetime.date(2021, 1, 17), 'eventshiftid': 31492}\n",
       "{'eventid': 750015184, 'eventcalendarid': 128562, 'eventcalendarname': 'Member Doing Work', 'eventname': 'Member Doing Work', 'dateoffsetbegin': datetime.date(2021, 1, 16), 'dateoffsetend': datetime.date(2021, 1, 16), 'eventshiftid': 31491}\n",
       "...}\n",
       "{'outreach_id': 10487436, 'action_date': '2021-04-15 19:13:20', 'first_name': 'ida', 'last_name': 'miller', 'email': 'idafrae@gmail.com', 'phone': '5127385998', 'zip': '78666', 'parent_url': 'https://organizetexas.org/healthcare/call-speaker-phelan-now?preview=true&link_id=3&can_id=3a4ddd37f7e1617ba79f2a899ddcbd02&source=email-action-alert-new-momentum-on-a-healthcare-expansion-bill-at-the-legislature-2&email_referrer=email_1142928&email_subject=action-alert-call-speaker-phelan-now', 'survey_response_id': 695590, 'event_type': 'MDW', 'call_status': 'completed', 'call_hangup_reason': 'Call ended successfully', 'day_rank': 1, 'dup': 1, 'vanid': None, 'date_created': None, 'sr_load': None, 'signup_id': None, 'action_date_iso': '2021-04-15T19:13:20', 'action_date_date': datetime.date(2021, 4, 15), 'action_date_after': '2021-04-14', 'action_date_before': '2021-04-16', 'event_id': {'eventid': 750017859, 'eventcalendarid': 164850, 'eventcalendarname': 'Action-DirectAction', 'eventname': 'New Mode Direct Action', 'dateoffsetbegin': datetime.date(2021, 4, 7), 'dateoffsetend': datetime.date(2021, 4, 7), 'eventshiftid': 34172}\n",
       "{'eventid': 750015225, 'eventcalendarid': 128562, 'eventcalendarname': 'Member Doing Work', 'eventname': 'Member Doing Work', 'dateoffsetbegin': datetime.date(2021, 2, 26), 'dateoffsetend': datetime.date(2021, 2, 26), 'eventshiftid': 31532}\n",
       "{'eventid': 750015173, 'eventcalendarid': 128562, 'eventcalendarname': 'Member Doing Work', 'eventname': 'Member Doing Work', 'dateoffsetbegin': datetime.date(2021, 1, 5), 'dateoffsetend': datetime.date(2021, 1, 5), 'eventshiftid': 31480}\n",
       "{'eventid': 750015185, 'eventcalendarid': 128562, 'eventcalendarname': 'Member Doing Work', 'eventname': 'Member Doing Work', 'dateoffsetbegin': datetime.date(2021, 1, 17), 'dateoffsetend': datetime.date(2021, 1, 17), 'eventshiftid': 31492}\n",
       "{'eventid': 750015184, 'eventcalendarid': 128562, 'eventcalendarname': 'Member Doing Work', 'eventname': 'Member Doing Work', 'dateoffsetbegin': datetime.date(2021, 1, 16), 'dateoffsetend': datetime.date(2021, 1, 16), 'eventshiftid': 31491}\n",
       "...}\n",
       "{'outreach_id': 10464744, 'action_date': '2021-04-14 14:01:38', 'first_name': 'Denise', 'last_name': 'Hernandez', 'email': 'hernandez.denise210@gmail.com', 'phone': '2102877852', 'zip': '78213', 'parent_url': 'https://organizetexas.org/right2j/hb829-will-enforce-police-accountability?fbclid=IwAR1l8XO3SsPMEJvV6PBdz-C8QdVPxGHOQwv2n0XXBRN6S_S-4pveJaJjbyc', 'survey_response_id': 914328, 'event_type': 'MDW', 'call_status': 'completed', 'call_hangup_reason': 'Call ended successfully', 'day_rank': 1, 'dup': 1, 'vanid': None, 'date_created': None, 'sr_load': None, 'signup_id': None, 'action_date_iso': '2021-04-14T14:01:38', 'action_date_date': datetime.date(2021, 4, 14), 'action_date_after': '2021-04-13', 'action_date_before': '2021-04-15', 'event_id': {'eventid': 750017859, 'eventcalendarid': 164850, 'eventcalendarname': 'Action-DirectAction', 'eventname': 'New Mode Direct Action', 'dateoffsetbegin': datetime.date(2021, 4, 7), 'dateoffsetend': datetime.date(2021, 4, 7), 'eventshiftid': 34172}\n",
       "{'eventid': 750015225, 'eventcalendarid': 128562, 'eventcalendarname': 'Member Doing Work', 'eventname': 'Member Doing Work', 'dateoffsetbegin': datetime.date(2021, 2, 26), 'dateoffsetend': datetime.date(2021, 2, 26), 'eventshiftid': 31532}\n",
       "{'eventid': 750015173, 'eventcalendarid': 128562, 'eventcalendarname': 'Member Doing Work', 'eventname': 'Member Doing Work', 'dateoffsetbegin': datetime.date(2021, 1, 5), 'dateoffsetend': datetime.date(2021, 1, 5), 'eventshiftid': 31480}\n",
       "{'eventid': 750015185, 'eventcalendarid': 128562, 'eventcalendarname': 'Member Doing Work', 'eventname': 'Member Doing Work', 'dateoffsetbegin': datetime.date(2021, 1, 17), 'dateoffsetend': datetime.date(2021, 1, 17), 'eventshiftid': 31492}\n",
       "{'eventid': 750015184, 'eventcalendarid': 128562, 'eventcalendarname': 'Member Doing Work', 'eventname': 'Member Doing Work', 'dateoffsetbegin': datetime.date(2021, 1, 16), 'dateoffsetend': datetime.date(2021, 1, 16), 'eventshiftid': 31491}\n",
       "...}\n",
       "{'outreach_id': 10488863, 'action_date': '2021-04-15 21:33:20', 'first_name': 'Patti', 'last_name': 'Peacock', 'email': 'pattip49@hotmail.com', 'phone': '5127910773', 'zip': '78613', 'parent_url': 'https://organizetexas.org/healthcare/call-speaker-phelan-now?preview=true&link_id=3&can_id=72dbda8f5e292c965b8ab946e37f6306&source=email-action-alert-new-momentum-on-a-healthcare-expansion-bill-at-the-legislature-2&email_referrer=email_1142928&email_subject=action-alert-call-speaker-phelan-now', 'survey_response_id': 695590, 'event_type': 'MDW', 'call_status': 'completed', 'call_hangup_reason': 'Call ended successfully', 'day_rank': 1, 'dup': 1, 'vanid': None, 'date_created': None, 'sr_load': None, 'signup_id': None, 'action_date_iso': '2021-04-15T21:33:20', 'action_date_date': datetime.date(2021, 4, 15), 'action_date_after': '2021-04-14', 'action_date_before': '2021-04-16', 'event_id': {'eventid': 750017859, 'eventcalendarid': 164850, 'eventcalendarname': 'Action-DirectAction', 'eventname': 'New Mode Direct Action', 'dateoffsetbegin': datetime.date(2021, 4, 7), 'dateoffsetend': datetime.date(2021, 4, 7), 'eventshiftid': 34172}\n",
       "{'eventid': 750015225, 'eventcalendarid': 128562, 'eventcalendarname': 'Member Doing Work', 'eventname': 'Member Doing Work', 'dateoffsetbegin': datetime.date(2021, 2, 26), 'dateoffsetend': datetime.date(2021, 2, 26), 'eventshiftid': 31532}\n",
       "{'eventid': 750015173, 'eventcalendarid': 128562, 'eventcalendarname': 'Member Doing Work', 'eventname': 'Member Doing Work', 'dateoffsetbegin': datetime.date(2021, 1, 5), 'dateoffsetend': datetime.date(2021, 1, 5), 'eventshiftid': 31480}\n",
       "{'eventid': 750015185, 'eventcalendarid': 128562, 'eventcalendarname': 'Member Doing Work', 'eventname': 'Member Doing Work', 'dateoffsetbegin': datetime.date(2021, 1, 17), 'dateoffsetend': datetime.date(2021, 1, 17), 'eventshiftid': 31492}\n",
       "{'eventid': 750015184, 'eventcalendarid': 128562, 'eventcalendarname': 'Member Doing Work', 'eventname': 'Member Doing Work', 'dateoffsetbegin': datetime.date(2021, 1, 16), 'dateoffsetend': datetime.date(2021, 1, 16), 'eventshiftid': 31491}\n",
       "...}\n",
       "..."
      ]
     },
     "execution_count": 50,
     "metadata": {},
     "output_type": "execute_result"
    }
   ],
   "source": [
    "find_dates"
   ]
  },
  {
   "cell_type": "code",
   "execution_count": 12,
   "metadata": {},
   "outputs": [],
   "source": [
    "test = rs.query(f\"select * from {SOURCE_TABLE}\")"
   ]
  },
  {
   "cell_type": "code",
   "execution_count": 13,
   "metadata": {},
   "outputs": [
    {
     "data": {
      "text/html": [
       "<table class='petl'>\n",
       "<thead>\n",
       "<tr>\n",
       "<th>outreach_id</th>\n",
       "<th>action_date</th>\n",
       "<th>first_name</th>\n",
       "<th>last_name</th>\n",
       "<th>email</th>\n",
       "<th>phone</th>\n",
       "<th>zip</th>\n",
       "<th>parent_url</th>\n",
       "<th>survey_response_id</th>\n",
       "<th>event_type</th>\n",
       "<th>call_status</th>\n",
       "<th>call_hangup_reason</th>\n",
       "<th>day_rank</th>\n",
       "</tr>\n",
       "</thead>\n",
       "<tbody>\n",
       "<tr>\n",
       "<td style='text-align: right'>10464744</td>\n",
       "<td>2021-04-14 14:01:38</td>\n",
       "<td>Denise</td>\n",
       "<td>Hernandez</td>\n",
       "<td>hernandez.denise210@gmail.com</td>\n",
       "<td>2102877852</td>\n",
       "<td>78213</td>\n",
       "<td>https://organizetexas.org/right2j/hb829-will-enforce-police-accountability?fbclid=IwAR1l8XO3SsPMEJvV6PBdz-C8QdVPxGHOQwv2n0XXBRN6S_S-4pveJaJjbyc</td>\n",
       "<td style='text-align: right'>914328</td>\n",
       "<td>MDW</td>\n",
       "<td>completed</td>\n",
       "<td>Call ended successfully</td>\n",
       "<td style='text-align: right'>1</td>\n",
       "</tr>\n",
       "<tr>\n",
       "<td style='text-align: right'>10488886</td>\n",
       "<td>2021-04-15 21:36:59</td>\n",
       "<td>ROBERT</td>\n",
       "<td>KRAKOW</td>\n",
       "<td>rkrakow@gibsondunn.com</td>\n",
       "<td>2145057124</td>\n",
       "<td>75209</td>\n",
       "<td>https://organizetexas.org/healthcare/call-speaker-phelan-now?preview=true&link_id=3&can_id=e66820eaae2b16cc833dd1b355930af2&source=email-action-alert-new-momentum-on-a-healthcare-expansion-bill-at-the-legislature-2&email_referrer=email_1142928&email_subject=action-alert-call-speaker-phelan-now</td>\n",
       "<td style='text-align: right'>695590</td>\n",
       "<td>MDW</td>\n",
       "<td>completed</td>\n",
       "<td>Call ended successfully</td>\n",
       "<td style='text-align: right'>1</td>\n",
       "</tr>\n",
       "<tr>\n",
       "<td style='text-align: right'>10486560</td>\n",
       "<td>2021-04-15 17:57:59</td>\n",
       "<td>Anita</td>\n",
       "<td>Garcia</td>\n",
       "<td>gar04317@yahoo.com</td>\n",
       "<td>5128261371</td>\n",
       "<td>78749</td>\n",
       "<td>https://organizetexas.org/healthcare/call-speaker-phelan-now?preview=true&link_id=3&can_id=907fa04fcace94d5702469b052cd834c&source=email-action-alert-new-momentum-on-a-healthcare-expansion-bill-at-the-legislature-2&email_referrer=email_1142928&email_subject=action-alert-call-speaker-phelan-now</td>\n",
       "<td style='text-align: right'>695590</td>\n",
       "<td>MDW</td>\n",
       "<td>completed</td>\n",
       "<td>Call ended successfully</td>\n",
       "<td style='text-align: right'>1</td>\n",
       "</tr>\n",
       "<tr>\n",
       "<td style='text-align: right'>10486574</td>\n",
       "<td>2021-04-15 17:59:17</td>\n",
       "<td>Elizabeth</td>\n",
       "<td>Gregory</td>\n",
       "<td>elizabeth_gregory@earthlink.net</td>\n",
       "<td>7132568310</td>\n",
       "<td>77030</td>\n",
       "<td>https://organizetexas.org/healthcare/call-speaker-phelan-now?preview=true&link_id=3&can_id=2c8e13b63ecd188ddb63b439abaa755c&source=email-action-alert-new-momentum-on-a-healthcare-expansion-bill-at-the-legislature-2&email_referrer=email_1142928&email_subject=action-alert-call-speaker-phelan-now</td>\n",
       "<td style='text-align: right'>695590</td>\n",
       "<td>MDW</td>\n",
       "<td>completed</td>\n",
       "<td>Call ended successfully</td>\n",
       "<td style='text-align: right'>1</td>\n",
       "</tr>\n",
       "<tr>\n",
       "<td style='text-align: right'>10488023</td>\n",
       "<td>2021-04-15 20:10:33</td>\n",
       "<td>Holly</td>\n",
       "<td>herzer</td>\n",
       "<td>hlherz@aol.com</td>\n",
       "<td>2147241670</td>\n",
       "<td>78613</td>\n",
       "<td>https://organizetexas.org/healthcare/call-speaker-phelan-now?preview=true&link_id=3&can_id=7f9a1a6dfca67e4fdb37a8b316b2eddf&source=email-action-alert-new-momentum-on-a-healthcare-expansion-bill-at-the-legislature-2&email_referrer=email_1142928&email_subject=action-alert-call-speaker-phelan-now</td>\n",
       "<td style='text-align: right'>695590</td>\n",
       "<td>MDW</td>\n",
       "<td>completed</td>\n",
       "<td>Call ended successfully</td>\n",
       "<td style='text-align: right'>1</td>\n",
       "</tr>\n",
       "</tbody>\n",
       "</table>\n",
       "<p><strong>...</strong></p>"
      ],
      "text/plain": [
       "{'outreach_id': 10464744, 'action_date': '2021-04-14 14:01:38', 'first_name': 'Denise', 'last_name': 'Hernandez', 'email': 'hernandez.denise210@gmail.com', 'phone': '2102877852', 'zip': '78213', 'parent_url': 'https://organizetexas.org/right2j/hb829-will-enforce-police-accountability?fbclid=IwAR1l8XO3SsPMEJvV6PBdz-C8QdVPxGHOQwv2n0XXBRN6S_S-4pveJaJjbyc', 'survey_response_id': 914328, 'event_type': 'MDW', 'call_status': 'completed', 'call_hangup_reason': 'Call ended successfully', 'day_rank': 1}\n",
       "{'outreach_id': 10488886, 'action_date': '2021-04-15 21:36:59', 'first_name': 'ROBERT', 'last_name': 'KRAKOW', 'email': 'rkrakow@gibsondunn.com', 'phone': '2145057124', 'zip': '75209', 'parent_url': 'https://organizetexas.org/healthcare/call-speaker-phelan-now?preview=true&link_id=3&can_id=e66820eaae2b16cc833dd1b355930af2&source=email-action-alert-new-momentum-on-a-healthcare-expansion-bill-at-the-legislature-2&email_referrer=email_1142928&email_subject=action-alert-call-speaker-phelan-now', 'survey_response_id': 695590, 'event_type': 'MDW', 'call_status': 'completed', 'call_hangup_reason': 'Call ended successfully', 'day_rank': 1}\n",
       "{'outreach_id': 10486560, 'action_date': '2021-04-15 17:57:59', 'first_name': 'Anita', 'last_name': 'Garcia', 'email': 'gar04317@yahoo.com', 'phone': '5128261371', 'zip': '78749', 'parent_url': 'https://organizetexas.org/healthcare/call-speaker-phelan-now?preview=true&link_id=3&can_id=907fa04fcace94d5702469b052cd834c&source=email-action-alert-new-momentum-on-a-healthcare-expansion-bill-at-the-legislature-2&email_referrer=email_1142928&email_subject=action-alert-call-speaker-phelan-now', 'survey_response_id': 695590, 'event_type': 'MDW', 'call_status': 'completed', 'call_hangup_reason': 'Call ended successfully', 'day_rank': 1}\n",
       "{'outreach_id': 10486574, 'action_date': '2021-04-15 17:59:17', 'first_name': 'Elizabeth', 'last_name': 'Gregory', 'email': 'elizabeth_gregory@earthlink.net', 'phone': '7132568310', 'zip': '77030', 'parent_url': 'https://organizetexas.org/healthcare/call-speaker-phelan-now?preview=true&link_id=3&can_id=2c8e13b63ecd188ddb63b439abaa755c&source=email-action-alert-new-momentum-on-a-healthcare-expansion-bill-at-the-legislature-2&email_referrer=email_1142928&email_subject=action-alert-call-speaker-phelan-now', 'survey_response_id': 695590, 'event_type': 'MDW', 'call_status': 'completed', 'call_hangup_reason': 'Call ended successfully', 'day_rank': 1}\n",
       "{'outreach_id': 10488023, 'action_date': '2021-04-15 20:10:33', 'first_name': 'Holly', 'last_name': 'herzer', 'email': 'hlherz@aol.com', 'phone': '2147241670', 'zip': '78613', 'parent_url': 'https://organizetexas.org/healthcare/call-speaker-phelan-now?preview=true&link_id=3&can_id=7f9a1a6dfca67e4fdb37a8b316b2eddf&source=email-action-alert-new-momentum-on-a-healthcare-expansion-bill-at-the-legislature-2&email_referrer=email_1142928&email_subject=action-alert-call-speaker-phelan-now', 'survey_response_id': 695590, 'event_type': 'MDW', 'call_status': 'completed', 'call_hangup_reason': 'Call ended successfully', 'day_rank': 1}\n",
       "..."
      ]
     },
     "execution_count": 13,
     "metadata": {},
     "output_type": "execute_result"
    }
   ],
   "source": [
    "test"
   ]
  },
  {
   "cell_type": "code",
   "execution_count": 122,
   "metadata": {},
   "outputs": [
    {
     "ename": "ValueError",
     "evalue": "Column action_date_date already exists",
     "output_type": "error",
     "traceback": [
      "\u001b[0;31m---------------------------------------------------------------------------\u001b[0m",
      "\u001b[0;31mValueError\u001b[0m                                Traceback (most recent call last)",
      "\u001b[0;32m<ipython-input-122-43a5b4ea9050>\u001b[0m in \u001b[0;36m<module>\u001b[0;34m\u001b[0m\n\u001b[1;32m      1\u001b[0m test_v3 = test.add_column(\n\u001b[1;32m      2\u001b[0m     \u001b[0;34m'action_date_date'\u001b[0m\u001b[0;34m,\u001b[0m\u001b[0;34m\u001b[0m\u001b[0;34m\u001b[0m\u001b[0m\n\u001b[0;32m----> 3\u001b[0;31m     \u001b[0;32mlambda\u001b[0m \u001b[0mrow\u001b[0m\u001b[0;34m:\u001b[0m \u001b[0mrow\u001b[0m\u001b[0;34m[\u001b[0m\u001b[0;34m'action_date'\u001b[0m\u001b[0;34m]\u001b[0m\u001b[0;34m.\u001b[0m\u001b[0mdatetime\u001b[0m\u001b[0;34m.\u001b[0m\u001b[0mstrptime\u001b[0m\u001b[0;34m(\u001b[0m\u001b[0;34m'%Y-%m-%d %H:%M:%S'\u001b[0m\u001b[0;34m)\u001b[0m\u001b[0;34m.\u001b[0m\u001b[0mdate\u001b[0m\u001b[0;34m(\u001b[0m\u001b[0;34m)\u001b[0m\u001b[0;34m\u001b[0m\u001b[0;34m\u001b[0m\u001b[0m\n\u001b[0m\u001b[1;32m      4\u001b[0m )\n",
      "\u001b[0;32m/usr/local/lib/python3.7/site-packages/parsons/etl/etl.py\u001b[0m in \u001b[0;36madd_column\u001b[0;34m(self, column, value, index)\u001b[0m\n\u001b[1;32m     27\u001b[0m \u001b[0;34m\u001b[0m\u001b[0m\n\u001b[1;32m     28\u001b[0m         \u001b[0;32mif\u001b[0m \u001b[0mcolumn\u001b[0m \u001b[0;32min\u001b[0m \u001b[0mself\u001b[0m\u001b[0;34m.\u001b[0m\u001b[0mcolumns\u001b[0m\u001b[0;34m:\u001b[0m\u001b[0;34m\u001b[0m\u001b[0;34m\u001b[0m\u001b[0m\n\u001b[0;32m---> 29\u001b[0;31m             \u001b[0;32mraise\u001b[0m \u001b[0mValueError\u001b[0m\u001b[0;34m(\u001b[0m\u001b[0;34mf\"Column {column} already exists\"\u001b[0m\u001b[0;34m)\u001b[0m\u001b[0;34m\u001b[0m\u001b[0;34m\u001b[0m\u001b[0m\n\u001b[0m\u001b[1;32m     30\u001b[0m \u001b[0;34m\u001b[0m\u001b[0m\n\u001b[1;32m     31\u001b[0m         \u001b[0mself\u001b[0m\u001b[0;34m.\u001b[0m\u001b[0mtable\u001b[0m \u001b[0;34m=\u001b[0m \u001b[0mself\u001b[0m\u001b[0;34m.\u001b[0m\u001b[0mtable\u001b[0m\u001b[0;34m.\u001b[0m\u001b[0maddfield\u001b[0m\u001b[0;34m(\u001b[0m\u001b[0mcolumn\u001b[0m\u001b[0;34m,\u001b[0m \u001b[0mvalue\u001b[0m\u001b[0;34m,\u001b[0m \u001b[0mindex\u001b[0m\u001b[0;34m)\u001b[0m\u001b[0;34m\u001b[0m\u001b[0;34m\u001b[0m\u001b[0m\n",
      "\u001b[0;31mValueError\u001b[0m: Column action_date_date already exists"
     ]
    }
   ],
   "source": [
    "test_v3 = test.add_column(\n",
    "    'action_date_date',\n",
    "    lambda row: row['action_date'].datetime.strptime('%Y-%m-%d %H:%M:%S').date()\n",
    ")"
   ]
  },
  {
   "cell_type": "code",
   "execution_count": 14,
   "metadata": {},
   "outputs": [
    {
     "data": {
      "text/plain": [
       "str"
      ]
     },
     "execution_count": 14,
     "metadata": {},
     "output_type": "execute_result"
    }
   ],
   "source": [
    "type(test['action_date'][0])"
   ]
  },
  {
   "cell_type": "code",
   "execution_count": 15,
   "metadata": {},
   "outputs": [],
   "source": [
    "test_v4 = test"
   ]
  },
  {
   "cell_type": "code",
   "execution_count": 16,
   "metadata": {},
   "outputs": [
    {
     "data": {
      "text/html": [
       "<table class='petl'>\n",
       "<thead>\n",
       "<tr>\n",
       "<th>outreach_id</th>\n",
       "<th>action_date</th>\n",
       "<th>first_name</th>\n",
       "<th>last_name</th>\n",
       "<th>email</th>\n",
       "<th>phone</th>\n",
       "<th>zip</th>\n",
       "<th>parent_url</th>\n",
       "<th>survey_response_id</th>\n",
       "<th>event_type</th>\n",
       "<th>call_status</th>\n",
       "<th>call_hangup_reason</th>\n",
       "<th>day_rank</th>\n",
       "</tr>\n",
       "</thead>\n",
       "<tbody>\n",
       "<tr>\n",
       "<td style='text-align: right'>10464744</td>\n",
       "<td>2021-04-14 14:01:38</td>\n",
       "<td>Denise</td>\n",
       "<td>Hernandez</td>\n",
       "<td>hernandez.denise210@gmail.com</td>\n",
       "<td>2102877852</td>\n",
       "<td>78213</td>\n",
       "<td>https://organizetexas.org/right2j/hb829-will-enforce-police-accountability?fbclid=IwAR1l8XO3SsPMEJvV6PBdz-C8QdVPxGHOQwv2n0XXBRN6S_S-4pveJaJjbyc</td>\n",
       "<td style='text-align: right'>914328</td>\n",
       "<td>MDW</td>\n",
       "<td>completed</td>\n",
       "<td>Call ended successfully</td>\n",
       "<td style='text-align: right'>1</td>\n",
       "</tr>\n",
       "<tr>\n",
       "<td style='text-align: right'>10488886</td>\n",
       "<td>2021-04-15 21:36:59</td>\n",
       "<td>ROBERT</td>\n",
       "<td>KRAKOW</td>\n",
       "<td>rkrakow@gibsondunn.com</td>\n",
       "<td>2145057124</td>\n",
       "<td>75209</td>\n",
       "<td>https://organizetexas.org/healthcare/call-speaker-phelan-now?preview=true&link_id=3&can_id=e66820eaae2b16cc833dd1b355930af2&source=email-action-alert-new-momentum-on-a-healthcare-expansion-bill-at-the-legislature-2&email_referrer=email_1142928&email_subject=action-alert-call-speaker-phelan-now</td>\n",
       "<td style='text-align: right'>695590</td>\n",
       "<td>MDW</td>\n",
       "<td>completed</td>\n",
       "<td>Call ended successfully</td>\n",
       "<td style='text-align: right'>1</td>\n",
       "</tr>\n",
       "<tr>\n",
       "<td style='text-align: right'>10486560</td>\n",
       "<td>2021-04-15 17:57:59</td>\n",
       "<td>Anita</td>\n",
       "<td>Garcia</td>\n",
       "<td>gar04317@yahoo.com</td>\n",
       "<td>5128261371</td>\n",
       "<td>78749</td>\n",
       "<td>https://organizetexas.org/healthcare/call-speaker-phelan-now?preview=true&link_id=3&can_id=907fa04fcace94d5702469b052cd834c&source=email-action-alert-new-momentum-on-a-healthcare-expansion-bill-at-the-legislature-2&email_referrer=email_1142928&email_subject=action-alert-call-speaker-phelan-now</td>\n",
       "<td style='text-align: right'>695590</td>\n",
       "<td>MDW</td>\n",
       "<td>completed</td>\n",
       "<td>Call ended successfully</td>\n",
       "<td style='text-align: right'>1</td>\n",
       "</tr>\n",
       "<tr>\n",
       "<td style='text-align: right'>10486574</td>\n",
       "<td>2021-04-15 17:59:17</td>\n",
       "<td>Elizabeth</td>\n",
       "<td>Gregory</td>\n",
       "<td>elizabeth_gregory@earthlink.net</td>\n",
       "<td>7132568310</td>\n",
       "<td>77030</td>\n",
       "<td>https://organizetexas.org/healthcare/call-speaker-phelan-now?preview=true&link_id=3&can_id=2c8e13b63ecd188ddb63b439abaa755c&source=email-action-alert-new-momentum-on-a-healthcare-expansion-bill-at-the-legislature-2&email_referrer=email_1142928&email_subject=action-alert-call-speaker-phelan-now</td>\n",
       "<td style='text-align: right'>695590</td>\n",
       "<td>MDW</td>\n",
       "<td>completed</td>\n",
       "<td>Call ended successfully</td>\n",
       "<td style='text-align: right'>1</td>\n",
       "</tr>\n",
       "<tr>\n",
       "<td style='text-align: right'>10488023</td>\n",
       "<td>2021-04-15 20:10:33</td>\n",
       "<td>Holly</td>\n",
       "<td>herzer</td>\n",
       "<td>hlherz@aol.com</td>\n",
       "<td>2147241670</td>\n",
       "<td>78613</td>\n",
       "<td>https://organizetexas.org/healthcare/call-speaker-phelan-now?preview=true&link_id=3&can_id=7f9a1a6dfca67e4fdb37a8b316b2eddf&source=email-action-alert-new-momentum-on-a-healthcare-expansion-bill-at-the-legislature-2&email_referrer=email_1142928&email_subject=action-alert-call-speaker-phelan-now</td>\n",
       "<td style='text-align: right'>695590</td>\n",
       "<td>MDW</td>\n",
       "<td>completed</td>\n",
       "<td>Call ended successfully</td>\n",
       "<td style='text-align: right'>1</td>\n",
       "</tr>\n",
       "</tbody>\n",
       "</table>\n",
       "<p><strong>...</strong></p>"
      ],
      "text/plain": [
       "{'outreach_id': 10464744, 'action_date': '2021-04-14 14:01:38', 'first_name': 'Denise', 'last_name': 'Hernandez', 'email': 'hernandez.denise210@gmail.com', 'phone': '2102877852', 'zip': '78213', 'parent_url': 'https://organizetexas.org/right2j/hb829-will-enforce-police-accountability?fbclid=IwAR1l8XO3SsPMEJvV6PBdz-C8QdVPxGHOQwv2n0XXBRN6S_S-4pveJaJjbyc', 'survey_response_id': 914328, 'event_type': 'MDW', 'call_status': 'completed', 'call_hangup_reason': 'Call ended successfully', 'day_rank': 1}\n",
       "{'outreach_id': 10488886, 'action_date': '2021-04-15 21:36:59', 'first_name': 'ROBERT', 'last_name': 'KRAKOW', 'email': 'rkrakow@gibsondunn.com', 'phone': '2145057124', 'zip': '75209', 'parent_url': 'https://organizetexas.org/healthcare/call-speaker-phelan-now?preview=true&link_id=3&can_id=e66820eaae2b16cc833dd1b355930af2&source=email-action-alert-new-momentum-on-a-healthcare-expansion-bill-at-the-legislature-2&email_referrer=email_1142928&email_subject=action-alert-call-speaker-phelan-now', 'survey_response_id': 695590, 'event_type': 'MDW', 'call_status': 'completed', 'call_hangup_reason': 'Call ended successfully', 'day_rank': 1}\n",
       "{'outreach_id': 10486560, 'action_date': '2021-04-15 17:57:59', 'first_name': 'Anita', 'last_name': 'Garcia', 'email': 'gar04317@yahoo.com', 'phone': '5128261371', 'zip': '78749', 'parent_url': 'https://organizetexas.org/healthcare/call-speaker-phelan-now?preview=true&link_id=3&can_id=907fa04fcace94d5702469b052cd834c&source=email-action-alert-new-momentum-on-a-healthcare-expansion-bill-at-the-legislature-2&email_referrer=email_1142928&email_subject=action-alert-call-speaker-phelan-now', 'survey_response_id': 695590, 'event_type': 'MDW', 'call_status': 'completed', 'call_hangup_reason': 'Call ended successfully', 'day_rank': 1}\n",
       "{'outreach_id': 10486574, 'action_date': '2021-04-15 17:59:17', 'first_name': 'Elizabeth', 'last_name': 'Gregory', 'email': 'elizabeth_gregory@earthlink.net', 'phone': '7132568310', 'zip': '77030', 'parent_url': 'https://organizetexas.org/healthcare/call-speaker-phelan-now?preview=true&link_id=3&can_id=2c8e13b63ecd188ddb63b439abaa755c&source=email-action-alert-new-momentum-on-a-healthcare-expansion-bill-at-the-legislature-2&email_referrer=email_1142928&email_subject=action-alert-call-speaker-phelan-now', 'survey_response_id': 695590, 'event_type': 'MDW', 'call_status': 'completed', 'call_hangup_reason': 'Call ended successfully', 'day_rank': 1}\n",
       "{'outreach_id': 10488023, 'action_date': '2021-04-15 20:10:33', 'first_name': 'Holly', 'last_name': 'herzer', 'email': 'hlherz@aol.com', 'phone': '2147241670', 'zip': '78613', 'parent_url': 'https://organizetexas.org/healthcare/call-speaker-phelan-now?preview=true&link_id=3&can_id=7f9a1a6dfca67e4fdb37a8b316b2eddf&source=email-action-alert-new-momentum-on-a-healthcare-expansion-bill-at-the-legislature-2&email_referrer=email_1142928&email_subject=action-alert-call-speaker-phelan-now', 'survey_response_id': 695590, 'event_type': 'MDW', 'call_status': 'completed', 'call_hangup_reason': 'Call ended successfully', 'day_rank': 1}\n",
       "..."
      ]
     },
     "execution_count": 16,
     "metadata": {},
     "output_type": "execute_result"
    }
   ],
   "source": [
    "test_v4"
   ]
  },
  {
   "cell_type": "code",
   "execution_count": 17,
   "metadata": {},
   "outputs": [
    {
     "data": {
      "text/plain": [
       "list"
      ]
     },
     "execution_count": 17,
     "metadata": {},
     "output_type": "execute_result"
    }
   ],
   "source": [
    "type(test_v4['action_date'])"
   ]
  },
  {
   "cell_type": "code",
   "execution_count": 18,
   "metadata": {},
   "outputs": [
    {
     "data": {
      "text/plain": [
       "str"
      ]
     },
     "execution_count": 18,
     "metadata": {},
     "output_type": "execute_result"
    }
   ],
   "source": [
    "type(test_v4['action_date'][0])"
   ]
  },
  {
   "cell_type": "code",
   "execution_count": 174,
   "metadata": {},
   "outputs": [
    {
     "data": {
      "text/html": [
       "<table class='petl'>\n",
       "<thead>\n",
       "<tr>\n",
       "<th>outreach_id</th>\n",
       "<th>action_date</th>\n",
       "<th>first_name</th>\n",
       "<th>last_name</th>\n",
       "<th>email</th>\n",
       "<th>phone</th>\n",
       "<th>zip</th>\n",
       "<th>parent_url</th>\n",
       "<th>survey_response_id</th>\n",
       "<th>event_type</th>\n",
       "<th>call_status</th>\n",
       "<th>call_hangup_reason</th>\n",
       "<th>day_rank</th>\n",
       "<th>action_date_after_3</th>\n",
       "<th>action_date_iso</th>\n",
       "</tr>\n",
       "</thead>\n",
       "<tbody>\n",
       "<tr>\n",
       "<td style='text-align: right'>10215647</td>\n",
       "<td>2021-03-23 17:38:25</td>\n",
       "<td>Justin </td>\n",
       "<td>Leaca </td>\n",
       "<td>justin.lecea@gmail.com</td>\n",
       "<td>8108143304</td>\n",
       "<td>78229</td>\n",
       "<td>https://organizetexas.org/r2j/letvotersdecide</td>\n",
       "<td style='text-align: right'>914328</td>\n",
       "<td>MDW</td>\n",
       "<td>completed</td>\n",
       "<td>Call ended successfully</td>\n",
       "<td style='text-align: right'>1</td>\n",
       "<td>2021-03-23T17:38:25</td>\n",
       "<td>2021-03-23T17:38:25</td>\n",
       "</tr>\n",
       "</tbody>\n",
       "</table>\n"
      ],
      "text/plain": [
       "{'outreach_id': 10215647, 'action_date': '2021-03-23 17:38:25', 'first_name': 'Justin ', 'last_name': 'Leaca ', 'email': 'justin.lecea@gmail.com', 'phone': '8108143304', 'zip': '78229', 'parent_url': 'https://organizetexas.org/r2j/letvotersdecide', 'survey_response_id': 914328, 'event_type': 'MDW', 'call_status': 'completed', 'call_hangup_reason': 'Call ended successfully', 'day_rank': 1, 'action_date_after_3': '2021-03-23T17:38:25', 'action_date_iso': '2021-03-23T17:38:25'}"
      ]
     },
     "execution_count": 174,
     "metadata": {},
     "output_type": "execute_result"
    }
   ],
   "source": [
    "test_v4.add_column(\n",
    "    'action_date_iso',\n",
    "    lambda row: datetime.strptime(row['action_date'], '%Y-%m-%d %H:%M:%S').isoformat()\n",
    ")"
   ]
  },
  {
   "cell_type": "code",
   "execution_count": 19,
   "metadata": {},
   "outputs": [
    {
     "data": {
      "text/html": [
       "<table class='petl'>\n",
       "<thead>\n",
       "<tr>\n",
       "<th>outreach_id</th>\n",
       "<th>action_date</th>\n",
       "<th>first_name</th>\n",
       "<th>last_name</th>\n",
       "<th>email</th>\n",
       "<th>phone</th>\n",
       "<th>zip</th>\n",
       "<th>parent_url</th>\n",
       "<th>survey_response_id</th>\n",
       "<th>event_type</th>\n",
       "<th>call_status</th>\n",
       "<th>call_hangup_reason</th>\n",
       "<th>day_rank</th>\n",
       "<th>action_date_date</th>\n",
       "</tr>\n",
       "</thead>\n",
       "<tbody>\n",
       "<tr>\n",
       "<td style='text-align: right'>10464744</td>\n",
       "<td>2021-04-14 14:01:38</td>\n",
       "<td>Denise</td>\n",
       "<td>Hernandez</td>\n",
       "<td>hernandez.denise210@gmail.com</td>\n",
       "<td>2102877852</td>\n",
       "<td>78213</td>\n",
       "<td>https://organizetexas.org/right2j/hb829-will-enforce-police-accountability?fbclid=IwAR1l8XO3SsPMEJvV6PBdz-C8QdVPxGHOQwv2n0XXBRN6S_S-4pveJaJjbyc</td>\n",
       "<td style='text-align: right'>914328</td>\n",
       "<td>MDW</td>\n",
       "<td>completed</td>\n",
       "<td>Call ended successfully</td>\n",
       "<td style='text-align: right'>1</td>\n",
       "<td>2021-04-14</td>\n",
       "</tr>\n",
       "<tr>\n",
       "<td style='text-align: right'>10488886</td>\n",
       "<td>2021-04-15 21:36:59</td>\n",
       "<td>ROBERT</td>\n",
       "<td>KRAKOW</td>\n",
       "<td>rkrakow@gibsondunn.com</td>\n",
       "<td>2145057124</td>\n",
       "<td>75209</td>\n",
       "<td>https://organizetexas.org/healthcare/call-speaker-phelan-now?preview=true&link_id=3&can_id=e66820eaae2b16cc833dd1b355930af2&source=email-action-alert-new-momentum-on-a-healthcare-expansion-bill-at-the-legislature-2&email_referrer=email_1142928&email_subject=action-alert-call-speaker-phelan-now</td>\n",
       "<td style='text-align: right'>695590</td>\n",
       "<td>MDW</td>\n",
       "<td>completed</td>\n",
       "<td>Call ended successfully</td>\n",
       "<td style='text-align: right'>1</td>\n",
       "<td>2021-04-15</td>\n",
       "</tr>\n",
       "<tr>\n",
       "<td style='text-align: right'>10486560</td>\n",
       "<td>2021-04-15 17:57:59</td>\n",
       "<td>Anita</td>\n",
       "<td>Garcia</td>\n",
       "<td>gar04317@yahoo.com</td>\n",
       "<td>5128261371</td>\n",
       "<td>78749</td>\n",
       "<td>https://organizetexas.org/healthcare/call-speaker-phelan-now?preview=true&link_id=3&can_id=907fa04fcace94d5702469b052cd834c&source=email-action-alert-new-momentum-on-a-healthcare-expansion-bill-at-the-legislature-2&email_referrer=email_1142928&email_subject=action-alert-call-speaker-phelan-now</td>\n",
       "<td style='text-align: right'>695590</td>\n",
       "<td>MDW</td>\n",
       "<td>completed</td>\n",
       "<td>Call ended successfully</td>\n",
       "<td style='text-align: right'>1</td>\n",
       "<td>2021-04-15</td>\n",
       "</tr>\n",
       "<tr>\n",
       "<td style='text-align: right'>10486574</td>\n",
       "<td>2021-04-15 17:59:17</td>\n",
       "<td>Elizabeth</td>\n",
       "<td>Gregory</td>\n",
       "<td>elizabeth_gregory@earthlink.net</td>\n",
       "<td>7132568310</td>\n",
       "<td>77030</td>\n",
       "<td>https://organizetexas.org/healthcare/call-speaker-phelan-now?preview=true&link_id=3&can_id=2c8e13b63ecd188ddb63b439abaa755c&source=email-action-alert-new-momentum-on-a-healthcare-expansion-bill-at-the-legislature-2&email_referrer=email_1142928&email_subject=action-alert-call-speaker-phelan-now</td>\n",
       "<td style='text-align: right'>695590</td>\n",
       "<td>MDW</td>\n",
       "<td>completed</td>\n",
       "<td>Call ended successfully</td>\n",
       "<td style='text-align: right'>1</td>\n",
       "<td>2021-04-15</td>\n",
       "</tr>\n",
       "<tr>\n",
       "<td style='text-align: right'>10488023</td>\n",
       "<td>2021-04-15 20:10:33</td>\n",
       "<td>Holly</td>\n",
       "<td>herzer</td>\n",
       "<td>hlherz@aol.com</td>\n",
       "<td>2147241670</td>\n",
       "<td>78613</td>\n",
       "<td>https://organizetexas.org/healthcare/call-speaker-phelan-now?preview=true&link_id=3&can_id=7f9a1a6dfca67e4fdb37a8b316b2eddf&source=email-action-alert-new-momentum-on-a-healthcare-expansion-bill-at-the-legislature-2&email_referrer=email_1142928&email_subject=action-alert-call-speaker-phelan-now</td>\n",
       "<td style='text-align: right'>695590</td>\n",
       "<td>MDW</td>\n",
       "<td>completed</td>\n",
       "<td>Call ended successfully</td>\n",
       "<td style='text-align: right'>1</td>\n",
       "<td>2021-04-15</td>\n",
       "</tr>\n",
       "</tbody>\n",
       "</table>\n",
       "<p><strong>...</strong></p>"
      ],
      "text/plain": [
       "{'outreach_id': 10464744, 'action_date': '2021-04-14 14:01:38', 'first_name': 'Denise', 'last_name': 'Hernandez', 'email': 'hernandez.denise210@gmail.com', 'phone': '2102877852', 'zip': '78213', 'parent_url': 'https://organizetexas.org/right2j/hb829-will-enforce-police-accountability?fbclid=IwAR1l8XO3SsPMEJvV6PBdz-C8QdVPxGHOQwv2n0XXBRN6S_S-4pveJaJjbyc', 'survey_response_id': 914328, 'event_type': 'MDW', 'call_status': 'completed', 'call_hangup_reason': 'Call ended successfully', 'day_rank': 1, 'action_date_date': datetime.date(2021, 4, 14)}\n",
       "{'outreach_id': 10488886, 'action_date': '2021-04-15 21:36:59', 'first_name': 'ROBERT', 'last_name': 'KRAKOW', 'email': 'rkrakow@gibsondunn.com', 'phone': '2145057124', 'zip': '75209', 'parent_url': 'https://organizetexas.org/healthcare/call-speaker-phelan-now?preview=true&link_id=3&can_id=e66820eaae2b16cc833dd1b355930af2&source=email-action-alert-new-momentum-on-a-healthcare-expansion-bill-at-the-legislature-2&email_referrer=email_1142928&email_subject=action-alert-call-speaker-phelan-now', 'survey_response_id': 695590, 'event_type': 'MDW', 'call_status': 'completed', 'call_hangup_reason': 'Call ended successfully', 'day_rank': 1, 'action_date_date': datetime.date(2021, 4, 15)}\n",
       "{'outreach_id': 10486560, 'action_date': '2021-04-15 17:57:59', 'first_name': 'Anita', 'last_name': 'Garcia', 'email': 'gar04317@yahoo.com', 'phone': '5128261371', 'zip': '78749', 'parent_url': 'https://organizetexas.org/healthcare/call-speaker-phelan-now?preview=true&link_id=3&can_id=907fa04fcace94d5702469b052cd834c&source=email-action-alert-new-momentum-on-a-healthcare-expansion-bill-at-the-legislature-2&email_referrer=email_1142928&email_subject=action-alert-call-speaker-phelan-now', 'survey_response_id': 695590, 'event_type': 'MDW', 'call_status': 'completed', 'call_hangup_reason': 'Call ended successfully', 'day_rank': 1, 'action_date_date': datetime.date(2021, 4, 15)}\n",
       "{'outreach_id': 10486574, 'action_date': '2021-04-15 17:59:17', 'first_name': 'Elizabeth', 'last_name': 'Gregory', 'email': 'elizabeth_gregory@earthlink.net', 'phone': '7132568310', 'zip': '77030', 'parent_url': 'https://organizetexas.org/healthcare/call-speaker-phelan-now?preview=true&link_id=3&can_id=2c8e13b63ecd188ddb63b439abaa755c&source=email-action-alert-new-momentum-on-a-healthcare-expansion-bill-at-the-legislature-2&email_referrer=email_1142928&email_subject=action-alert-call-speaker-phelan-now', 'survey_response_id': 695590, 'event_type': 'MDW', 'call_status': 'completed', 'call_hangup_reason': 'Call ended successfully', 'day_rank': 1, 'action_date_date': datetime.date(2021, 4, 15)}\n",
       "{'outreach_id': 10488023, 'action_date': '2021-04-15 20:10:33', 'first_name': 'Holly', 'last_name': 'herzer', 'email': 'hlherz@aol.com', 'phone': '2147241670', 'zip': '78613', 'parent_url': 'https://organizetexas.org/healthcare/call-speaker-phelan-now?preview=true&link_id=3&can_id=7f9a1a6dfca67e4fdb37a8b316b2eddf&source=email-action-alert-new-momentum-on-a-healthcare-expansion-bill-at-the-legislature-2&email_referrer=email_1142928&email_subject=action-alert-call-speaker-phelan-now', 'survey_response_id': 695590, 'event_type': 'MDW', 'call_status': 'completed', 'call_hangup_reason': 'Call ended successfully', 'day_rank': 1, 'action_date_date': datetime.date(2021, 4, 15)}\n",
       "..."
      ]
     },
     "execution_count": 19,
     "metadata": {},
     "output_type": "execute_result"
    }
   ],
   "source": [
    "test_v4.add_column(\n",
    "    'action_date_date',\n",
    "    lambda row: datetime.strptime(row['action_date'], '%Y-%m-%d %H:%M:%S').date()\n",
    ")"
   ]
  },
  {
   "cell_type": "code",
   "execution_count": 36,
   "metadata": {},
   "outputs": [
    {
     "data": {
      "text/plain": [
       "datetime.date(2021, 4, 14)"
      ]
     },
     "execution_count": 36,
     "metadata": {},
     "output_type": "execute_result"
    }
   ],
   "source": [
    "test_v4['action_date_date'][0]"
   ]
  },
  {
   "cell_type": "code",
   "execution_count": 177,
   "metadata": {},
   "outputs": [
    {
     "data": {
      "text/html": [
       "<table class='petl'>\n",
       "<thead>\n",
       "<tr>\n",
       "<th>outreach_id</th>\n",
       "<th>action_date</th>\n",
       "<th>first_name</th>\n",
       "<th>last_name</th>\n",
       "<th>email</th>\n",
       "<th>phone</th>\n",
       "<th>zip</th>\n",
       "<th>parent_url</th>\n",
       "<th>survey_response_id</th>\n",
       "<th>event_type</th>\n",
       "<th>call_status</th>\n",
       "<th>call_hangup_reason</th>\n",
       "<th>day_rank</th>\n",
       "<th>action_date_after_3</th>\n",
       "<th>action_date_iso</th>\n",
       "<th>action_date_date</th>\n",
       "<th>action_date_after</th>\n",
       "</tr>\n",
       "</thead>\n",
       "<tbody>\n",
       "<tr>\n",
       "<td style='text-align: right'>10215647</td>\n",
       "<td>2021-03-23 17:38:25</td>\n",
       "<td>Justin </td>\n",
       "<td>Leaca </td>\n",
       "<td>justin.lecea@gmail.com</td>\n",
       "<td>8108143304</td>\n",
       "<td>78229</td>\n",
       "<td>https://organizetexas.org/r2j/letvotersdecide</td>\n",
       "<td style='text-align: right'>914328</td>\n",
       "<td>MDW</td>\n",
       "<td>completed</td>\n",
       "<td>Call ended successfully</td>\n",
       "<td style='text-align: right'>1</td>\n",
       "<td>2021-03-23T17:38:25</td>\n",
       "<td>2021-03-23T17:38:25</td>\n",
       "<td>2021-03-23</td>\n",
       "<td>2021-03-22</td>\n",
       "</tr>\n",
       "</tbody>\n",
       "</table>\n"
      ],
      "text/plain": [
       "{'outreach_id': 10215647, 'action_date': '2021-03-23 17:38:25', 'first_name': 'Justin ', 'last_name': 'Leaca ', 'email': 'justin.lecea@gmail.com', 'phone': '8108143304', 'zip': '78229', 'parent_url': 'https://organizetexas.org/r2j/letvotersdecide', 'survey_response_id': 914328, 'event_type': 'MDW', 'call_status': 'completed', 'call_hangup_reason': 'Call ended successfully', 'day_rank': 1, 'action_date_after_3': '2021-03-23T17:38:25', 'action_date_iso': '2021-03-23T17:38:25', 'action_date_date': datetime.date(2021, 3, 23), 'action_date_after': '2021-03-22'}"
      ]
     },
     "execution_count": 177,
     "metadata": {},
     "output_type": "execute_result"
    }
   ],
   "source": [
    "test_v4.add_column(\n",
    "    'action_date_after',\n",
    "    lambda row: str(row['action_date_date'] - timedelta(days=1))\n",
    ")"
   ]
  },
  {
   "cell_type": "code",
   "execution_count": 147,
   "metadata": {},
   "outputs": [
    {
     "ename": "RecursionError",
     "evalue": "maximum recursion depth exceeded",
     "output_type": "error",
     "traceback": [
      "\u001b[0;31m---------------------------------------------------------------------------\u001b[0m",
      "\u001b[0;31mRecursionError\u001b[0m                            Traceback (most recent call last)",
      "\u001b[0;32m~/Library/Python/3.7/lib/python/site-packages/IPython/core/formatters.py\u001b[0m in \u001b[0;36m__call__\u001b[0;34m(self, obj)\u001b[0m\n\u001b[1;32m    700\u001b[0m                 \u001b[0mtype_pprinters\u001b[0m\u001b[0;34m=\u001b[0m\u001b[0mself\u001b[0m\u001b[0;34m.\u001b[0m\u001b[0mtype_printers\u001b[0m\u001b[0;34m,\u001b[0m\u001b[0;34m\u001b[0m\u001b[0;34m\u001b[0m\u001b[0m\n\u001b[1;32m    701\u001b[0m                 deferred_pprinters=self.deferred_printers)\n\u001b[0;32m--> 702\u001b[0;31m             \u001b[0mprinter\u001b[0m\u001b[0;34m.\u001b[0m\u001b[0mpretty\u001b[0m\u001b[0;34m(\u001b[0m\u001b[0mobj\u001b[0m\u001b[0;34m)\u001b[0m\u001b[0;34m\u001b[0m\u001b[0;34m\u001b[0m\u001b[0m\n\u001b[0m\u001b[1;32m    703\u001b[0m             \u001b[0mprinter\u001b[0m\u001b[0;34m.\u001b[0m\u001b[0mflush\u001b[0m\u001b[0;34m(\u001b[0m\u001b[0;34m)\u001b[0m\u001b[0;34m\u001b[0m\u001b[0;34m\u001b[0m\u001b[0m\n\u001b[1;32m    704\u001b[0m             \u001b[0;32mreturn\u001b[0m \u001b[0mstream\u001b[0m\u001b[0;34m.\u001b[0m\u001b[0mgetvalue\u001b[0m\u001b[0;34m(\u001b[0m\u001b[0;34m)\u001b[0m\u001b[0;34m\u001b[0m\u001b[0;34m\u001b[0m\u001b[0m\n",
      "\u001b[0;32m~/Library/Python/3.7/lib/python/site-packages/IPython/lib/pretty.py\u001b[0m in \u001b[0;36mpretty\u001b[0;34m(self, obj)\u001b[0m\n\u001b[1;32m    392\u001b[0m                         \u001b[0;32mif\u001b[0m \u001b[0mcls\u001b[0m \u001b[0;32mis\u001b[0m \u001b[0;32mnot\u001b[0m \u001b[0mobject\u001b[0m\u001b[0;31m \u001b[0m\u001b[0;31m\\\u001b[0m\u001b[0;34m\u001b[0m\u001b[0;34m\u001b[0m\u001b[0m\n\u001b[1;32m    393\u001b[0m                                 \u001b[0;32mand\u001b[0m \u001b[0mcallable\u001b[0m\u001b[0;34m(\u001b[0m\u001b[0mcls\u001b[0m\u001b[0;34m.\u001b[0m\u001b[0m__dict__\u001b[0m\u001b[0;34m.\u001b[0m\u001b[0mget\u001b[0m\u001b[0;34m(\u001b[0m\u001b[0;34m'__repr__'\u001b[0m\u001b[0;34m)\u001b[0m\u001b[0;34m)\u001b[0m\u001b[0;34m:\u001b[0m\u001b[0;34m\u001b[0m\u001b[0;34m\u001b[0m\u001b[0m\n\u001b[0;32m--> 394\u001b[0;31m                             \u001b[0;32mreturn\u001b[0m \u001b[0m_repr_pprint\u001b[0m\u001b[0;34m(\u001b[0m\u001b[0mobj\u001b[0m\u001b[0;34m,\u001b[0m \u001b[0mself\u001b[0m\u001b[0;34m,\u001b[0m \u001b[0mcycle\u001b[0m\u001b[0;34m)\u001b[0m\u001b[0;34m\u001b[0m\u001b[0;34m\u001b[0m\u001b[0m\n\u001b[0m\u001b[1;32m    395\u001b[0m \u001b[0;34m\u001b[0m\u001b[0m\n\u001b[1;32m    396\u001b[0m             \u001b[0;32mreturn\u001b[0m \u001b[0m_default_pprint\u001b[0m\u001b[0;34m(\u001b[0m\u001b[0mobj\u001b[0m\u001b[0;34m,\u001b[0m \u001b[0mself\u001b[0m\u001b[0;34m,\u001b[0m \u001b[0mcycle\u001b[0m\u001b[0;34m)\u001b[0m\u001b[0;34m\u001b[0m\u001b[0;34m\u001b[0m\u001b[0m\n",
      "\u001b[0;32m~/Library/Python/3.7/lib/python/site-packages/IPython/lib/pretty.py\u001b[0m in \u001b[0;36m_repr_pprint\u001b[0;34m(obj, p, cycle)\u001b[0m\n\u001b[1;32m    698\u001b[0m     \u001b[0;34m\"\"\"A pprint that just redirects to the normal repr function.\"\"\"\u001b[0m\u001b[0;34m\u001b[0m\u001b[0;34m\u001b[0m\u001b[0m\n\u001b[1;32m    699\u001b[0m     \u001b[0;31m# Find newlines and replace them with p.break_()\u001b[0m\u001b[0;34m\u001b[0m\u001b[0;34m\u001b[0m\u001b[0;34m\u001b[0m\u001b[0m\n\u001b[0;32m--> 700\u001b[0;31m     \u001b[0moutput\u001b[0m \u001b[0;34m=\u001b[0m \u001b[0mrepr\u001b[0m\u001b[0;34m(\u001b[0m\u001b[0mobj\u001b[0m\u001b[0;34m)\u001b[0m\u001b[0;34m\u001b[0m\u001b[0;34m\u001b[0m\u001b[0m\n\u001b[0m\u001b[1;32m    701\u001b[0m     \u001b[0mlines\u001b[0m \u001b[0;34m=\u001b[0m \u001b[0moutput\u001b[0m\u001b[0;34m.\u001b[0m\u001b[0msplitlines\u001b[0m\u001b[0;34m(\u001b[0m\u001b[0;34m)\u001b[0m\u001b[0;34m\u001b[0m\u001b[0;34m\u001b[0m\u001b[0m\n\u001b[1;32m    702\u001b[0m     \u001b[0;32mwith\u001b[0m \u001b[0mp\u001b[0m\u001b[0;34m.\u001b[0m\u001b[0mgroup\u001b[0m\u001b[0;34m(\u001b[0m\u001b[0;34m)\u001b[0m\u001b[0;34m:\u001b[0m\u001b[0;34m\u001b[0m\u001b[0;34m\u001b[0m\u001b[0m\n",
      "\u001b[0;32m/usr/local/lib/python3.7/site-packages/parsons/etl/table.py\u001b[0m in \u001b[0;36m__repr__\u001b[0;34m(self)\u001b[0m\n\u001b[1;32m     61\u001b[0m     \u001b[0;32mdef\u001b[0m \u001b[0m__repr__\u001b[0m\u001b[0;34m(\u001b[0m\u001b[0mself\u001b[0m\u001b[0;34m)\u001b[0m\u001b[0;34m:\u001b[0m\u001b[0;34m\u001b[0m\u001b[0;34m\u001b[0m\u001b[0m\n\u001b[1;32m     62\u001b[0m \u001b[0;34m\u001b[0m\u001b[0m\n\u001b[0;32m---> 63\u001b[0;31m         \u001b[0;32mreturn\u001b[0m \u001b[0mrepr\u001b[0m\u001b[0;34m(\u001b[0m\u001b[0mpetl\u001b[0m\u001b[0;34m.\u001b[0m\u001b[0mdicts\u001b[0m\u001b[0;34m(\u001b[0m\u001b[0mself\u001b[0m\u001b[0;34m.\u001b[0m\u001b[0mtable\u001b[0m\u001b[0;34m)\u001b[0m\u001b[0;34m)\u001b[0m\u001b[0;34m\u001b[0m\u001b[0;34m\u001b[0m\u001b[0m\n\u001b[0m\u001b[1;32m     64\u001b[0m \u001b[0;34m\u001b[0m\u001b[0m\n\u001b[1;32m     65\u001b[0m     \u001b[0;32mdef\u001b[0m \u001b[0m__iter__\u001b[0m\u001b[0;34m(\u001b[0m\u001b[0mself\u001b[0m\u001b[0;34m)\u001b[0m\u001b[0;34m:\u001b[0m\u001b[0;34m\u001b[0m\u001b[0;34m\u001b[0m\u001b[0m\n",
      "\u001b[0;32m/usr/local/lib/python3.7/site-packages/petl-1.2.0-py3.7.egg/petl/util/base.py\u001b[0m in \u001b[0;36m__repr__\u001b[0;34m(self)\u001b[0m\n\u001b[1;32m    434\u001b[0m \u001b[0;34m\u001b[0m\u001b[0m\n\u001b[1;32m    435\u001b[0m     \u001b[0;32mdef\u001b[0m \u001b[0m__repr__\u001b[0m\u001b[0;34m(\u001b[0m\u001b[0mself\u001b[0m\u001b[0;34m)\u001b[0m\u001b[0;34m:\u001b[0m\u001b[0;34m\u001b[0m\u001b[0;34m\u001b[0m\u001b[0m\n\u001b[0;32m--> 436\u001b[0;31m         \u001b[0mvreprs\u001b[0m \u001b[0;34m=\u001b[0m \u001b[0mlist\u001b[0m\u001b[0;34m(\u001b[0m\u001b[0mmap\u001b[0m\u001b[0;34m(\u001b[0m\u001b[0mrepr\u001b[0m\u001b[0;34m,\u001b[0m \u001b[0mislice\u001b[0m\u001b[0;34m(\u001b[0m\u001b[0mself\u001b[0m\u001b[0;34m,\u001b[0m \u001b[0;36m6\u001b[0m\u001b[0;34m)\u001b[0m\u001b[0;34m)\u001b[0m\u001b[0;34m)\u001b[0m\u001b[0;34m\u001b[0m\u001b[0;34m\u001b[0m\u001b[0m\n\u001b[0m\u001b[1;32m    437\u001b[0m         \u001b[0mr\u001b[0m \u001b[0;34m=\u001b[0m \u001b[0;34m'\\n'\u001b[0m\u001b[0;34m.\u001b[0m\u001b[0mjoin\u001b[0m\u001b[0;34m(\u001b[0m\u001b[0mvreprs\u001b[0m\u001b[0;34m[\u001b[0m\u001b[0;34m:\u001b[0m\u001b[0;36m5\u001b[0m\u001b[0;34m]\u001b[0m\u001b[0;34m)\u001b[0m\u001b[0;34m\u001b[0m\u001b[0;34m\u001b[0m\u001b[0m\n\u001b[1;32m    438\u001b[0m         \u001b[0;32mif\u001b[0m \u001b[0mlen\u001b[0m\u001b[0;34m(\u001b[0m\u001b[0mvreprs\u001b[0m\u001b[0;34m)\u001b[0m \u001b[0;34m>\u001b[0m \u001b[0;36m5\u001b[0m\u001b[0;34m:\u001b[0m\u001b[0;34m\u001b[0m\u001b[0;34m\u001b[0m\u001b[0m\n",
      "\u001b[0;32m/usr/local/lib/python3.7/site-packages/petl-1.2.0-py3.7.egg/petl/util/base.py\u001b[0m in \u001b[0;36miterdicts\u001b[0;34m(table, *sliceargs, **kwargs)\u001b[0m\n\u001b[1;32m    447\u001b[0m     \u001b[0;32mif\u001b[0m \u001b[0msliceargs\u001b[0m\u001b[0;34m:\u001b[0m\u001b[0;34m\u001b[0m\u001b[0;34m\u001b[0m\u001b[0m\n\u001b[1;32m    448\u001b[0m         \u001b[0mit\u001b[0m \u001b[0;34m=\u001b[0m \u001b[0mislice\u001b[0m\u001b[0;34m(\u001b[0m\u001b[0mit\u001b[0m\u001b[0;34m,\u001b[0m \u001b[0;34m*\u001b[0m\u001b[0msliceargs\u001b[0m\u001b[0;34m)\u001b[0m\u001b[0;34m\u001b[0m\u001b[0;34m\u001b[0m\u001b[0m\n\u001b[0;32m--> 449\u001b[0;31m     \u001b[0;32mfor\u001b[0m \u001b[0mrow\u001b[0m \u001b[0;32min\u001b[0m \u001b[0mit\u001b[0m\u001b[0;34m:\u001b[0m\u001b[0;34m\u001b[0m\u001b[0;34m\u001b[0m\u001b[0m\n\u001b[0m\u001b[1;32m    450\u001b[0m         \u001b[0;32myield\u001b[0m \u001b[0masdict\u001b[0m\u001b[0;34m(\u001b[0m\u001b[0mhdr\u001b[0m\u001b[0;34m,\u001b[0m \u001b[0mrow\u001b[0m\u001b[0;34m,\u001b[0m \u001b[0mmissing\u001b[0m\u001b[0;34m)\u001b[0m\u001b[0;34m\u001b[0m\u001b[0;34m\u001b[0m\u001b[0m\n\u001b[1;32m    451\u001b[0m \u001b[0;34m\u001b[0m\u001b[0m\n",
      "\u001b[0;32m/usr/local/lib/python3.7/site-packages/petl-1.2.0-py3.7.egg/petl/transform/basics.py\u001b[0m in \u001b[0;36miteraddfield\u001b[0;34m(source, field, value, index)\u001b[0m\n\u001b[1;32m    542\u001b[0m         \u001b[0;31m# wrap rows as records if using calculated value\u001b[0m\u001b[0;34m\u001b[0m\u001b[0;34m\u001b[0m\u001b[0;34m\u001b[0m\u001b[0m\n\u001b[1;32m    543\u001b[0m         \u001b[0mit\u001b[0m \u001b[0;34m=\u001b[0m \u001b[0;34m(\u001b[0m\u001b[0mRecord\u001b[0m\u001b[0;34m(\u001b[0m\u001b[0mrow\u001b[0m\u001b[0;34m,\u001b[0m \u001b[0mflds\u001b[0m\u001b[0;34m)\u001b[0m \u001b[0;32mfor\u001b[0m \u001b[0mrow\u001b[0m \u001b[0;32min\u001b[0m \u001b[0mit\u001b[0m\u001b[0;34m)\u001b[0m\u001b[0;34m\u001b[0m\u001b[0;34m\u001b[0m\u001b[0m\n\u001b[0;32m--> 544\u001b[0;31m         \u001b[0;32mfor\u001b[0m \u001b[0mrow\u001b[0m \u001b[0;32min\u001b[0m \u001b[0mit\u001b[0m\u001b[0;34m:\u001b[0m\u001b[0;34m\u001b[0m\u001b[0;34m\u001b[0m\u001b[0m\n\u001b[0m\u001b[1;32m    545\u001b[0m             \u001b[0moutrow\u001b[0m \u001b[0;34m=\u001b[0m \u001b[0mlist\u001b[0m\u001b[0;34m(\u001b[0m\u001b[0mrow\u001b[0m\u001b[0;34m)\u001b[0m\u001b[0;34m\u001b[0m\u001b[0;34m\u001b[0m\u001b[0m\n\u001b[1;32m    546\u001b[0m             \u001b[0mv\u001b[0m \u001b[0;34m=\u001b[0m \u001b[0mvalue\u001b[0m\u001b[0;34m(\u001b[0m\u001b[0mrow\u001b[0m\u001b[0;34m)\u001b[0m\u001b[0;34m\u001b[0m\u001b[0;34m\u001b[0m\u001b[0m\n",
      "\u001b[0;32m/usr/local/lib/python3.7/site-packages/petl-1.2.0-py3.7.egg/petl/transform/basics.py\u001b[0m in \u001b[0;36m<genexpr>\u001b[0;34m(.0)\u001b[0m\n\u001b[1;32m    541\u001b[0m     \u001b[0;32mif\u001b[0m \u001b[0mcallable\u001b[0m\u001b[0;34m(\u001b[0m\u001b[0mvalue\u001b[0m\u001b[0;34m)\u001b[0m\u001b[0;34m:\u001b[0m\u001b[0;34m\u001b[0m\u001b[0;34m\u001b[0m\u001b[0m\n\u001b[1;32m    542\u001b[0m         \u001b[0;31m# wrap rows as records if using calculated value\u001b[0m\u001b[0;34m\u001b[0m\u001b[0;34m\u001b[0m\u001b[0;34m\u001b[0m\u001b[0m\n\u001b[0;32m--> 543\u001b[0;31m         \u001b[0mit\u001b[0m \u001b[0;34m=\u001b[0m \u001b[0;34m(\u001b[0m\u001b[0mRecord\u001b[0m\u001b[0;34m(\u001b[0m\u001b[0mrow\u001b[0m\u001b[0;34m,\u001b[0m \u001b[0mflds\u001b[0m\u001b[0;34m)\u001b[0m \u001b[0;32mfor\u001b[0m \u001b[0mrow\u001b[0m \u001b[0;32min\u001b[0m \u001b[0mit\u001b[0m\u001b[0;34m)\u001b[0m\u001b[0;34m\u001b[0m\u001b[0;34m\u001b[0m\u001b[0m\n\u001b[0m\u001b[1;32m    544\u001b[0m         \u001b[0;32mfor\u001b[0m \u001b[0mrow\u001b[0m \u001b[0;32min\u001b[0m \u001b[0mit\u001b[0m\u001b[0;34m:\u001b[0m\u001b[0;34m\u001b[0m\u001b[0;34m\u001b[0m\u001b[0m\n\u001b[1;32m    545\u001b[0m             \u001b[0moutrow\u001b[0m \u001b[0;34m=\u001b[0m \u001b[0mlist\u001b[0m\u001b[0;34m(\u001b[0m\u001b[0mrow\u001b[0m\u001b[0;34m)\u001b[0m\u001b[0;34m\u001b[0m\u001b[0;34m\u001b[0m\u001b[0m\n",
      "\u001b[0;32m/usr/local/lib/python3.7/site-packages/petl-1.2.0-py3.7.egg/petl/transform/basics.py\u001b[0m in \u001b[0;36miterstack\u001b[0;34m(sources, missing, trim, pad)\u001b[0m\n\u001b[1;32m    457\u001b[0m     \u001b[0;32myield\u001b[0m \u001b[0mtuple\u001b[0m\u001b[0;34m(\u001b[0m\u001b[0mhdr\u001b[0m\u001b[0;34m)\u001b[0m\u001b[0;34m\u001b[0m\u001b[0;34m\u001b[0m\u001b[0m\n\u001b[1;32m    458\u001b[0m     \u001b[0;32mfor\u001b[0m \u001b[0mit\u001b[0m \u001b[0;32min\u001b[0m \u001b[0mits\u001b[0m\u001b[0;34m:\u001b[0m\u001b[0;34m\u001b[0m\u001b[0;34m\u001b[0m\u001b[0m\n\u001b[0;32m--> 459\u001b[0;31m         \u001b[0;32mfor\u001b[0m \u001b[0mrow\u001b[0m \u001b[0;32min\u001b[0m \u001b[0mit\u001b[0m\u001b[0;34m:\u001b[0m\u001b[0;34m\u001b[0m\u001b[0;34m\u001b[0m\u001b[0m\n\u001b[0m\u001b[1;32m    460\u001b[0m             \u001b[0moutrow\u001b[0m \u001b[0;34m=\u001b[0m \u001b[0mtuple\u001b[0m\u001b[0;34m(\u001b[0m\u001b[0mrow\u001b[0m\u001b[0;34m)\u001b[0m\u001b[0;34m\u001b[0m\u001b[0;34m\u001b[0m\u001b[0m\n\u001b[1;32m    461\u001b[0m             \u001b[0;32mif\u001b[0m \u001b[0mtrim\u001b[0m\u001b[0;34m:\u001b[0m\u001b[0;34m\u001b[0m\u001b[0;34m\u001b[0m\u001b[0m\n",
      "\u001b[0;32m/usr/local/lib/python3.7/site-packages/petl-1.2.0-py3.7.egg/petl/transform/basics.py\u001b[0m in \u001b[0;36miteraddfield\u001b[0;34m(source, field, value, index)\u001b[0m\n\u001b[1;32m    542\u001b[0m         \u001b[0;31m# wrap rows as records if using calculated value\u001b[0m\u001b[0;34m\u001b[0m\u001b[0;34m\u001b[0m\u001b[0;34m\u001b[0m\u001b[0m\n\u001b[1;32m    543\u001b[0m         \u001b[0mit\u001b[0m \u001b[0;34m=\u001b[0m \u001b[0;34m(\u001b[0m\u001b[0mRecord\u001b[0m\u001b[0;34m(\u001b[0m\u001b[0mrow\u001b[0m\u001b[0;34m,\u001b[0m \u001b[0mflds\u001b[0m\u001b[0;34m)\u001b[0m \u001b[0;32mfor\u001b[0m \u001b[0mrow\u001b[0m \u001b[0;32min\u001b[0m \u001b[0mit\u001b[0m\u001b[0;34m)\u001b[0m\u001b[0;34m\u001b[0m\u001b[0;34m\u001b[0m\u001b[0m\n\u001b[0;32m--> 544\u001b[0;31m         \u001b[0;32mfor\u001b[0m \u001b[0mrow\u001b[0m \u001b[0;32min\u001b[0m \u001b[0mit\u001b[0m\u001b[0;34m:\u001b[0m\u001b[0;34m\u001b[0m\u001b[0;34m\u001b[0m\u001b[0m\n\u001b[0m\u001b[1;32m    545\u001b[0m             \u001b[0moutrow\u001b[0m \u001b[0;34m=\u001b[0m \u001b[0mlist\u001b[0m\u001b[0;34m(\u001b[0m\u001b[0mrow\u001b[0m\u001b[0;34m)\u001b[0m\u001b[0;34m\u001b[0m\u001b[0;34m\u001b[0m\u001b[0m\n\u001b[1;32m    546\u001b[0m             \u001b[0mv\u001b[0m \u001b[0;34m=\u001b[0m \u001b[0mvalue\u001b[0m\u001b[0;34m(\u001b[0m\u001b[0mrow\u001b[0m\u001b[0;34m)\u001b[0m\u001b[0;34m\u001b[0m\u001b[0;34m\u001b[0m\u001b[0m\n",
      "\u001b[0;32m/usr/local/lib/python3.7/site-packages/petl-1.2.0-py3.7.egg/petl/transform/basics.py\u001b[0m in \u001b[0;36m<genexpr>\u001b[0;34m(.0)\u001b[0m\n\u001b[1;32m    541\u001b[0m     \u001b[0;32mif\u001b[0m \u001b[0mcallable\u001b[0m\u001b[0;34m(\u001b[0m\u001b[0mvalue\u001b[0m\u001b[0;34m)\u001b[0m\u001b[0;34m:\u001b[0m\u001b[0;34m\u001b[0m\u001b[0;34m\u001b[0m\u001b[0m\n\u001b[1;32m    542\u001b[0m         \u001b[0;31m# wrap rows as records if using calculated value\u001b[0m\u001b[0;34m\u001b[0m\u001b[0;34m\u001b[0m\u001b[0;34m\u001b[0m\u001b[0m\n\u001b[0;32m--> 543\u001b[0;31m         \u001b[0mit\u001b[0m \u001b[0;34m=\u001b[0m \u001b[0;34m(\u001b[0m\u001b[0mRecord\u001b[0m\u001b[0;34m(\u001b[0m\u001b[0mrow\u001b[0m\u001b[0;34m,\u001b[0m \u001b[0mflds\u001b[0m\u001b[0;34m)\u001b[0m \u001b[0;32mfor\u001b[0m \u001b[0mrow\u001b[0m \u001b[0;32min\u001b[0m \u001b[0mit\u001b[0m\u001b[0;34m)\u001b[0m\u001b[0;34m\u001b[0m\u001b[0;34m\u001b[0m\u001b[0m\n\u001b[0m\u001b[1;32m    544\u001b[0m         \u001b[0;32mfor\u001b[0m \u001b[0mrow\u001b[0m \u001b[0;32min\u001b[0m \u001b[0mit\u001b[0m\u001b[0;34m:\u001b[0m\u001b[0;34m\u001b[0m\u001b[0;34m\u001b[0m\u001b[0m\n\u001b[1;32m    545\u001b[0m             \u001b[0moutrow\u001b[0m \u001b[0;34m=\u001b[0m \u001b[0mlist\u001b[0m\u001b[0;34m(\u001b[0m\u001b[0mrow\u001b[0m\u001b[0;34m)\u001b[0m\u001b[0;34m\u001b[0m\u001b[0;34m\u001b[0m\u001b[0m\n",
      "\u001b[0;32m/usr/local/lib/python3.7/site-packages/petl-1.2.0-py3.7.egg/petl/transform/basics.py\u001b[0m in \u001b[0;36miterstack\u001b[0;34m(sources, missing, trim, pad)\u001b[0m\n\u001b[1;32m    457\u001b[0m     \u001b[0;32myield\u001b[0m \u001b[0mtuple\u001b[0m\u001b[0;34m(\u001b[0m\u001b[0mhdr\u001b[0m\u001b[0;34m)\u001b[0m\u001b[0;34m\u001b[0m\u001b[0;34m\u001b[0m\u001b[0m\n\u001b[1;32m    458\u001b[0m     \u001b[0;32mfor\u001b[0m \u001b[0mit\u001b[0m \u001b[0;32min\u001b[0m \u001b[0mits\u001b[0m\u001b[0;34m:\u001b[0m\u001b[0;34m\u001b[0m\u001b[0;34m\u001b[0m\u001b[0m\n\u001b[0;32m--> 459\u001b[0;31m         \u001b[0;32mfor\u001b[0m \u001b[0mrow\u001b[0m \u001b[0;32min\u001b[0m \u001b[0mit\u001b[0m\u001b[0;34m:\u001b[0m\u001b[0;34m\u001b[0m\u001b[0;34m\u001b[0m\u001b[0m\n\u001b[0m\u001b[1;32m    460\u001b[0m             \u001b[0moutrow\u001b[0m \u001b[0;34m=\u001b[0m \u001b[0mtuple\u001b[0m\u001b[0;34m(\u001b[0m\u001b[0mrow\u001b[0m\u001b[0;34m)\u001b[0m\u001b[0;34m\u001b[0m\u001b[0;34m\u001b[0m\u001b[0m\n\u001b[1;32m    461\u001b[0m             \u001b[0;32mif\u001b[0m \u001b[0mtrim\u001b[0m\u001b[0;34m:\u001b[0m\u001b[0;34m\u001b[0m\u001b[0;34m\u001b[0m\u001b[0m\n",
      "\u001b[0;32m/usr/local/lib/python3.7/site-packages/petl-1.2.0-py3.7.egg/petl/transform/basics.py\u001b[0m in \u001b[0;36miteraddfield\u001b[0;34m(source, field, value, index)\u001b[0m\n\u001b[1;32m    544\u001b[0m         \u001b[0;32mfor\u001b[0m \u001b[0mrow\u001b[0m \u001b[0;32min\u001b[0m \u001b[0mit\u001b[0m\u001b[0;34m:\u001b[0m\u001b[0;34m\u001b[0m\u001b[0;34m\u001b[0m\u001b[0m\n\u001b[1;32m    545\u001b[0m             \u001b[0moutrow\u001b[0m \u001b[0;34m=\u001b[0m \u001b[0mlist\u001b[0m\u001b[0;34m(\u001b[0m\u001b[0mrow\u001b[0m\u001b[0;34m)\u001b[0m\u001b[0;34m\u001b[0m\u001b[0;34m\u001b[0m\u001b[0m\n\u001b[0;32m--> 546\u001b[0;31m             \u001b[0mv\u001b[0m \u001b[0;34m=\u001b[0m \u001b[0mvalue\u001b[0m\u001b[0;34m(\u001b[0m\u001b[0mrow\u001b[0m\u001b[0;34m)\u001b[0m\u001b[0;34m\u001b[0m\u001b[0;34m\u001b[0m\u001b[0m\n\u001b[0m\u001b[1;32m    547\u001b[0m             \u001b[0moutrow\u001b[0m\u001b[0;34m.\u001b[0m\u001b[0minsert\u001b[0m\u001b[0;34m(\u001b[0m\u001b[0mindex\u001b[0m\u001b[0;34m,\u001b[0m \u001b[0mv\u001b[0m\u001b[0;34m)\u001b[0m\u001b[0;34m\u001b[0m\u001b[0;34m\u001b[0m\u001b[0m\n\u001b[1;32m    548\u001b[0m             \u001b[0;32myield\u001b[0m \u001b[0mtuple\u001b[0m\u001b[0;34m(\u001b[0m\u001b[0moutrow\u001b[0m\u001b[0;34m)\u001b[0m\u001b[0;34m\u001b[0m\u001b[0;34m\u001b[0m\u001b[0m\n",
      "\u001b[0;32m<ipython-input-142-92964514e4df>\u001b[0m in \u001b[0;36m<lambda>\u001b[0;34m(v)\u001b[0m\n\u001b[1;32m      1\u001b[0m test_v4.add_column(\n\u001b[1;32m      2\u001b[0m     \u001b[0;34m'action_date_v6'\u001b[0m\u001b[0;34m,\u001b[0m\u001b[0;34m\u001b[0m\u001b[0;34m\u001b[0m\u001b[0m\n\u001b[0;32m----> 3\u001b[0;31m     \u001b[0;32mlambda\u001b[0m \u001b[0mv\u001b[0m\u001b[0;34m:\u001b[0m \u001b[0mdatetime\u001b[0m\u001b[0;34m.\u001b[0m\u001b[0mstrptime\u001b[0m\u001b[0;34m(\u001b[0m\u001b[0mtest_v4\u001b[0m\u001b[0;34m[\u001b[0m\u001b[0;34m'action_date'\u001b[0m\u001b[0;34m]\u001b[0m\u001b[0;34m[\u001b[0m\u001b[0mv\u001b[0m\u001b[0;34m]\u001b[0m\u001b[0;34m,\u001b[0m \u001b[0;34m'%Y-%m-%d %H:%M:%S'\u001b[0m\u001b[0;34m)\u001b[0m\u001b[0;34m.\u001b[0m\u001b[0misoformat\u001b[0m\u001b[0;34m(\u001b[0m\u001b[0;34m)\u001b[0m\u001b[0;34m\u001b[0m\u001b[0;34m\u001b[0m\u001b[0m\n\u001b[0m\u001b[1;32m      4\u001b[0m )\n",
      "\u001b[0;32m/usr/local/lib/python3.7/site-packages/parsons/etl/table.py\u001b[0m in \u001b[0;36m__getitem__\u001b[0;34m(self, index)\u001b[0m\n\u001b[1;32m     75\u001b[0m         \u001b[0;32melif\u001b[0m \u001b[0misinstance\u001b[0m\u001b[0;34m(\u001b[0m\u001b[0mindex\u001b[0m\u001b[0;34m,\u001b[0m \u001b[0mstr\u001b[0m\u001b[0;34m)\u001b[0m\u001b[0;34m:\u001b[0m\u001b[0;34m\u001b[0m\u001b[0;34m\u001b[0m\u001b[0m\n\u001b[1;32m     76\u001b[0m \u001b[0;34m\u001b[0m\u001b[0m\n\u001b[0;32m---> 77\u001b[0;31m             \u001b[0;32mreturn\u001b[0m \u001b[0mself\u001b[0m\u001b[0;34m.\u001b[0m\u001b[0mcolumn_data\u001b[0m\u001b[0;34m(\u001b[0m\u001b[0mindex\u001b[0m\u001b[0;34m)\u001b[0m\u001b[0;34m\u001b[0m\u001b[0;34m\u001b[0m\u001b[0m\n\u001b[0m\u001b[1;32m     78\u001b[0m \u001b[0;34m\u001b[0m\u001b[0m\n\u001b[1;32m     79\u001b[0m         \u001b[0;32melse\u001b[0m\u001b[0;34m:\u001b[0m\u001b[0;34m\u001b[0m\u001b[0;34m\u001b[0m\u001b[0m\n",
      "\u001b[0;32m/usr/local/lib/python3.7/site-packages/parsons/etl/table.py\u001b[0m in \u001b[0;36mcolumn_data\u001b[0;34m(self, column_name)\u001b[0m\n\u001b[1;32m    169\u001b[0m \u001b[0;34m\u001b[0m\u001b[0m\n\u001b[1;32m    170\u001b[0m         \u001b[0;32mif\u001b[0m \u001b[0mcolumn_name\u001b[0m \u001b[0;32min\u001b[0m \u001b[0mself\u001b[0m\u001b[0;34m.\u001b[0m\u001b[0mcolumns\u001b[0m\u001b[0;34m:\u001b[0m\u001b[0;34m\u001b[0m\u001b[0;34m\u001b[0m\u001b[0m\n\u001b[0;32m--> 171\u001b[0;31m             \u001b[0;32mreturn\u001b[0m \u001b[0mlist\u001b[0m\u001b[0;34m(\u001b[0m\u001b[0mself\u001b[0m\u001b[0;34m.\u001b[0m\u001b[0mtable\u001b[0m\u001b[0;34m[\u001b[0m\u001b[0mcolumn_name\u001b[0m\u001b[0;34m]\u001b[0m\u001b[0;34m)\u001b[0m\u001b[0;34m\u001b[0m\u001b[0;34m\u001b[0m\u001b[0m\n\u001b[0m\u001b[1;32m    172\u001b[0m \u001b[0;34m\u001b[0m\u001b[0m\n\u001b[1;32m    173\u001b[0m         \u001b[0;32melse\u001b[0m\u001b[0;34m:\u001b[0m\u001b[0;34m\u001b[0m\u001b[0;34m\u001b[0m\u001b[0m\n",
      "\u001b[0;32m/usr/local/lib/python3.7/site-packages/petl-1.2.0-py3.7.egg/petl/util/base.py\u001b[0m in \u001b[0;36m__len__\u001b[0;34m(self)\u001b[0m\n\u001b[1;32m     26\u001b[0m \u001b[0;34m\u001b[0m\u001b[0m\n\u001b[1;32m     27\u001b[0m     \u001b[0;32mdef\u001b[0m \u001b[0m__len__\u001b[0m\u001b[0;34m(\u001b[0m\u001b[0mself\u001b[0m\u001b[0;34m)\u001b[0m\u001b[0;34m:\u001b[0m\u001b[0;34m\u001b[0m\u001b[0;34m\u001b[0m\u001b[0m\n\u001b[0;32m---> 28\u001b[0;31m         \u001b[0;32mreturn\u001b[0m \u001b[0msum\u001b[0m\u001b[0;34m(\u001b[0m\u001b[0;36m1\u001b[0m \u001b[0;32mfor\u001b[0m \u001b[0m_\u001b[0m \u001b[0;32min\u001b[0m \u001b[0mself\u001b[0m\u001b[0;34m)\u001b[0m\u001b[0;34m\u001b[0m\u001b[0;34m\u001b[0m\u001b[0m\n\u001b[0m\u001b[1;32m     29\u001b[0m \u001b[0;34m\u001b[0m\u001b[0m\n\u001b[1;32m     30\u001b[0m     \u001b[0;32mdef\u001b[0m \u001b[0m__getitem__\u001b[0m\u001b[0;34m(\u001b[0m\u001b[0mself\u001b[0m\u001b[0;34m,\u001b[0m \u001b[0mitem\u001b[0m\u001b[0;34m)\u001b[0m\u001b[0;34m:\u001b[0m\u001b[0;34m\u001b[0m\u001b[0;34m\u001b[0m\u001b[0m\n",
      "\u001b[0;32m/usr/local/lib/python3.7/site-packages/petl-1.2.0-py3.7.egg/petl/util/base.py\u001b[0m in \u001b[0;36m<genexpr>\u001b[0;34m(.0)\u001b[0m\n\u001b[1;32m     26\u001b[0m \u001b[0;34m\u001b[0m\u001b[0m\n\u001b[1;32m     27\u001b[0m     \u001b[0;32mdef\u001b[0m \u001b[0m__len__\u001b[0m\u001b[0;34m(\u001b[0m\u001b[0mself\u001b[0m\u001b[0;34m)\u001b[0m\u001b[0;34m:\u001b[0m\u001b[0;34m\u001b[0m\u001b[0;34m\u001b[0m\u001b[0m\n\u001b[0;32m---> 28\u001b[0;31m         \u001b[0;32mreturn\u001b[0m \u001b[0msum\u001b[0m\u001b[0;34m(\u001b[0m\u001b[0;36m1\u001b[0m \u001b[0;32mfor\u001b[0m \u001b[0m_\u001b[0m \u001b[0;32min\u001b[0m \u001b[0mself\u001b[0m\u001b[0;34m)\u001b[0m\u001b[0;34m\u001b[0m\u001b[0;34m\u001b[0m\u001b[0m\n\u001b[0m\u001b[1;32m     29\u001b[0m \u001b[0;34m\u001b[0m\u001b[0m\n\u001b[1;32m     30\u001b[0m     \u001b[0;32mdef\u001b[0m \u001b[0m__getitem__\u001b[0m\u001b[0;34m(\u001b[0m\u001b[0mself\u001b[0m\u001b[0;34m,\u001b[0m \u001b[0mitem\u001b[0m\u001b[0;34m)\u001b[0m\u001b[0;34m:\u001b[0m\u001b[0;34m\u001b[0m\u001b[0;34m\u001b[0m\u001b[0m\n",
      "\u001b[0;32m/usr/local/lib/python3.7/site-packages/petl-1.2.0-py3.7.egg/petl/util/base.py\u001b[0m in \u001b[0;36mitervalues\u001b[0;34m(table, field, **kwargs)\u001b[0m\n\u001b[1;32m    250\u001b[0m     \u001b[0;32massert\u001b[0m \u001b[0mlen\u001b[0m\u001b[0;34m(\u001b[0m\u001b[0mindices\u001b[0m\u001b[0;34m)\u001b[0m \u001b[0;34m>\u001b[0m \u001b[0;36m0\u001b[0m\u001b[0;34m,\u001b[0m \u001b[0;34m'no field selected'\u001b[0m\u001b[0;34m\u001b[0m\u001b[0;34m\u001b[0m\u001b[0m\n\u001b[1;32m    251\u001b[0m     \u001b[0mgetvalue\u001b[0m \u001b[0;34m=\u001b[0m \u001b[0moperator\u001b[0m\u001b[0;34m.\u001b[0m\u001b[0mitemgetter\u001b[0m\u001b[0;34m(\u001b[0m\u001b[0;34m*\u001b[0m\u001b[0mindices\u001b[0m\u001b[0;34m)\u001b[0m\u001b[0;34m\u001b[0m\u001b[0;34m\u001b[0m\u001b[0m\n\u001b[0;32m--> 252\u001b[0;31m     \u001b[0;32mfor\u001b[0m \u001b[0mrow\u001b[0m \u001b[0;32min\u001b[0m \u001b[0mit\u001b[0m\u001b[0;34m:\u001b[0m\u001b[0;34m\u001b[0m\u001b[0;34m\u001b[0m\u001b[0m\n\u001b[0m\u001b[1;32m    253\u001b[0m         \u001b[0;32mtry\u001b[0m\u001b[0;34m:\u001b[0m\u001b[0;34m\u001b[0m\u001b[0;34m\u001b[0m\u001b[0m\n\u001b[1;32m    254\u001b[0m             \u001b[0mvalue\u001b[0m \u001b[0;34m=\u001b[0m \u001b[0mgetvalue\u001b[0m\u001b[0;34m(\u001b[0m\u001b[0mrow\u001b[0m\u001b[0;34m)\u001b[0m\u001b[0;34m\u001b[0m\u001b[0;34m\u001b[0m\u001b[0m\n",
      "... last 13 frames repeated, from the frame below ...\n",
      "\u001b[0;32m/usr/local/lib/python3.7/site-packages/petl-1.2.0-py3.7.egg/petl/transform/basics.py\u001b[0m in \u001b[0;36miteraddfield\u001b[0;34m(source, field, value, index)\u001b[0m\n\u001b[1;32m    542\u001b[0m         \u001b[0;31m# wrap rows as records if using calculated value\u001b[0m\u001b[0;34m\u001b[0m\u001b[0;34m\u001b[0m\u001b[0;34m\u001b[0m\u001b[0m\n\u001b[1;32m    543\u001b[0m         \u001b[0mit\u001b[0m \u001b[0;34m=\u001b[0m \u001b[0;34m(\u001b[0m\u001b[0mRecord\u001b[0m\u001b[0;34m(\u001b[0m\u001b[0mrow\u001b[0m\u001b[0;34m,\u001b[0m \u001b[0mflds\u001b[0m\u001b[0;34m)\u001b[0m \u001b[0;32mfor\u001b[0m \u001b[0mrow\u001b[0m \u001b[0;32min\u001b[0m \u001b[0mit\u001b[0m\u001b[0;34m)\u001b[0m\u001b[0;34m\u001b[0m\u001b[0;34m\u001b[0m\u001b[0m\n\u001b[0;32m--> 544\u001b[0;31m         \u001b[0;32mfor\u001b[0m \u001b[0mrow\u001b[0m \u001b[0;32min\u001b[0m \u001b[0mit\u001b[0m\u001b[0;34m:\u001b[0m\u001b[0;34m\u001b[0m\u001b[0;34m\u001b[0m\u001b[0m\n\u001b[0m\u001b[1;32m    545\u001b[0m             \u001b[0moutrow\u001b[0m \u001b[0;34m=\u001b[0m \u001b[0mlist\u001b[0m\u001b[0;34m(\u001b[0m\u001b[0mrow\u001b[0m\u001b[0;34m)\u001b[0m\u001b[0;34m\u001b[0m\u001b[0;34m\u001b[0m\u001b[0m\n\u001b[1;32m    546\u001b[0m             \u001b[0mv\u001b[0m \u001b[0;34m=\u001b[0m \u001b[0mvalue\u001b[0m\u001b[0;34m(\u001b[0m\u001b[0mrow\u001b[0m\u001b[0;34m)\u001b[0m\u001b[0;34m\u001b[0m\u001b[0;34m\u001b[0m\u001b[0m\n",
      "\u001b[0;31mRecursionError\u001b[0m: maximum recursion depth exceeded"
     ]
    },
    {
     "ename": "RecursionError",
     "evalue": "maximum recursion depth exceeded while calling a Python object",
     "output_type": "error",
     "traceback": [
      "\u001b[0;31m---------------------------------------------------------------------------\u001b[0m",
      "\u001b[0;31mRecursionError\u001b[0m                            Traceback (most recent call last)",
      "\u001b[0;32m~/Library/Python/3.7/lib/python/site-packages/IPython/core/formatters.py\u001b[0m in \u001b[0;36m__call__\u001b[0;34m(self, obj)\u001b[0m\n\u001b[1;32m    343\u001b[0m             \u001b[0mmethod\u001b[0m \u001b[0;34m=\u001b[0m \u001b[0mget_real_method\u001b[0m\u001b[0;34m(\u001b[0m\u001b[0mobj\u001b[0m\u001b[0;34m,\u001b[0m \u001b[0mself\u001b[0m\u001b[0;34m.\u001b[0m\u001b[0mprint_method\u001b[0m\u001b[0;34m)\u001b[0m\u001b[0;34m\u001b[0m\u001b[0;34m\u001b[0m\u001b[0m\n\u001b[1;32m    344\u001b[0m             \u001b[0;32mif\u001b[0m \u001b[0mmethod\u001b[0m \u001b[0;32mis\u001b[0m \u001b[0;32mnot\u001b[0m \u001b[0;32mNone\u001b[0m\u001b[0;34m:\u001b[0m\u001b[0;34m\u001b[0m\u001b[0;34m\u001b[0m\u001b[0m\n\u001b[0;32m--> 345\u001b[0;31m                 \u001b[0;32mreturn\u001b[0m \u001b[0mmethod\u001b[0m\u001b[0;34m(\u001b[0m\u001b[0;34m)\u001b[0m\u001b[0;34m\u001b[0m\u001b[0;34m\u001b[0m\u001b[0m\n\u001b[0m\u001b[1;32m    346\u001b[0m             \u001b[0;32mreturn\u001b[0m \u001b[0;32mNone\u001b[0m\u001b[0;34m\u001b[0m\u001b[0;34m\u001b[0m\u001b[0m\n\u001b[1;32m    347\u001b[0m         \u001b[0;32melse\u001b[0m\u001b[0;34m:\u001b[0m\u001b[0;34m\u001b[0m\u001b[0;34m\u001b[0m\u001b[0m\n",
      "\u001b[0;32m/usr/local/lib/python3.7/site-packages/parsons/etl/table.py\u001b[0m in \u001b[0;36m_repr_html_\u001b[0;34m(self)\u001b[0m\n\u001b[1;32m     90\u001b[0m         \"\"\"\n\u001b[1;32m     91\u001b[0m \u001b[0;34m\u001b[0m\u001b[0m\n\u001b[0;32m---> 92\u001b[0;31m         \u001b[0;32mreturn\u001b[0m \u001b[0mself\u001b[0m\u001b[0;34m.\u001b[0m\u001b[0mtable\u001b[0m\u001b[0;34m.\u001b[0m\u001b[0m_repr_html_\u001b[0m\u001b[0;34m(\u001b[0m\u001b[0;34m)\u001b[0m\u001b[0;34m\u001b[0m\u001b[0;34m\u001b[0m\u001b[0m\n\u001b[0m\u001b[1;32m     93\u001b[0m \u001b[0;34m\u001b[0m\u001b[0m\n\u001b[1;32m     94\u001b[0m     \u001b[0;34m@\u001b[0m\u001b[0mproperty\u001b[0m\u001b[0;34m\u001b[0m\u001b[0;34m\u001b[0m\u001b[0m\n",
      "\u001b[0;32m/usr/local/lib/python3.7/site-packages/petl-1.2.0-py3.7.egg/petl/util/vis.py\u001b[0m in \u001b[0;36m_display_html\u001b[0;34m(table, limit, vrepr, index_header, caption, tr_style, td_styles, encoding, truncate, epilogue)\u001b[0m\n\u001b[1;32m    547\u001b[0m         \u001b[0mencoding\u001b[0m \u001b[0;34m=\u001b[0m \u001b[0mlocale\u001b[0m\u001b[0;34m.\u001b[0m\u001b[0mgetpreferredencoding\u001b[0m\u001b[0;34m(\u001b[0m\u001b[0;34m)\u001b[0m\u001b[0;34m\u001b[0m\u001b[0;34m\u001b[0m\u001b[0m\n\u001b[1;32m    548\u001b[0m \u001b[0;34m\u001b[0m\u001b[0m\n\u001b[0;32m--> 549\u001b[0;31m     \u001b[0mtable\u001b[0m\u001b[0;34m,\u001b[0m \u001b[0moverflow\u001b[0m \u001b[0;34m=\u001b[0m \u001b[0m_vis_overflow\u001b[0m\u001b[0;34m(\u001b[0m\u001b[0mtable\u001b[0m\u001b[0;34m,\u001b[0m \u001b[0mlimit\u001b[0m\u001b[0;34m)\u001b[0m\u001b[0;34m\u001b[0m\u001b[0;34m\u001b[0m\u001b[0m\n\u001b[0m\u001b[1;32m    550\u001b[0m     \u001b[0mbuf\u001b[0m \u001b[0;34m=\u001b[0m \u001b[0mMemorySource\u001b[0m\u001b[0;34m(\u001b[0m\u001b[0;34m)\u001b[0m\u001b[0;34m\u001b[0m\u001b[0;34m\u001b[0m\u001b[0m\n\u001b[1;32m    551\u001b[0m     tohtml(table, buf, encoding=encoding, index_header=index_header,\n",
      "\u001b[0;32m/usr/local/lib/python3.7/site-packages/petl-1.2.0-py3.7.egg/petl/util/vis.py\u001b[0m in \u001b[0;36m_vis_overflow\u001b[0;34m(table, limit)\u001b[0m\n\u001b[1;32m    526\u001b[0m     \u001b[0;32mif\u001b[0m \u001b[0mlimit\u001b[0m\u001b[0;34m:\u001b[0m\u001b[0;34m\u001b[0m\u001b[0;34m\u001b[0m\u001b[0m\n\u001b[1;32m    527\u001b[0m         \u001b[0;31m# try reading one more than the limit, to see if there are more rows\u001b[0m\u001b[0;34m\u001b[0m\u001b[0;34m\u001b[0m\u001b[0;34m\u001b[0m\u001b[0m\n\u001b[0;32m--> 528\u001b[0;31m         \u001b[0mtable\u001b[0m \u001b[0;34m=\u001b[0m \u001b[0mlist\u001b[0m\u001b[0;34m(\u001b[0m\u001b[0mislice\u001b[0m\u001b[0;34m(\u001b[0m\u001b[0mtable\u001b[0m\u001b[0;34m,\u001b[0m \u001b[0;36m0\u001b[0m\u001b[0;34m,\u001b[0m \u001b[0mlimit\u001b[0m\u001b[0;34m+\u001b[0m\u001b[0;36m2\u001b[0m\u001b[0;34m)\u001b[0m\u001b[0;34m)\u001b[0m\u001b[0;34m\u001b[0m\u001b[0;34m\u001b[0m\u001b[0m\n\u001b[0m\u001b[1;32m    529\u001b[0m         \u001b[0;32mif\u001b[0m \u001b[0mlen\u001b[0m\u001b[0;34m(\u001b[0m\u001b[0mtable\u001b[0m\u001b[0;34m)\u001b[0m \u001b[0;34m>\u001b[0m \u001b[0mlimit\u001b[0m\u001b[0;34m+\u001b[0m\u001b[0;36m1\u001b[0m\u001b[0;34m:\u001b[0m\u001b[0;34m\u001b[0m\u001b[0;34m\u001b[0m\u001b[0m\n\u001b[1;32m    530\u001b[0m             \u001b[0moverflow\u001b[0m \u001b[0;34m=\u001b[0m \u001b[0;32mTrue\u001b[0m\u001b[0;34m\u001b[0m\u001b[0;34m\u001b[0m\u001b[0m\n",
      "\u001b[0;32m/usr/local/lib/python3.7/site-packages/petl-1.2.0-py3.7.egg/petl/transform/basics.py\u001b[0m in \u001b[0;36miteraddfield\u001b[0;34m(source, field, value, index)\u001b[0m\n\u001b[1;32m    542\u001b[0m         \u001b[0;31m# wrap rows as records if using calculated value\u001b[0m\u001b[0;34m\u001b[0m\u001b[0;34m\u001b[0m\u001b[0;34m\u001b[0m\u001b[0m\n\u001b[1;32m    543\u001b[0m         \u001b[0mit\u001b[0m \u001b[0;34m=\u001b[0m \u001b[0;34m(\u001b[0m\u001b[0mRecord\u001b[0m\u001b[0;34m(\u001b[0m\u001b[0mrow\u001b[0m\u001b[0;34m,\u001b[0m \u001b[0mflds\u001b[0m\u001b[0;34m)\u001b[0m \u001b[0;32mfor\u001b[0m \u001b[0mrow\u001b[0m \u001b[0;32min\u001b[0m \u001b[0mit\u001b[0m\u001b[0;34m)\u001b[0m\u001b[0;34m\u001b[0m\u001b[0;34m\u001b[0m\u001b[0m\n\u001b[0;32m--> 544\u001b[0;31m         \u001b[0;32mfor\u001b[0m \u001b[0mrow\u001b[0m \u001b[0;32min\u001b[0m \u001b[0mit\u001b[0m\u001b[0;34m:\u001b[0m\u001b[0;34m\u001b[0m\u001b[0;34m\u001b[0m\u001b[0m\n\u001b[0m\u001b[1;32m    545\u001b[0m             \u001b[0moutrow\u001b[0m \u001b[0;34m=\u001b[0m \u001b[0mlist\u001b[0m\u001b[0;34m(\u001b[0m\u001b[0mrow\u001b[0m\u001b[0;34m)\u001b[0m\u001b[0;34m\u001b[0m\u001b[0;34m\u001b[0m\u001b[0m\n\u001b[1;32m    546\u001b[0m             \u001b[0mv\u001b[0m \u001b[0;34m=\u001b[0m \u001b[0mvalue\u001b[0m\u001b[0;34m(\u001b[0m\u001b[0mrow\u001b[0m\u001b[0;34m)\u001b[0m\u001b[0;34m\u001b[0m\u001b[0;34m\u001b[0m\u001b[0m\n",
      "\u001b[0;32m/usr/local/lib/python3.7/site-packages/petl-1.2.0-py3.7.egg/petl/transform/basics.py\u001b[0m in \u001b[0;36m<genexpr>\u001b[0;34m(.0)\u001b[0m\n\u001b[1;32m    541\u001b[0m     \u001b[0;32mif\u001b[0m \u001b[0mcallable\u001b[0m\u001b[0;34m(\u001b[0m\u001b[0mvalue\u001b[0m\u001b[0;34m)\u001b[0m\u001b[0;34m:\u001b[0m\u001b[0;34m\u001b[0m\u001b[0;34m\u001b[0m\u001b[0m\n\u001b[1;32m    542\u001b[0m         \u001b[0;31m# wrap rows as records if using calculated value\u001b[0m\u001b[0;34m\u001b[0m\u001b[0;34m\u001b[0m\u001b[0;34m\u001b[0m\u001b[0m\n\u001b[0;32m--> 543\u001b[0;31m         \u001b[0mit\u001b[0m \u001b[0;34m=\u001b[0m \u001b[0;34m(\u001b[0m\u001b[0mRecord\u001b[0m\u001b[0;34m(\u001b[0m\u001b[0mrow\u001b[0m\u001b[0;34m,\u001b[0m \u001b[0mflds\u001b[0m\u001b[0;34m)\u001b[0m \u001b[0;32mfor\u001b[0m \u001b[0mrow\u001b[0m \u001b[0;32min\u001b[0m \u001b[0mit\u001b[0m\u001b[0;34m)\u001b[0m\u001b[0;34m\u001b[0m\u001b[0;34m\u001b[0m\u001b[0m\n\u001b[0m\u001b[1;32m    544\u001b[0m         \u001b[0;32mfor\u001b[0m \u001b[0mrow\u001b[0m \u001b[0;32min\u001b[0m \u001b[0mit\u001b[0m\u001b[0;34m:\u001b[0m\u001b[0;34m\u001b[0m\u001b[0;34m\u001b[0m\u001b[0m\n\u001b[1;32m    545\u001b[0m             \u001b[0moutrow\u001b[0m \u001b[0;34m=\u001b[0m \u001b[0mlist\u001b[0m\u001b[0;34m(\u001b[0m\u001b[0mrow\u001b[0m\u001b[0;34m)\u001b[0m\u001b[0;34m\u001b[0m\u001b[0;34m\u001b[0m\u001b[0m\n",
      "\u001b[0;32m/usr/local/lib/python3.7/site-packages/petl-1.2.0-py3.7.egg/petl/transform/basics.py\u001b[0m in \u001b[0;36miterstack\u001b[0;34m(sources, missing, trim, pad)\u001b[0m\n\u001b[1;32m    457\u001b[0m     \u001b[0;32myield\u001b[0m \u001b[0mtuple\u001b[0m\u001b[0;34m(\u001b[0m\u001b[0mhdr\u001b[0m\u001b[0;34m)\u001b[0m\u001b[0;34m\u001b[0m\u001b[0;34m\u001b[0m\u001b[0m\n\u001b[1;32m    458\u001b[0m     \u001b[0;32mfor\u001b[0m \u001b[0mit\u001b[0m \u001b[0;32min\u001b[0m \u001b[0mits\u001b[0m\u001b[0;34m:\u001b[0m\u001b[0;34m\u001b[0m\u001b[0;34m\u001b[0m\u001b[0m\n\u001b[0;32m--> 459\u001b[0;31m         \u001b[0;32mfor\u001b[0m \u001b[0mrow\u001b[0m \u001b[0;32min\u001b[0m \u001b[0mit\u001b[0m\u001b[0;34m:\u001b[0m\u001b[0;34m\u001b[0m\u001b[0;34m\u001b[0m\u001b[0m\n\u001b[0m\u001b[1;32m    460\u001b[0m             \u001b[0moutrow\u001b[0m \u001b[0;34m=\u001b[0m \u001b[0mtuple\u001b[0m\u001b[0;34m(\u001b[0m\u001b[0mrow\u001b[0m\u001b[0;34m)\u001b[0m\u001b[0;34m\u001b[0m\u001b[0;34m\u001b[0m\u001b[0m\n\u001b[1;32m    461\u001b[0m             \u001b[0;32mif\u001b[0m \u001b[0mtrim\u001b[0m\u001b[0;34m:\u001b[0m\u001b[0;34m\u001b[0m\u001b[0;34m\u001b[0m\u001b[0m\n",
      "\u001b[0;32m/usr/local/lib/python3.7/site-packages/petl-1.2.0-py3.7.egg/petl/transform/basics.py\u001b[0m in \u001b[0;36miteraddfield\u001b[0;34m(source, field, value, index)\u001b[0m\n\u001b[1;32m    542\u001b[0m         \u001b[0;31m# wrap rows as records if using calculated value\u001b[0m\u001b[0;34m\u001b[0m\u001b[0;34m\u001b[0m\u001b[0;34m\u001b[0m\u001b[0m\n\u001b[1;32m    543\u001b[0m         \u001b[0mit\u001b[0m \u001b[0;34m=\u001b[0m \u001b[0;34m(\u001b[0m\u001b[0mRecord\u001b[0m\u001b[0;34m(\u001b[0m\u001b[0mrow\u001b[0m\u001b[0;34m,\u001b[0m \u001b[0mflds\u001b[0m\u001b[0;34m)\u001b[0m \u001b[0;32mfor\u001b[0m \u001b[0mrow\u001b[0m \u001b[0;32min\u001b[0m \u001b[0mit\u001b[0m\u001b[0;34m)\u001b[0m\u001b[0;34m\u001b[0m\u001b[0;34m\u001b[0m\u001b[0m\n\u001b[0;32m--> 544\u001b[0;31m         \u001b[0;32mfor\u001b[0m \u001b[0mrow\u001b[0m \u001b[0;32min\u001b[0m \u001b[0mit\u001b[0m\u001b[0;34m:\u001b[0m\u001b[0;34m\u001b[0m\u001b[0;34m\u001b[0m\u001b[0m\n\u001b[0m\u001b[1;32m    545\u001b[0m             \u001b[0moutrow\u001b[0m \u001b[0;34m=\u001b[0m \u001b[0mlist\u001b[0m\u001b[0;34m(\u001b[0m\u001b[0mrow\u001b[0m\u001b[0;34m)\u001b[0m\u001b[0;34m\u001b[0m\u001b[0;34m\u001b[0m\u001b[0m\n\u001b[1;32m    546\u001b[0m             \u001b[0mv\u001b[0m \u001b[0;34m=\u001b[0m \u001b[0mvalue\u001b[0m\u001b[0;34m(\u001b[0m\u001b[0mrow\u001b[0m\u001b[0;34m)\u001b[0m\u001b[0;34m\u001b[0m\u001b[0;34m\u001b[0m\u001b[0m\n",
      "\u001b[0;32m/usr/local/lib/python3.7/site-packages/petl-1.2.0-py3.7.egg/petl/transform/basics.py\u001b[0m in \u001b[0;36m<genexpr>\u001b[0;34m(.0)\u001b[0m\n\u001b[1;32m    541\u001b[0m     \u001b[0;32mif\u001b[0m \u001b[0mcallable\u001b[0m\u001b[0;34m(\u001b[0m\u001b[0mvalue\u001b[0m\u001b[0;34m)\u001b[0m\u001b[0;34m:\u001b[0m\u001b[0;34m\u001b[0m\u001b[0;34m\u001b[0m\u001b[0m\n\u001b[1;32m    542\u001b[0m         \u001b[0;31m# wrap rows as records if using calculated value\u001b[0m\u001b[0;34m\u001b[0m\u001b[0;34m\u001b[0m\u001b[0;34m\u001b[0m\u001b[0m\n\u001b[0;32m--> 543\u001b[0;31m         \u001b[0mit\u001b[0m \u001b[0;34m=\u001b[0m \u001b[0;34m(\u001b[0m\u001b[0mRecord\u001b[0m\u001b[0;34m(\u001b[0m\u001b[0mrow\u001b[0m\u001b[0;34m,\u001b[0m \u001b[0mflds\u001b[0m\u001b[0;34m)\u001b[0m \u001b[0;32mfor\u001b[0m \u001b[0mrow\u001b[0m \u001b[0;32min\u001b[0m \u001b[0mit\u001b[0m\u001b[0;34m)\u001b[0m\u001b[0;34m\u001b[0m\u001b[0;34m\u001b[0m\u001b[0m\n\u001b[0m\u001b[1;32m    544\u001b[0m         \u001b[0;32mfor\u001b[0m \u001b[0mrow\u001b[0m \u001b[0;32min\u001b[0m \u001b[0mit\u001b[0m\u001b[0;34m:\u001b[0m\u001b[0;34m\u001b[0m\u001b[0;34m\u001b[0m\u001b[0m\n\u001b[1;32m    545\u001b[0m             \u001b[0moutrow\u001b[0m \u001b[0;34m=\u001b[0m \u001b[0mlist\u001b[0m\u001b[0;34m(\u001b[0m\u001b[0mrow\u001b[0m\u001b[0;34m)\u001b[0m\u001b[0;34m\u001b[0m\u001b[0;34m\u001b[0m\u001b[0m\n",
      "\u001b[0;32m/usr/local/lib/python3.7/site-packages/petl-1.2.0-py3.7.egg/petl/transform/basics.py\u001b[0m in \u001b[0;36miterstack\u001b[0;34m(sources, missing, trim, pad)\u001b[0m\n\u001b[1;32m    457\u001b[0m     \u001b[0;32myield\u001b[0m \u001b[0mtuple\u001b[0m\u001b[0;34m(\u001b[0m\u001b[0mhdr\u001b[0m\u001b[0;34m)\u001b[0m\u001b[0;34m\u001b[0m\u001b[0;34m\u001b[0m\u001b[0m\n\u001b[1;32m    458\u001b[0m     \u001b[0;32mfor\u001b[0m \u001b[0mit\u001b[0m \u001b[0;32min\u001b[0m \u001b[0mits\u001b[0m\u001b[0;34m:\u001b[0m\u001b[0;34m\u001b[0m\u001b[0;34m\u001b[0m\u001b[0m\n\u001b[0;32m--> 459\u001b[0;31m         \u001b[0;32mfor\u001b[0m \u001b[0mrow\u001b[0m \u001b[0;32min\u001b[0m \u001b[0mit\u001b[0m\u001b[0;34m:\u001b[0m\u001b[0;34m\u001b[0m\u001b[0;34m\u001b[0m\u001b[0m\n\u001b[0m\u001b[1;32m    460\u001b[0m             \u001b[0moutrow\u001b[0m \u001b[0;34m=\u001b[0m \u001b[0mtuple\u001b[0m\u001b[0;34m(\u001b[0m\u001b[0mrow\u001b[0m\u001b[0;34m)\u001b[0m\u001b[0;34m\u001b[0m\u001b[0;34m\u001b[0m\u001b[0m\n\u001b[1;32m    461\u001b[0m             \u001b[0;32mif\u001b[0m \u001b[0mtrim\u001b[0m\u001b[0;34m:\u001b[0m\u001b[0;34m\u001b[0m\u001b[0;34m\u001b[0m\u001b[0m\n",
      "\u001b[0;32m/usr/local/lib/python3.7/site-packages/petl-1.2.0-py3.7.egg/petl/transform/basics.py\u001b[0m in \u001b[0;36miteraddfield\u001b[0;34m(source, field, value, index)\u001b[0m\n\u001b[1;32m    544\u001b[0m         \u001b[0;32mfor\u001b[0m \u001b[0mrow\u001b[0m \u001b[0;32min\u001b[0m \u001b[0mit\u001b[0m\u001b[0;34m:\u001b[0m\u001b[0;34m\u001b[0m\u001b[0;34m\u001b[0m\u001b[0m\n\u001b[1;32m    545\u001b[0m             \u001b[0moutrow\u001b[0m \u001b[0;34m=\u001b[0m \u001b[0mlist\u001b[0m\u001b[0;34m(\u001b[0m\u001b[0mrow\u001b[0m\u001b[0;34m)\u001b[0m\u001b[0;34m\u001b[0m\u001b[0;34m\u001b[0m\u001b[0m\n\u001b[0;32m--> 546\u001b[0;31m             \u001b[0mv\u001b[0m \u001b[0;34m=\u001b[0m \u001b[0mvalue\u001b[0m\u001b[0;34m(\u001b[0m\u001b[0mrow\u001b[0m\u001b[0;34m)\u001b[0m\u001b[0;34m\u001b[0m\u001b[0;34m\u001b[0m\u001b[0m\n\u001b[0m\u001b[1;32m    547\u001b[0m             \u001b[0moutrow\u001b[0m\u001b[0;34m.\u001b[0m\u001b[0minsert\u001b[0m\u001b[0;34m(\u001b[0m\u001b[0mindex\u001b[0m\u001b[0;34m,\u001b[0m \u001b[0mv\u001b[0m\u001b[0;34m)\u001b[0m\u001b[0;34m\u001b[0m\u001b[0;34m\u001b[0m\u001b[0m\n\u001b[1;32m    548\u001b[0m             \u001b[0;32myield\u001b[0m \u001b[0mtuple\u001b[0m\u001b[0;34m(\u001b[0m\u001b[0moutrow\u001b[0m\u001b[0;34m)\u001b[0m\u001b[0;34m\u001b[0m\u001b[0;34m\u001b[0m\u001b[0m\n",
      "\u001b[0;32m<ipython-input-142-92964514e4df>\u001b[0m in \u001b[0;36m<lambda>\u001b[0;34m(v)\u001b[0m\n\u001b[1;32m      1\u001b[0m test_v4.add_column(\n\u001b[1;32m      2\u001b[0m     \u001b[0;34m'action_date_v6'\u001b[0m\u001b[0;34m,\u001b[0m\u001b[0;34m\u001b[0m\u001b[0;34m\u001b[0m\u001b[0m\n\u001b[0;32m----> 3\u001b[0;31m     \u001b[0;32mlambda\u001b[0m \u001b[0mv\u001b[0m\u001b[0;34m:\u001b[0m \u001b[0mdatetime\u001b[0m\u001b[0;34m.\u001b[0m\u001b[0mstrptime\u001b[0m\u001b[0;34m(\u001b[0m\u001b[0mtest_v4\u001b[0m\u001b[0;34m[\u001b[0m\u001b[0;34m'action_date'\u001b[0m\u001b[0;34m]\u001b[0m\u001b[0;34m[\u001b[0m\u001b[0mv\u001b[0m\u001b[0;34m]\u001b[0m\u001b[0;34m,\u001b[0m \u001b[0;34m'%Y-%m-%d %H:%M:%S'\u001b[0m\u001b[0;34m)\u001b[0m\u001b[0;34m.\u001b[0m\u001b[0misoformat\u001b[0m\u001b[0;34m(\u001b[0m\u001b[0;34m)\u001b[0m\u001b[0;34m\u001b[0m\u001b[0;34m\u001b[0m\u001b[0m\n\u001b[0m\u001b[1;32m      4\u001b[0m )\n",
      "\u001b[0;32m/usr/local/lib/python3.7/site-packages/parsons/etl/table.py\u001b[0m in \u001b[0;36m__getitem__\u001b[0;34m(self, index)\u001b[0m\n\u001b[1;32m     75\u001b[0m         \u001b[0;32melif\u001b[0m \u001b[0misinstance\u001b[0m\u001b[0;34m(\u001b[0m\u001b[0mindex\u001b[0m\u001b[0;34m,\u001b[0m \u001b[0mstr\u001b[0m\u001b[0;34m)\u001b[0m\u001b[0;34m:\u001b[0m\u001b[0;34m\u001b[0m\u001b[0;34m\u001b[0m\u001b[0m\n\u001b[1;32m     76\u001b[0m \u001b[0;34m\u001b[0m\u001b[0m\n\u001b[0;32m---> 77\u001b[0;31m             \u001b[0;32mreturn\u001b[0m \u001b[0mself\u001b[0m\u001b[0;34m.\u001b[0m\u001b[0mcolumn_data\u001b[0m\u001b[0;34m(\u001b[0m\u001b[0mindex\u001b[0m\u001b[0;34m)\u001b[0m\u001b[0;34m\u001b[0m\u001b[0;34m\u001b[0m\u001b[0m\n\u001b[0m\u001b[1;32m     78\u001b[0m \u001b[0;34m\u001b[0m\u001b[0m\n\u001b[1;32m     79\u001b[0m         \u001b[0;32melse\u001b[0m\u001b[0;34m:\u001b[0m\u001b[0;34m\u001b[0m\u001b[0;34m\u001b[0m\u001b[0m\n",
      "\u001b[0;32m/usr/local/lib/python3.7/site-packages/parsons/etl/table.py\u001b[0m in \u001b[0;36mcolumn_data\u001b[0;34m(self, column_name)\u001b[0m\n\u001b[1;32m    169\u001b[0m \u001b[0;34m\u001b[0m\u001b[0m\n\u001b[1;32m    170\u001b[0m         \u001b[0;32mif\u001b[0m \u001b[0mcolumn_name\u001b[0m \u001b[0;32min\u001b[0m \u001b[0mself\u001b[0m\u001b[0;34m.\u001b[0m\u001b[0mcolumns\u001b[0m\u001b[0;34m:\u001b[0m\u001b[0;34m\u001b[0m\u001b[0;34m\u001b[0m\u001b[0m\n\u001b[0;32m--> 171\u001b[0;31m             \u001b[0;32mreturn\u001b[0m \u001b[0mlist\u001b[0m\u001b[0;34m(\u001b[0m\u001b[0mself\u001b[0m\u001b[0;34m.\u001b[0m\u001b[0mtable\u001b[0m\u001b[0;34m[\u001b[0m\u001b[0mcolumn_name\u001b[0m\u001b[0;34m]\u001b[0m\u001b[0;34m)\u001b[0m\u001b[0;34m\u001b[0m\u001b[0;34m\u001b[0m\u001b[0m\n\u001b[0m\u001b[1;32m    172\u001b[0m \u001b[0;34m\u001b[0m\u001b[0m\n\u001b[1;32m    173\u001b[0m         \u001b[0;32melse\u001b[0m\u001b[0;34m:\u001b[0m\u001b[0;34m\u001b[0m\u001b[0;34m\u001b[0m\u001b[0m\n",
      "\u001b[0;32m/usr/local/lib/python3.7/site-packages/petl-1.2.0-py3.7.egg/petl/util/base.py\u001b[0m in \u001b[0;36m__len__\u001b[0;34m(self)\u001b[0m\n\u001b[1;32m     26\u001b[0m \u001b[0;34m\u001b[0m\u001b[0m\n\u001b[1;32m     27\u001b[0m     \u001b[0;32mdef\u001b[0m \u001b[0m__len__\u001b[0m\u001b[0;34m(\u001b[0m\u001b[0mself\u001b[0m\u001b[0;34m)\u001b[0m\u001b[0;34m:\u001b[0m\u001b[0;34m\u001b[0m\u001b[0;34m\u001b[0m\u001b[0m\n\u001b[0;32m---> 28\u001b[0;31m         \u001b[0;32mreturn\u001b[0m \u001b[0msum\u001b[0m\u001b[0;34m(\u001b[0m\u001b[0;36m1\u001b[0m \u001b[0;32mfor\u001b[0m \u001b[0m_\u001b[0m \u001b[0;32min\u001b[0m \u001b[0mself\u001b[0m\u001b[0;34m)\u001b[0m\u001b[0;34m\u001b[0m\u001b[0;34m\u001b[0m\u001b[0m\n\u001b[0m\u001b[1;32m     29\u001b[0m \u001b[0;34m\u001b[0m\u001b[0m\n\u001b[1;32m     30\u001b[0m     \u001b[0;32mdef\u001b[0m \u001b[0m__getitem__\u001b[0m\u001b[0;34m(\u001b[0m\u001b[0mself\u001b[0m\u001b[0;34m,\u001b[0m \u001b[0mitem\u001b[0m\u001b[0;34m)\u001b[0m\u001b[0;34m:\u001b[0m\u001b[0;34m\u001b[0m\u001b[0;34m\u001b[0m\u001b[0m\n",
      "\u001b[0;32m/usr/local/lib/python3.7/site-packages/petl-1.2.0-py3.7.egg/petl/util/base.py\u001b[0m in \u001b[0;36m<genexpr>\u001b[0;34m(.0)\u001b[0m\n\u001b[1;32m     26\u001b[0m \u001b[0;34m\u001b[0m\u001b[0m\n\u001b[1;32m     27\u001b[0m     \u001b[0;32mdef\u001b[0m \u001b[0m__len__\u001b[0m\u001b[0;34m(\u001b[0m\u001b[0mself\u001b[0m\u001b[0;34m)\u001b[0m\u001b[0;34m:\u001b[0m\u001b[0;34m\u001b[0m\u001b[0;34m\u001b[0m\u001b[0m\n\u001b[0;32m---> 28\u001b[0;31m         \u001b[0;32mreturn\u001b[0m \u001b[0msum\u001b[0m\u001b[0;34m(\u001b[0m\u001b[0;36m1\u001b[0m \u001b[0;32mfor\u001b[0m \u001b[0m_\u001b[0m \u001b[0;32min\u001b[0m \u001b[0mself\u001b[0m\u001b[0;34m)\u001b[0m\u001b[0;34m\u001b[0m\u001b[0;34m\u001b[0m\u001b[0m\n\u001b[0m\u001b[1;32m     29\u001b[0m \u001b[0;34m\u001b[0m\u001b[0m\n\u001b[1;32m     30\u001b[0m     \u001b[0;32mdef\u001b[0m \u001b[0m__getitem__\u001b[0m\u001b[0;34m(\u001b[0m\u001b[0mself\u001b[0m\u001b[0;34m,\u001b[0m \u001b[0mitem\u001b[0m\u001b[0;34m)\u001b[0m\u001b[0;34m:\u001b[0m\u001b[0;34m\u001b[0m\u001b[0;34m\u001b[0m\u001b[0m\n",
      "\u001b[0;32m/usr/local/lib/python3.7/site-packages/petl-1.2.0-py3.7.egg/petl/util/base.py\u001b[0m in \u001b[0;36mitervalues\u001b[0;34m(table, field, **kwargs)\u001b[0m\n\u001b[1;32m    250\u001b[0m     \u001b[0;32massert\u001b[0m \u001b[0mlen\u001b[0m\u001b[0;34m(\u001b[0m\u001b[0mindices\u001b[0m\u001b[0;34m)\u001b[0m \u001b[0;34m>\u001b[0m \u001b[0;36m0\u001b[0m\u001b[0;34m,\u001b[0m \u001b[0;34m'no field selected'\u001b[0m\u001b[0;34m\u001b[0m\u001b[0;34m\u001b[0m\u001b[0m\n\u001b[1;32m    251\u001b[0m     \u001b[0mgetvalue\u001b[0m \u001b[0;34m=\u001b[0m \u001b[0moperator\u001b[0m\u001b[0;34m.\u001b[0m\u001b[0mitemgetter\u001b[0m\u001b[0;34m(\u001b[0m\u001b[0;34m*\u001b[0m\u001b[0mindices\u001b[0m\u001b[0;34m)\u001b[0m\u001b[0;34m\u001b[0m\u001b[0;34m\u001b[0m\u001b[0m\n\u001b[0;32m--> 252\u001b[0;31m     \u001b[0;32mfor\u001b[0m \u001b[0mrow\u001b[0m \u001b[0;32min\u001b[0m \u001b[0mit\u001b[0m\u001b[0;34m:\u001b[0m\u001b[0;34m\u001b[0m\u001b[0;34m\u001b[0m\u001b[0m\n\u001b[0m\u001b[1;32m    253\u001b[0m         \u001b[0;32mtry\u001b[0m\u001b[0;34m:\u001b[0m\u001b[0;34m\u001b[0m\u001b[0;34m\u001b[0m\u001b[0m\n\u001b[1;32m    254\u001b[0m             \u001b[0mvalue\u001b[0m \u001b[0;34m=\u001b[0m \u001b[0mgetvalue\u001b[0m\u001b[0;34m(\u001b[0m\u001b[0mrow\u001b[0m\u001b[0;34m)\u001b[0m\u001b[0;34m\u001b[0m\u001b[0;34m\u001b[0m\u001b[0m\n",
      "... last 13 frames repeated, from the frame below ...\n",
      "\u001b[0;32m/usr/local/lib/python3.7/site-packages/petl-1.2.0-py3.7.egg/petl/transform/basics.py\u001b[0m in \u001b[0;36miteraddfield\u001b[0;34m(source, field, value, index)\u001b[0m\n\u001b[1;32m    542\u001b[0m         \u001b[0;31m# wrap rows as records if using calculated value\u001b[0m\u001b[0;34m\u001b[0m\u001b[0;34m\u001b[0m\u001b[0;34m\u001b[0m\u001b[0m\n\u001b[1;32m    543\u001b[0m         \u001b[0mit\u001b[0m \u001b[0;34m=\u001b[0m \u001b[0;34m(\u001b[0m\u001b[0mRecord\u001b[0m\u001b[0;34m(\u001b[0m\u001b[0mrow\u001b[0m\u001b[0;34m,\u001b[0m \u001b[0mflds\u001b[0m\u001b[0;34m)\u001b[0m \u001b[0;32mfor\u001b[0m \u001b[0mrow\u001b[0m \u001b[0;32min\u001b[0m \u001b[0mit\u001b[0m\u001b[0;34m)\u001b[0m\u001b[0;34m\u001b[0m\u001b[0;34m\u001b[0m\u001b[0m\n\u001b[0;32m--> 544\u001b[0;31m         \u001b[0;32mfor\u001b[0m \u001b[0mrow\u001b[0m \u001b[0;32min\u001b[0m \u001b[0mit\u001b[0m\u001b[0;34m:\u001b[0m\u001b[0;34m\u001b[0m\u001b[0;34m\u001b[0m\u001b[0m\n\u001b[0m\u001b[1;32m    545\u001b[0m             \u001b[0moutrow\u001b[0m \u001b[0;34m=\u001b[0m \u001b[0mlist\u001b[0m\u001b[0;34m(\u001b[0m\u001b[0mrow\u001b[0m\u001b[0;34m)\u001b[0m\u001b[0;34m\u001b[0m\u001b[0;34m\u001b[0m\u001b[0m\n\u001b[1;32m    546\u001b[0m             \u001b[0mv\u001b[0m \u001b[0;34m=\u001b[0m \u001b[0mvalue\u001b[0m\u001b[0;34m(\u001b[0m\u001b[0mrow\u001b[0m\u001b[0;34m)\u001b[0m\u001b[0;34m\u001b[0m\u001b[0;34m\u001b[0m\u001b[0m\n",
      "\u001b[0;31mRecursionError\u001b[0m: maximum recursion depth exceeded while calling a Python object"
     ]
    }
   ],
   "source": [
    "test_v4"
   ]
  },
  {
   "cell_type": "code",
   "execution_count": 46,
   "metadata": {},
   "outputs": [
    {
     "name": "stderr",
     "output_type": "stream",
     "text": [
      "INFO 1 new records found. Inserting into table\n",
      "INFO Working on outreach_id=10215647\n",
      "people INFO Finding Justin  Leaca .\n",
      "INFO Found in EveryAction as 102021797...\n",
      "survey_questions INFO Applying survey question 163740 to vanid 102021797\n",
      "INFO Couldn't apply survey response\n",
      "events INFO Found 1 events.\n",
      "INFO Couldn't create event signup\n",
      "INFO Finished the loop! Now to load the work we've done into txop_newmode.calls_to_ea_log\n"
     ]
    },
    {
     "ename": "ParamValidationError",
     "evalue": "Parameter validation failed:\nInvalid bucket name \"parsons-tmc export\": Bucket name must match the regex \"^[a-zA-Z0-9.\\-_]{1,255}$\"",
     "output_type": "error",
     "traceback": [
      "\u001b[0;31m---------------------------------------------------------------------------\u001b[0m",
      "\u001b[0;31mParamValidationError\u001b[0m                      Traceback (most recent call last)",
      "\u001b[0;32m<ipython-input-46-ac209f84032a>\u001b[0m in \u001b[0;36m<module>\u001b[0;34m\u001b[0m\n\u001b[1;32m     69\u001b[0m \u001b[0;34m\u001b[0m\u001b[0m\n\u001b[1;32m     70\u001b[0m     \u001b[0mlogger\u001b[0m\u001b[0;34m.\u001b[0m\u001b[0minfo\u001b[0m\u001b[0;34m(\u001b[0m\u001b[0;34mf\"Finished the loop! Now to load the work we've done into {LOG_TABLE}\"\u001b[0m\u001b[0;34m)\u001b[0m\u001b[0;34m\u001b[0m\u001b[0;34m\u001b[0m\u001b[0m\n\u001b[0;32m---> 71\u001b[0;31m     \u001b[0mTable\u001b[0m\u001b[0;34m(\u001b[0m\u001b[0mloaded\u001b[0m\u001b[0;34m)\u001b[0m\u001b[0;34m.\u001b[0m\u001b[0mto_redshift\u001b[0m\u001b[0;34m(\u001b[0m\u001b[0mLOG_TABLE\u001b[0m\u001b[0;34m,\u001b[0m\u001b[0mif_exists\u001b[0m\u001b[0;34m=\u001b[0m\u001b[0;34m'append'\u001b[0m\u001b[0;34m)\u001b[0m\u001b[0;34m\u001b[0m\u001b[0;34m\u001b[0m\u001b[0m\n\u001b[0m\u001b[1;32m     72\u001b[0m \u001b[0;32melse\u001b[0m\u001b[0;34m:\u001b[0m\u001b[0;34m\u001b[0m\u001b[0;34m\u001b[0m\u001b[0m\n\u001b[1;32m     73\u001b[0m   \u001b[0;31m# if there were 0 records from initial query\u001b[0m\u001b[0;34m\u001b[0m\u001b[0;34m\u001b[0m\u001b[0;34m\u001b[0m\u001b[0m\n",
      "\u001b[0;32m/usr/local/lib/python3.7/site-packages/parsons/etl/tofrom.py\u001b[0m in \u001b[0;36mto_redshift\u001b[0;34m(self, table_name, username, password, host, db, port, **copy_args)\u001b[0m\n\u001b[1;32m    423\u001b[0m         \u001b[0;32mfrom\u001b[0m \u001b[0mparsons\u001b[0m\u001b[0;34m.\u001b[0m\u001b[0mdatabases\u001b[0m\u001b[0;34m.\u001b[0m\u001b[0mredshift\u001b[0m \u001b[0;32mimport\u001b[0m \u001b[0mRedshift\u001b[0m\u001b[0;34m\u001b[0m\u001b[0;34m\u001b[0m\u001b[0m\n\u001b[1;32m    424\u001b[0m         \u001b[0mrs\u001b[0m \u001b[0;34m=\u001b[0m \u001b[0mRedshift\u001b[0m\u001b[0;34m(\u001b[0m\u001b[0musername\u001b[0m\u001b[0;34m=\u001b[0m\u001b[0musername\u001b[0m\u001b[0;34m,\u001b[0m \u001b[0mpassword\u001b[0m\u001b[0;34m=\u001b[0m\u001b[0mpassword\u001b[0m\u001b[0;34m,\u001b[0m \u001b[0mhost\u001b[0m\u001b[0;34m=\u001b[0m\u001b[0mhost\u001b[0m\u001b[0;34m,\u001b[0m \u001b[0mdb\u001b[0m\u001b[0;34m=\u001b[0m\u001b[0mdb\u001b[0m\u001b[0;34m,\u001b[0m \u001b[0mport\u001b[0m\u001b[0;34m=\u001b[0m\u001b[0mport\u001b[0m\u001b[0;34m)\u001b[0m\u001b[0;34m\u001b[0m\u001b[0;34m\u001b[0m\u001b[0m\n\u001b[0;32m--> 425\u001b[0;31m         \u001b[0mrs\u001b[0m\u001b[0;34m.\u001b[0m\u001b[0mcopy\u001b[0m\u001b[0;34m(\u001b[0m\u001b[0mself\u001b[0m\u001b[0;34m,\u001b[0m \u001b[0mtable_name\u001b[0m\u001b[0;34m,\u001b[0m \u001b[0;34m**\u001b[0m\u001b[0mcopy_args\u001b[0m\u001b[0;34m)\u001b[0m\u001b[0;34m\u001b[0m\u001b[0;34m\u001b[0m\u001b[0m\n\u001b[0m\u001b[1;32m    426\u001b[0m \u001b[0;34m\u001b[0m\u001b[0m\n\u001b[1;32m    427\u001b[0m     def to_postgres(self, table_name, username=None, password=None, host=None,\n",
      "\u001b[0;32m/usr/local/lib/python3.7/site-packages/parsons/databases/redshift/redshift.py\u001b[0m in \u001b[0;36mcopy\u001b[0;34m(self, tbl, table_name, if_exists, max_errors, distkey, sortkey, padding, statupdate, compupdate, acceptanydate, emptyasnull, blanksasnull, nullas, acceptinvchars, dateformat, timeformat, varchar_max, truncatecolumns, columntypes, specifycols, alter_table, aws_access_key_id, aws_secret_access_key, iam_role, cleanup_s3_file, template_table, temp_bucket_region)\u001b[0m\n\u001b[1;32m    496\u001b[0m             \u001b[0;31m# Upload the table to S3\u001b[0m\u001b[0;34m\u001b[0m\u001b[0;34m\u001b[0m\u001b[0;34m\u001b[0m\u001b[0m\n\u001b[1;32m    497\u001b[0m             key = self.temp_s3_copy(tbl, aws_access_key_id=aws_access_key_id,\n\u001b[0;32m--> 498\u001b[0;31m                                     aws_secret_access_key=aws_secret_access_key)\n\u001b[0m\u001b[1;32m    499\u001b[0m \u001b[0;34m\u001b[0m\u001b[0m\n\u001b[1;32m    500\u001b[0m             \u001b[0;32mtry\u001b[0m\u001b[0;34m:\u001b[0m\u001b[0;34m\u001b[0m\u001b[0;34m\u001b[0m\u001b[0m\n",
      "\u001b[0;32m/usr/local/lib/python3.7/site-packages/parsons/databases/redshift/rs_copy_table.py\u001b[0m in \u001b[0;36mtemp_s3_copy\u001b[0;34m(self, tbl, aws_access_key_id, aws_secret_access_key)\u001b[0m\n\u001b[1;32m    133\u001b[0m         \u001b[0mlocal_path\u001b[0m \u001b[0;34m=\u001b[0m \u001b[0mtbl\u001b[0m\u001b[0;34m.\u001b[0m\u001b[0mto_csv\u001b[0m\u001b[0;34m(\u001b[0m\u001b[0mtemp_file_compression\u001b[0m\u001b[0;34m=\u001b[0m\u001b[0;34m'gzip'\u001b[0m\u001b[0;34m)\u001b[0m\u001b[0;34m\u001b[0m\u001b[0;34m\u001b[0m\u001b[0m\n\u001b[1;32m    134\u001b[0m         \u001b[0;31m# Copy table to bucket\u001b[0m\u001b[0;34m\u001b[0m\u001b[0;34m\u001b[0m\u001b[0;34m\u001b[0m\u001b[0m\n\u001b[0;32m--> 135\u001b[0;31m         \u001b[0mself\u001b[0m\u001b[0;34m.\u001b[0m\u001b[0ms3\u001b[0m\u001b[0;34m.\u001b[0m\u001b[0mput_file\u001b[0m\u001b[0;34m(\u001b[0m\u001b[0mself\u001b[0m\u001b[0;34m.\u001b[0m\u001b[0ms3_temp_bucket\u001b[0m\u001b[0;34m,\u001b[0m \u001b[0mkey\u001b[0m\u001b[0;34m,\u001b[0m \u001b[0mlocal_path\u001b[0m\u001b[0;34m)\u001b[0m\u001b[0;34m\u001b[0m\u001b[0;34m\u001b[0m\u001b[0m\n\u001b[0m\u001b[1;32m    136\u001b[0m \u001b[0;34m\u001b[0m\u001b[0m\n\u001b[1;32m    137\u001b[0m         \u001b[0;32mreturn\u001b[0m \u001b[0mkey\u001b[0m\u001b[0;34m\u001b[0m\u001b[0;34m\u001b[0m\u001b[0m\n",
      "\u001b[0;32m/usr/local/lib/python3.7/site-packages/parsons/aws/s3.py\u001b[0m in \u001b[0;36mput_file\u001b[0;34m(self, bucket, key, local_path, acl, **kwargs)\u001b[0m\n\u001b[1;32m    232\u001b[0m         \"\"\"\n\u001b[1;32m    233\u001b[0m \u001b[0;34m\u001b[0m\u001b[0m\n\u001b[0;32m--> 234\u001b[0;31m         \u001b[0mself\u001b[0m\u001b[0;34m.\u001b[0m\u001b[0mclient\u001b[0m\u001b[0;34m.\u001b[0m\u001b[0mupload_file\u001b[0m\u001b[0;34m(\u001b[0m\u001b[0mlocal_path\u001b[0m\u001b[0;34m,\u001b[0m \u001b[0mbucket\u001b[0m\u001b[0;34m,\u001b[0m \u001b[0mkey\u001b[0m\u001b[0;34m,\u001b[0m \u001b[0mExtraArgs\u001b[0m\u001b[0;34m=\u001b[0m\u001b[0;34m{\u001b[0m\u001b[0;34m'ACL'\u001b[0m\u001b[0;34m:\u001b[0m \u001b[0macl\u001b[0m\u001b[0;34m,\u001b[0m \u001b[0;34m**\u001b[0m\u001b[0mkwargs\u001b[0m\u001b[0;34m}\u001b[0m\u001b[0;34m)\u001b[0m\u001b[0;34m\u001b[0m\u001b[0;34m\u001b[0m\u001b[0m\n\u001b[0m\u001b[1;32m    235\u001b[0m \u001b[0;34m\u001b[0m\u001b[0m\n\u001b[1;32m    236\u001b[0m     \u001b[0;32mdef\u001b[0m \u001b[0mremove_file\u001b[0m\u001b[0;34m(\u001b[0m\u001b[0mself\u001b[0m\u001b[0;34m,\u001b[0m \u001b[0mbucket\u001b[0m\u001b[0;34m,\u001b[0m \u001b[0mkey\u001b[0m\u001b[0;34m)\u001b[0m\u001b[0;34m:\u001b[0m\u001b[0;34m\u001b[0m\u001b[0;34m\u001b[0m\u001b[0m\n",
      "\u001b[0;32m/usr/local/lib/python3.7/site-packages/boto3-1.9.25-py3.7.egg/boto3/s3/inject.py\u001b[0m in \u001b[0;36mupload_file\u001b[0;34m(self, Filename, Bucket, Key, ExtraArgs, Callback, Config)\u001b[0m\n\u001b[1;32m    129\u001b[0m         return transfer.upload_file(\n\u001b[1;32m    130\u001b[0m             \u001b[0mfilename\u001b[0m\u001b[0;34m=\u001b[0m\u001b[0mFilename\u001b[0m\u001b[0;34m,\u001b[0m \u001b[0mbucket\u001b[0m\u001b[0;34m=\u001b[0m\u001b[0mBucket\u001b[0m\u001b[0;34m,\u001b[0m \u001b[0mkey\u001b[0m\u001b[0;34m=\u001b[0m\u001b[0mKey\u001b[0m\u001b[0;34m,\u001b[0m\u001b[0;34m\u001b[0m\u001b[0;34m\u001b[0m\u001b[0m\n\u001b[0;32m--> 131\u001b[0;31m             extra_args=ExtraArgs, callback=Callback)\n\u001b[0m\u001b[1;32m    132\u001b[0m \u001b[0;34m\u001b[0m\u001b[0m\n\u001b[1;32m    133\u001b[0m \u001b[0;34m\u001b[0m\u001b[0m\n",
      "\u001b[0;32m/usr/local/lib/python3.7/site-packages/boto3-1.9.25-py3.7.egg/boto3/s3/transfer.py\u001b[0m in \u001b[0;36mupload_file\u001b[0;34m(self, filename, bucket, key, callback, extra_args)\u001b[0m\n\u001b[1;32m    277\u001b[0m             filename, bucket, key, extra_args, subscribers)\n\u001b[1;32m    278\u001b[0m         \u001b[0;32mtry\u001b[0m\u001b[0;34m:\u001b[0m\u001b[0;34m\u001b[0m\u001b[0;34m\u001b[0m\u001b[0m\n\u001b[0;32m--> 279\u001b[0;31m             \u001b[0mfuture\u001b[0m\u001b[0;34m.\u001b[0m\u001b[0mresult\u001b[0m\u001b[0;34m(\u001b[0m\u001b[0;34m)\u001b[0m\u001b[0;34m\u001b[0m\u001b[0;34m\u001b[0m\u001b[0m\n\u001b[0m\u001b[1;32m    280\u001b[0m         \u001b[0;31m# If a client error was raised, add the backwards compatibility layer\u001b[0m\u001b[0;34m\u001b[0m\u001b[0;34m\u001b[0m\u001b[0;34m\u001b[0m\u001b[0m\n\u001b[1;32m    281\u001b[0m         \u001b[0;31m# that raises a S3UploadFailedError. These specific errors were only\u001b[0m\u001b[0;34m\u001b[0m\u001b[0;34m\u001b[0m\u001b[0;34m\u001b[0m\u001b[0m\n",
      "\u001b[0;32m/usr/local/lib/python3.7/site-packages/s3transfer-0.1.13-py3.7.egg/s3transfer/futures.py\u001b[0m in \u001b[0;36mresult\u001b[0;34m(self)\u001b[0m\n\u001b[1;32m     71\u001b[0m             \u001b[0;31m# however if a KeyboardInterrupt is raised we want want to exit\u001b[0m\u001b[0;34m\u001b[0m\u001b[0;34m\u001b[0m\u001b[0;34m\u001b[0m\u001b[0m\n\u001b[1;32m     72\u001b[0m             \u001b[0;31m# out of this and propogate the exception.\u001b[0m\u001b[0;34m\u001b[0m\u001b[0;34m\u001b[0m\u001b[0;34m\u001b[0m\u001b[0m\n\u001b[0;32m---> 73\u001b[0;31m             \u001b[0;32mreturn\u001b[0m \u001b[0mself\u001b[0m\u001b[0;34m.\u001b[0m\u001b[0m_coordinator\u001b[0m\u001b[0;34m.\u001b[0m\u001b[0mresult\u001b[0m\u001b[0;34m(\u001b[0m\u001b[0;34m)\u001b[0m\u001b[0;34m\u001b[0m\u001b[0;34m\u001b[0m\u001b[0m\n\u001b[0m\u001b[1;32m     74\u001b[0m         \u001b[0;32mexcept\u001b[0m \u001b[0mKeyboardInterrupt\u001b[0m \u001b[0;32mas\u001b[0m \u001b[0me\u001b[0m\u001b[0;34m:\u001b[0m\u001b[0;34m\u001b[0m\u001b[0;34m\u001b[0m\u001b[0m\n\u001b[1;32m     75\u001b[0m             \u001b[0mself\u001b[0m\u001b[0;34m.\u001b[0m\u001b[0mcancel\u001b[0m\u001b[0;34m(\u001b[0m\u001b[0;34m)\u001b[0m\u001b[0;34m\u001b[0m\u001b[0;34m\u001b[0m\u001b[0m\n",
      "\u001b[0;32m/usr/local/lib/python3.7/site-packages/s3transfer-0.1.13-py3.7.egg/s3transfer/futures.py\u001b[0m in \u001b[0;36mresult\u001b[0;34m(self)\u001b[0m\n\u001b[1;32m    231\u001b[0m         \u001b[0;31m# final result.\u001b[0m\u001b[0;34m\u001b[0m\u001b[0;34m\u001b[0m\u001b[0;34m\u001b[0m\u001b[0m\n\u001b[1;32m    232\u001b[0m         \u001b[0;32mif\u001b[0m \u001b[0mself\u001b[0m\u001b[0;34m.\u001b[0m\u001b[0m_exception\u001b[0m\u001b[0;34m:\u001b[0m\u001b[0;34m\u001b[0m\u001b[0;34m\u001b[0m\u001b[0m\n\u001b[0;32m--> 233\u001b[0;31m             \u001b[0;32mraise\u001b[0m \u001b[0mself\u001b[0m\u001b[0;34m.\u001b[0m\u001b[0m_exception\u001b[0m\u001b[0;34m\u001b[0m\u001b[0;34m\u001b[0m\u001b[0m\n\u001b[0m\u001b[1;32m    234\u001b[0m         \u001b[0;32mreturn\u001b[0m \u001b[0mself\u001b[0m\u001b[0;34m.\u001b[0m\u001b[0m_result\u001b[0m\u001b[0;34m\u001b[0m\u001b[0;34m\u001b[0m\u001b[0m\n\u001b[1;32m    235\u001b[0m \u001b[0;34m\u001b[0m\u001b[0m\n",
      "\u001b[0;32m/usr/local/lib/python3.7/site-packages/s3transfer-0.1.13-py3.7.egg/s3transfer/tasks.py\u001b[0m in \u001b[0;36m__call__\u001b[0;34m(self)\u001b[0m\n\u001b[1;32m    124\u001b[0m             \u001b[0;31m# main() method.\u001b[0m\u001b[0;34m\u001b[0m\u001b[0;34m\u001b[0m\u001b[0;34m\u001b[0m\u001b[0m\n\u001b[1;32m    125\u001b[0m             \u001b[0;32mif\u001b[0m \u001b[0;32mnot\u001b[0m \u001b[0mself\u001b[0m\u001b[0;34m.\u001b[0m\u001b[0m_transfer_coordinator\u001b[0m\u001b[0;34m.\u001b[0m\u001b[0mdone\u001b[0m\u001b[0;34m(\u001b[0m\u001b[0;34m)\u001b[0m\u001b[0;34m:\u001b[0m\u001b[0;34m\u001b[0m\u001b[0;34m\u001b[0m\u001b[0m\n\u001b[0;32m--> 126\u001b[0;31m                 \u001b[0;32mreturn\u001b[0m \u001b[0mself\u001b[0m\u001b[0;34m.\u001b[0m\u001b[0m_execute_main\u001b[0m\u001b[0;34m(\u001b[0m\u001b[0mkwargs\u001b[0m\u001b[0;34m)\u001b[0m\u001b[0;34m\u001b[0m\u001b[0;34m\u001b[0m\u001b[0m\n\u001b[0m\u001b[1;32m    127\u001b[0m         \u001b[0;32mexcept\u001b[0m \u001b[0mException\u001b[0m \u001b[0;32mas\u001b[0m \u001b[0me\u001b[0m\u001b[0;34m:\u001b[0m\u001b[0;34m\u001b[0m\u001b[0;34m\u001b[0m\u001b[0m\n\u001b[1;32m    128\u001b[0m             \u001b[0mself\u001b[0m\u001b[0;34m.\u001b[0m\u001b[0m_log_and_set_exception\u001b[0m\u001b[0;34m(\u001b[0m\u001b[0me\u001b[0m\u001b[0;34m)\u001b[0m\u001b[0;34m\u001b[0m\u001b[0;34m\u001b[0m\u001b[0m\n",
      "\u001b[0;32m/usr/local/lib/python3.7/site-packages/s3transfer-0.1.13-py3.7.egg/s3transfer/tasks.py\u001b[0m in \u001b[0;36m_execute_main\u001b[0;34m(self, kwargs)\u001b[0m\n\u001b[1;32m    148\u001b[0m         )\n\u001b[1;32m    149\u001b[0m \u001b[0;34m\u001b[0m\u001b[0m\n\u001b[0;32m--> 150\u001b[0;31m         \u001b[0mreturn_value\u001b[0m \u001b[0;34m=\u001b[0m \u001b[0mself\u001b[0m\u001b[0;34m.\u001b[0m\u001b[0m_main\u001b[0m\u001b[0;34m(\u001b[0m\u001b[0;34m**\u001b[0m\u001b[0mkwargs\u001b[0m\u001b[0;34m)\u001b[0m\u001b[0;34m\u001b[0m\u001b[0;34m\u001b[0m\u001b[0m\n\u001b[0m\u001b[1;32m    151\u001b[0m         \u001b[0;31m# If the task is the final task, then set the TransferFuture's\u001b[0m\u001b[0;34m\u001b[0m\u001b[0;34m\u001b[0m\u001b[0;34m\u001b[0m\u001b[0m\n\u001b[1;32m    152\u001b[0m         \u001b[0;31m# value to the return value from main().\u001b[0m\u001b[0;34m\u001b[0m\u001b[0;34m\u001b[0m\u001b[0;34m\u001b[0m\u001b[0m\n",
      "\u001b[0;32m/usr/local/lib/python3.7/site-packages/s3transfer-0.1.13-py3.7.egg/s3transfer/upload.py\u001b[0m in \u001b[0;36m_main\u001b[0;34m(self, client, fileobj, bucket, key, extra_args)\u001b[0m\n\u001b[1;32m    690\u001b[0m         \"\"\"\n\u001b[1;32m    691\u001b[0m         \u001b[0;32mwith\u001b[0m \u001b[0mfileobj\u001b[0m \u001b[0;32mas\u001b[0m \u001b[0mbody\u001b[0m\u001b[0;34m:\u001b[0m\u001b[0;34m\u001b[0m\u001b[0;34m\u001b[0m\u001b[0m\n\u001b[0;32m--> 692\u001b[0;31m             \u001b[0mclient\u001b[0m\u001b[0;34m.\u001b[0m\u001b[0mput_object\u001b[0m\u001b[0;34m(\u001b[0m\u001b[0mBucket\u001b[0m\u001b[0;34m=\u001b[0m\u001b[0mbucket\u001b[0m\u001b[0;34m,\u001b[0m \u001b[0mKey\u001b[0m\u001b[0;34m=\u001b[0m\u001b[0mkey\u001b[0m\u001b[0;34m,\u001b[0m \u001b[0mBody\u001b[0m\u001b[0;34m=\u001b[0m\u001b[0mbody\u001b[0m\u001b[0;34m,\u001b[0m \u001b[0;34m**\u001b[0m\u001b[0mextra_args\u001b[0m\u001b[0;34m)\u001b[0m\u001b[0;34m\u001b[0m\u001b[0;34m\u001b[0m\u001b[0m\n\u001b[0m\u001b[1;32m    693\u001b[0m \u001b[0;34m\u001b[0m\u001b[0m\n\u001b[1;32m    694\u001b[0m \u001b[0;34m\u001b[0m\u001b[0m\n",
      "\u001b[0;32m/usr/local/lib/python3.7/site-packages/botocore-1.12.253-py3.7.egg/botocore/client.py\u001b[0m in \u001b[0;36m_api_call\u001b[0;34m(self, *args, **kwargs)\u001b[0m\n\u001b[1;32m    355\u001b[0m                     \"%s() only accepts keyword arguments.\" % py_operation_name)\n\u001b[1;32m    356\u001b[0m             \u001b[0;31m# The \"self\" in this scope is referring to the BaseClient.\u001b[0m\u001b[0;34m\u001b[0m\u001b[0;34m\u001b[0m\u001b[0;34m\u001b[0m\u001b[0m\n\u001b[0;32m--> 357\u001b[0;31m             \u001b[0;32mreturn\u001b[0m \u001b[0mself\u001b[0m\u001b[0;34m.\u001b[0m\u001b[0m_make_api_call\u001b[0m\u001b[0;34m(\u001b[0m\u001b[0moperation_name\u001b[0m\u001b[0;34m,\u001b[0m \u001b[0mkwargs\u001b[0m\u001b[0;34m)\u001b[0m\u001b[0;34m\u001b[0m\u001b[0;34m\u001b[0m\u001b[0m\n\u001b[0m\u001b[1;32m    358\u001b[0m \u001b[0;34m\u001b[0m\u001b[0m\n\u001b[1;32m    359\u001b[0m         \u001b[0m_api_call\u001b[0m\u001b[0;34m.\u001b[0m\u001b[0m__name__\u001b[0m \u001b[0;34m=\u001b[0m \u001b[0mstr\u001b[0m\u001b[0;34m(\u001b[0m\u001b[0mpy_operation_name\u001b[0m\u001b[0;34m)\u001b[0m\u001b[0;34m\u001b[0m\u001b[0;34m\u001b[0m\u001b[0m\n",
      "\u001b[0;32m/usr/local/lib/python3.7/site-packages/botocore-1.12.253-py3.7.egg/botocore/client.py\u001b[0m in \u001b[0;36m_make_api_call\u001b[0;34m(self, operation_name, api_params)\u001b[0m\n\u001b[1;32m    632\u001b[0m         }\n\u001b[1;32m    633\u001b[0m         request_dict = self._convert_to_request_dict(\n\u001b[0;32m--> 634\u001b[0;31m             api_params, operation_model, context=request_context)\n\u001b[0m\u001b[1;32m    635\u001b[0m \u001b[0;34m\u001b[0m\u001b[0m\n\u001b[1;32m    636\u001b[0m         \u001b[0mservice_id\u001b[0m \u001b[0;34m=\u001b[0m \u001b[0mself\u001b[0m\u001b[0;34m.\u001b[0m\u001b[0m_service_model\u001b[0m\u001b[0;34m.\u001b[0m\u001b[0mservice_id\u001b[0m\u001b[0;34m.\u001b[0m\u001b[0mhyphenize\u001b[0m\u001b[0;34m(\u001b[0m\u001b[0;34m)\u001b[0m\u001b[0;34m\u001b[0m\u001b[0;34m\u001b[0m\u001b[0m\n",
      "\u001b[0;32m/usr/local/lib/python3.7/site-packages/botocore-1.12.253-py3.7.egg/botocore/client.py\u001b[0m in \u001b[0;36m_convert_to_request_dict\u001b[0;34m(self, api_params, operation_model, context)\u001b[0m\n\u001b[1;32m    678\u001b[0m                                  context=None):\n\u001b[1;32m    679\u001b[0m         api_params = self._emit_api_params(\n\u001b[0;32m--> 680\u001b[0;31m             api_params, operation_model, context)\n\u001b[0m\u001b[1;32m    681\u001b[0m         request_dict = self._serializer.serialize_to_request(\n\u001b[1;32m    682\u001b[0m             api_params, operation_model)\n",
      "\u001b[0;32m/usr/local/lib/python3.7/site-packages/botocore-1.12.253-py3.7.egg/botocore/client.py\u001b[0m in \u001b[0;36m_emit_api_params\u001b[0;34m(self, api_params, operation_model, context)\u001b[0m\n\u001b[1;32m    710\u001b[0m                 \u001b[0mservice_id\u001b[0m\u001b[0;34m=\u001b[0m\u001b[0mservice_id\u001b[0m\u001b[0;34m,\u001b[0m\u001b[0;34m\u001b[0m\u001b[0;34m\u001b[0m\u001b[0m\n\u001b[1;32m    711\u001b[0m                 operation_name=operation_name),\n\u001b[0;32m--> 712\u001b[0;31m             params=api_params, model=operation_model, context=context)\n\u001b[0m\u001b[1;32m    713\u001b[0m         \u001b[0;32mreturn\u001b[0m \u001b[0mapi_params\u001b[0m\u001b[0;34m\u001b[0m\u001b[0;34m\u001b[0m\u001b[0m\n\u001b[1;32m    714\u001b[0m \u001b[0;34m\u001b[0m\u001b[0m\n",
      "\u001b[0;32m/usr/local/lib/python3.7/site-packages/botocore-1.12.253-py3.7.egg/botocore/hooks.py\u001b[0m in \u001b[0;36memit\u001b[0;34m(self, event_name, **kwargs)\u001b[0m\n\u001b[1;32m    354\u001b[0m     \u001b[0;32mdef\u001b[0m \u001b[0memit\u001b[0m\u001b[0;34m(\u001b[0m\u001b[0mself\u001b[0m\u001b[0;34m,\u001b[0m \u001b[0mevent_name\u001b[0m\u001b[0;34m,\u001b[0m \u001b[0;34m**\u001b[0m\u001b[0mkwargs\u001b[0m\u001b[0;34m)\u001b[0m\u001b[0;34m:\u001b[0m\u001b[0;34m\u001b[0m\u001b[0;34m\u001b[0m\u001b[0m\n\u001b[1;32m    355\u001b[0m         \u001b[0maliased_event_name\u001b[0m \u001b[0;34m=\u001b[0m \u001b[0mself\u001b[0m\u001b[0;34m.\u001b[0m\u001b[0m_alias_event_name\u001b[0m\u001b[0;34m(\u001b[0m\u001b[0mevent_name\u001b[0m\u001b[0;34m)\u001b[0m\u001b[0;34m\u001b[0m\u001b[0;34m\u001b[0m\u001b[0m\n\u001b[0;32m--> 356\u001b[0;31m         \u001b[0;32mreturn\u001b[0m \u001b[0mself\u001b[0m\u001b[0;34m.\u001b[0m\u001b[0m_emitter\u001b[0m\u001b[0;34m.\u001b[0m\u001b[0memit\u001b[0m\u001b[0;34m(\u001b[0m\u001b[0maliased_event_name\u001b[0m\u001b[0;34m,\u001b[0m \u001b[0;34m**\u001b[0m\u001b[0mkwargs\u001b[0m\u001b[0;34m)\u001b[0m\u001b[0;34m\u001b[0m\u001b[0;34m\u001b[0m\u001b[0m\n\u001b[0m\u001b[1;32m    357\u001b[0m \u001b[0;34m\u001b[0m\u001b[0m\n\u001b[1;32m    358\u001b[0m     \u001b[0;32mdef\u001b[0m \u001b[0memit_until_response\u001b[0m\u001b[0;34m(\u001b[0m\u001b[0mself\u001b[0m\u001b[0;34m,\u001b[0m \u001b[0mevent_name\u001b[0m\u001b[0;34m,\u001b[0m \u001b[0;34m**\u001b[0m\u001b[0mkwargs\u001b[0m\u001b[0;34m)\u001b[0m\u001b[0;34m:\u001b[0m\u001b[0;34m\u001b[0m\u001b[0;34m\u001b[0m\u001b[0m\n",
      "\u001b[0;32m/usr/local/lib/python3.7/site-packages/botocore-1.12.253-py3.7.egg/botocore/hooks.py\u001b[0m in \u001b[0;36memit\u001b[0;34m(self, event_name, **kwargs)\u001b[0m\n\u001b[1;32m    226\u001b[0m                  \u001b[0mhandlers\u001b[0m\u001b[0;34m.\u001b[0m\u001b[0;34m\u001b[0m\u001b[0;34m\u001b[0m\u001b[0m\n\u001b[1;32m    227\u001b[0m         \"\"\"\n\u001b[0;32m--> 228\u001b[0;31m         \u001b[0;32mreturn\u001b[0m \u001b[0mself\u001b[0m\u001b[0;34m.\u001b[0m\u001b[0m_emit\u001b[0m\u001b[0;34m(\u001b[0m\u001b[0mevent_name\u001b[0m\u001b[0;34m,\u001b[0m \u001b[0mkwargs\u001b[0m\u001b[0;34m)\u001b[0m\u001b[0;34m\u001b[0m\u001b[0;34m\u001b[0m\u001b[0m\n\u001b[0m\u001b[1;32m    229\u001b[0m \u001b[0;34m\u001b[0m\u001b[0m\n\u001b[1;32m    230\u001b[0m     \u001b[0;32mdef\u001b[0m \u001b[0memit_until_response\u001b[0m\u001b[0;34m(\u001b[0m\u001b[0mself\u001b[0m\u001b[0;34m,\u001b[0m \u001b[0mevent_name\u001b[0m\u001b[0;34m,\u001b[0m \u001b[0;34m**\u001b[0m\u001b[0mkwargs\u001b[0m\u001b[0;34m)\u001b[0m\u001b[0;34m:\u001b[0m\u001b[0;34m\u001b[0m\u001b[0;34m\u001b[0m\u001b[0m\n",
      "\u001b[0;32m/usr/local/lib/python3.7/site-packages/botocore-1.12.253-py3.7.egg/botocore/hooks.py\u001b[0m in \u001b[0;36m_emit\u001b[0;34m(self, event_name, kwargs, stop_on_response)\u001b[0m\n\u001b[1;32m    209\u001b[0m         \u001b[0;32mfor\u001b[0m \u001b[0mhandler\u001b[0m \u001b[0;32min\u001b[0m \u001b[0mhandlers_to_call\u001b[0m\u001b[0;34m:\u001b[0m\u001b[0;34m\u001b[0m\u001b[0;34m\u001b[0m\u001b[0m\n\u001b[1;32m    210\u001b[0m             \u001b[0mlogger\u001b[0m\u001b[0;34m.\u001b[0m\u001b[0mdebug\u001b[0m\u001b[0;34m(\u001b[0m\u001b[0;34m'Event %s: calling handler %s'\u001b[0m\u001b[0;34m,\u001b[0m \u001b[0mevent_name\u001b[0m\u001b[0;34m,\u001b[0m \u001b[0mhandler\u001b[0m\u001b[0;34m)\u001b[0m\u001b[0;34m\u001b[0m\u001b[0;34m\u001b[0m\u001b[0m\n\u001b[0;32m--> 211\u001b[0;31m             \u001b[0mresponse\u001b[0m \u001b[0;34m=\u001b[0m \u001b[0mhandler\u001b[0m\u001b[0;34m(\u001b[0m\u001b[0;34m**\u001b[0m\u001b[0mkwargs\u001b[0m\u001b[0;34m)\u001b[0m\u001b[0;34m\u001b[0m\u001b[0;34m\u001b[0m\u001b[0m\n\u001b[0m\u001b[1;32m    212\u001b[0m             \u001b[0mresponses\u001b[0m\u001b[0;34m.\u001b[0m\u001b[0mappend\u001b[0m\u001b[0;34m(\u001b[0m\u001b[0;34m(\u001b[0m\u001b[0mhandler\u001b[0m\u001b[0;34m,\u001b[0m \u001b[0mresponse\u001b[0m\u001b[0;34m)\u001b[0m\u001b[0;34m)\u001b[0m\u001b[0;34m\u001b[0m\u001b[0;34m\u001b[0m\u001b[0m\n\u001b[1;32m    213\u001b[0m             \u001b[0;32mif\u001b[0m \u001b[0mstop_on_response\u001b[0m \u001b[0;32mand\u001b[0m \u001b[0mresponse\u001b[0m \u001b[0;32mis\u001b[0m \u001b[0;32mnot\u001b[0m \u001b[0;32mNone\u001b[0m\u001b[0;34m:\u001b[0m\u001b[0;34m\u001b[0m\u001b[0;34m\u001b[0m\u001b[0m\n",
      "\u001b[0;32m/usr/local/lib/python3.7/site-packages/botocore-1.12.253-py3.7.egg/botocore/handlers.py\u001b[0m in \u001b[0;36mvalidate_bucket_name\u001b[0;34m(params, **kwargs)\u001b[0m\n\u001b[1;32m    221\u001b[0m             \u001b[0;34m'Invalid bucket name \"%s\": Bucket name must match '\u001b[0m\u001b[0;34m\u001b[0m\u001b[0;34m\u001b[0m\u001b[0m\n\u001b[1;32m    222\u001b[0m             'the regex \"%s\"' % (bucket, VALID_BUCKET.pattern))\n\u001b[0;32m--> 223\u001b[0;31m         \u001b[0;32mraise\u001b[0m \u001b[0mParamValidationError\u001b[0m\u001b[0;34m(\u001b[0m\u001b[0mreport\u001b[0m\u001b[0;34m=\u001b[0m\u001b[0merror_msg\u001b[0m\u001b[0;34m)\u001b[0m\u001b[0;34m\u001b[0m\u001b[0;34m\u001b[0m\u001b[0m\n\u001b[0m\u001b[1;32m    224\u001b[0m \u001b[0;34m\u001b[0m\u001b[0m\n\u001b[1;32m    225\u001b[0m \u001b[0;34m\u001b[0m\u001b[0m\n",
      "\u001b[0;31mParamValidationError\u001b[0m: Parameter validation failed:\nInvalid bucket name \"parsons-tmc export\": Bucket name must match the regex \"^[a-zA-Z0-9.\\-_]{1,255}$\""
     ]
    }
   ],
   "source": [
    "if source_tbl.num_rows > 0:\n",
    "    logger.info(f\"{source_tbl.num_rows} new records found. Inserting into table\")\n",
    "    loaded = [['outreach_id', 'vanid', 'datecreated','sr_load', 'event_load']] #column names for our eventual Parsons Table of what we've loaded\n",
    "\n",
    "    for ppl in source_tbl:\n",
    "      logger.info(f\"Working on outreach_id={ppl['outreach_id']}\")\n",
    "      \n",
    "      # find contacts in ea\n",
    "      ea = van.find_person(first_name=ppl['first_name']\n",
    "                          ,last_name=ppl['last_name']\n",
    "                          ,email=ppl['email']\n",
    "                          ,phone=ppl['phone']\n",
    "                          ,zip=ppl['zip'])\n",
    "\n",
    "      if isinstance(ea, tuple):\n",
    "        logger.info(\"Issue loading to VAN!\")\n",
    "        vanids = [ppl['vanid'], 0, TIMESTAMP, 'Error', 'Error', 'Error', 'Error']\n",
    "        continue\n",
    "\n",
    "      logger.info(f\"Found in EveryAction as {ea['vanId']}...\")\n",
    "\n",
    "      # Survey Responses\n",
    "      try:\n",
    "          van.apply_survey_response(id=ea['vanId'],\n",
    "                                    id_type='vanid',\n",
    "                                    survey_question_id='163740',\n",
    "                                    survey_response_id=ppl['survey_response_id'],\n",
    "                                    contact_type_id='133', # relational call, phone = 1\n",
    "                                    date_canvassed=ppl['action_date'])\n",
    "      except:\n",
    "          logger.info(f\"Couldn't apply survey response\")\n",
    "\n",
    "      # Events (MDW only)\n",
    "      signup_id = None\n",
    "      if ppl['day_rank'] == 1:\n",
    "        # convert action date to a datetime date object\n",
    "        action_date = datetime.strptime(ppl['action_date'], '%Y-%m-%d %H:%M:%S').date()\n",
    "        # create variables to add and substract one day from the action date and convert the output to a string\n",
    "        action_date_after = str(action_date - timedelta(days=1))\n",
    "        action_date_before = str(action_date + timedelta(days=1))\n",
    "\n",
    "        # find the recurring mdw event that occurs on the day the new/mode action took place and store the event_id as a variable\n",
    "        find_mdw_event = van.get_events(event_type_ids=128562,starting_after={action_date_after}, starting_before={action_date_before})              \n",
    "        event_id = find_mdw_event['eventId']\n",
    "\n",
    "        # find the shift id for our event\n",
    "        shifts = find_mdw_event['shifts'][0][0]\n",
    "        # store shift id\n",
    "        shift_id = shifts['eventShiftId']\n",
    "\n",
    "        # static event values\n",
    "        role_id = 100541 \n",
    "        status_id = 2 # status = completed\n",
    "\n",
    "        try: \n",
    "          signup_id = van.create_signup(vanid=ea['vanId'],\n",
    "                            event_id=event_id, \n",
    "                            shift_id = shift_id, \n",
    "                            role_id = role_id, \n",
    "                            status_id = status_id)\n",
    "        except: \n",
    "          logger.info(f\"Couldn't create event signup\")\n",
    "\n",
    "      # Create list of key information for log table\n",
    "      vanids = [ppl['outreach_id'], ea['vanId'],TIMESTAMP,ppl['survey_response_id'],signup_id]\n",
    "\n",
    "      # Append list to log table\n",
    "      loaded.append(vanids)\n",
    "\n",
    "    logger.info(f\"Finished the loop! Now to load the work we've done into {LOG_TABLE}\")\n",
    "    Table(loaded).to_redshift(LOG_TABLE,if_exists='append')\n",
    "else:\n",
    "  # if there were 0 records from initial query\n",
    "  logger.info(\"No new data to send to EveryAction!\")"
   ]
  },
  {
   "cell_type": "code",
   "execution_count": null,
   "metadata": {},
   "outputs": [],
   "source": []
  }
 ],
 "metadata": {
  "kernelspec": {
   "display_name": "Python 3",
   "language": "python",
   "name": "python3"
  },
  "language_info": {
   "codemirror_mode": {
    "name": "ipython",
    "version": 3
   },
   "file_extension": ".py",
   "mimetype": "text/x-python",
   "name": "python",
   "nbconvert_exporter": "python",
   "pygments_lexer": "ipython3",
   "version": "3.7.7"
  }
 },
 "nbformat": 4,
 "nbformat_minor": 4
}
